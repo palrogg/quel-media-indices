{
 "cells": [
  {
   "cell_type": "code",
   "execution_count": 7,
   "metadata": {},
   "outputs": [
    {
     "name": "stdout",
     "output_type": "stream",
     "text": [
      "[138, 170, 155, 243, 232]\n",
      "['sadf', 1997, 1998, 1999, 2000]\n",
      "<Container object of 5 artists>\n",
      "0.4 138\n",
      "135.24 4.0 4.0\n",
      "0.4 170\n",
      "166.6 0.0 0.0\n",
      "0.4 155\n",
      "151.9 1.0 1.0\n",
      "0.4 243\n",
      "238.14 2.0 2.0\n",
      "0.4 232\n",
      "227.35999999999999 3.0 3.0\n"
     ]
    },
    {
     "data": {
      "image/png": "[encoded data removed]",
      "text/plain": [
       "<matplotlib.figure.Figure at 0x11276f2b0>"
      ]
     },
     "metadata": {},
     "output_type": "display_data"
    }
   ],
   "source": [
    "import matplotlib.pyplot as plt\n",
    "\n",
    "count = ['138','170','155','243','232']\n",
    "platform =['Tribune de Genève','Le Temps','Machin Truc','Asdf','Gnagnagna']\n",
    "def autolabel(rects):\n",
    "# attach some text labels\n",
    "    for ii,rect in enumerate(rects):\n",
    "        width = int(rect.get_width())\n",
    "\n",
    "        height = rect.get_height()\n",
    "        print(height,width)\n",
    "        yloc1=rect.get_y() + height /2.0\n",
    "        yloc2=rect.get_y() + height /2.0\n",
    "        if (width <= 5):\n",
    "            # Shift the text to the right side of the right edge\n",
    "            xloc1 = width + 1\n",
    "            yloc2=yloc2+0.3\n",
    "            # Black against white background\n",
    "            clr = 'black'\n",
    "            align = 'left'\n",
    "        else:\n",
    "            # Shift the text to the left side of the right edge\n",
    "            xloc1 = 0.98*width\n",
    "            # White on blue\n",
    "            clr = 'white'\n",
    "            align = 'right'\n",
    "        yloc1=rect.get_y() + height /2.0\n",
    "        print(xloc1,yloc1,yloc2)\n",
    "        ax.text(xloc1,yloc1, '%s'% (count[ii]),horizontalalignment=align,\n",
    "                         verticalalignment='center',color=clr,weight='bold',\n",
    "                         clip_on=True)\n",
    "        ax.text(5,yloc2, '%s'% (platform[ii]),horizontalalignment='left',\n",
    "                         verticalalignment='center',color=clr,weight='bold',\n",
    "                         clip_on=True)\n",
    "\n",
    "\n",
    "val = [138,170,155,243,232]\n",
    "print(val)# the bar lengths or count in your case\n",
    "pos = [ 'sadf' , 1997,  1998,  1999,  2000]    # the bar centers on the y axis\n",
    "print(pos)\n",
    "\n",
    "fig = plt.figure()\n",
    "ax = fig.add_subplot(111)\n",
    "rects = ax.barh(pos,val, align='center',height=0.4)\n",
    "print(rects)\n",
    "autolabel(rects)\n",
    "ax.set_ylabel('Ici pas ')\n",
    "ax.set_xlabel('Count')\n",
    "ax.set_title('horizontal bar chart')\n",
    "ax.grid(False)\n",
    "plt.savefig(\"horizontal.pdf\")\n",
    "plt.show()\n"
   ]
  }
 ],
 "metadata": {
  "kernelspec": {
   "display_name": "Python 3",
   "language": "python",
   "name": "python3"
  },
  "language_info": {
   "codemirror_mode": {
    "name": "ipython",
    "version": 3
   },
   "file_extension": ".py",
   "mimetype": "text/x-python",
   "name": "python",
   "nbconvert_exporter": "python",
   "pygments_lexer": "ipython3",
   "version": "3.5.1"
  }
 },
 "nbformat": 4,
 "nbformat_minor": 2
}
