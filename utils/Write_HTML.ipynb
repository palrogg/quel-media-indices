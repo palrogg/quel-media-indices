{
 "cells": [
  {
   "cell_type": "code",
   "execution_count": 1,
   "metadata": {
    "collapsed": true
   },
   "outputs": [],
   "source": [
    "import pandas as pd"
   ]
  },
  {
   "cell_type": "code",
   "execution_count": 2,
   "metadata": {
    "collapsed": true
   },
   "outputs": [],
   "source": [
    "df = pd.read_csv('df/media_results_2018-06-16.csv')"
   ]
  },
  {
   "cell_type": "code",
   "execution_count": 7,
   "metadata": {},
   "outputs": [
    {
     "name": "stdout",
     "output_type": "stream",
     "text": [
      "<p><span class=\"keyword\">signed</span>ZZZZZZ</p>\n",
      "<p><span class=\"keyword\">varied</span>ZZZZZZ</p>\n",
      "<p><span class=\"keyword\">international</span>ZZZZZZ</p>\n",
      "<p><span class=\"keyword\">digitalfirst</span>ZZZZZZ</p>\n",
      "<p><span class=\"keyword\">fast</span>ZZZZZZ</p>\n"
     ]
    }
   ],
   "source": [
    "for col in ['signed', 'varied', 'international', 'digitalfirst', 'fast']:\n",
    "    print('<p><span class=\"keyword\">{}</span>ZZZZZZ</p>'.format(col))"
   ]
  }
 ],
 "metadata": {
  "kernelspec": {
   "display_name": "Python 3",
   "language": "python",
   "name": "python3"
  },
  "language_info": {
   "codemirror_mode": {
    "name": "ipython",
    "version": 3
   },
   "file_extension": ".py",
   "mimetype": "text/x-python",
   "name": "python",
   "nbconvert_exporter": "python",
   "pygments_lexer": "ipython3",
   "version": "3.5.1"
  }
 },
 "nbformat": 4,
 "nbformat_minor": 2
}
