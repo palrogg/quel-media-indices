{
 "cells": [
  {
   "cell_type": "markdown",
   "metadata": {},
   "source": [
    "# Main Metrics\n",
    "\n",
    "This notebook:\n",
    "\n",
    "1) Loads a list of stories as input\n",
    "\n",
    "2) Computes following ratios and indices\n",
    "\n",
    "* signed (%)\n",
    "* digital first (0 to 100)\n",
    "* international (%)\n",
    "* varied (0 to 100)\n",
    "* fast (0 to 100)\n",
    "\n",
    "3) Exports data for the selected time frame\n",
    "\n",
    "© Paul Ronga under Apache-2 Licence (see LICENCE.txt)."
   ]
  },
  {
   "cell_type": "code",
   "execution_count": 1,
   "metadata": {
    "collapsed": true
   },
   "outputs": [],
   "source": [
    "import pandas as pd\n",
    "import requests\n",
    "from IPython.display import HTML\n",
    "import json\n",
    "from bs4 import BeautifulSoup\n",
    "import datetime"
   ]
  },
  {
   "cell_type": "code",
   "execution_count": 4,
   "metadata": {},
   "outputs": [],
   "source": [
    "medias = pd.read_csv('df/media_list.csv', usecols=['media_id', 'Name'])"
   ]
  },
  {
   "cell_type": "code",
   "execution_count": 5,
   "metadata": {
    "collapsed": true
   },
   "outputs": [],
   "source": [
    "df = pd.read_csv('df/stories.csv')\n",
    "# df = pd.read_csv('df/stories-minutes-day.csv')"
   ]
  },
  {
   "cell_type": "markdown",
   "metadata": {},
   "source": [
    "## Select the time frame"
   ]
  },
  {
   "cell_type": "code",
   "execution_count": 25,
   "metadata": {},
   "outputs": [
    {
     "name": "stdout",
     "output_type": "stream",
     "text": [
      "Last Sunday should be June 17, 6 days ago.\n",
      "The previous Monday should be June 11.\n"
     ]
    }
   ],
   "source": [
    "# Get and check the last week's time frame\n",
    "\n",
    "today = datetime.datetime.now()\n",
    "delta_days = (today.weekday() + 1) % 7\n",
    "today - datetime.timedelta(7 + delta_days)\n",
    "\n",
    "\n",
    "last_sunday = today - datetime.timedelta(delta_days)\n",
    "last_monday = last_sunday - datetime.timedelta(6)\n",
    "print('Last Sunday should be {}, {} days ago.'.format(last_sunday.strftime('%B %d') , delta_days ))\n",
    "print('The previous Monday should be {}.'.format(last_monday.strftime('%B %d') , delta_days ))"
   ]
  },
  {
   "cell_type": "code",
   "execution_count": 31,
   "metadata": {
    "collapsed": true
   },
   "outputs": [],
   "source": [
    "# Date index\n",
    "df['time_start'] = pd.to_datetime(df['time_start'])\n",
    "df['time_end'] = pd.to_datetime(df['time_end'])\n",
    "df.index = df['time_start']"
   ]
  },
  {
   "cell_type": "code",
   "execution_count": 32,
   "metadata": {},
   "outputs": [
    {
     "data": {
      "text/plain": [
       "(1322, 19)"
      ]
     },
     "execution_count": 32,
     "metadata": {},
     "output_type": "execute_result"
    }
   ],
   "source": [
    "start_timestamp = last_monday.strftime('%Y-%m-%d')\n",
    "end_timestamp = last_sunday.strftime('%Y-%m-%d')\n",
    "df[start_timestamp:end_timestamp].shape"
   ]
  },
  {
   "cell_type": "code",
   "execution_count": 33,
   "metadata": {
    "collapsed": true
   },
   "outputs": [],
   "source": [
    "df = df[start_timestamp:end_timestamp].copy()"
   ]
  },
  {
   "cell_type": "code",
   "execution_count": 404,
   "metadata": {},
   "outputs": [
    {
     "data": {
      "text/plain": [
       "(1057, 21)"
      ]
     },
     "execution_count": 404,
     "metadata": {},
     "output_type": "execute_result"
    }
   ],
   "source": [
    "df['2018-06-03':'2018-06-09'].shape"
   ]
  },
  {
   "cell_type": "code",
   "execution_count": 405,
   "metadata": {},
   "outputs": [
    {
     "data": {
      "text/plain": [
       "(2157, 21)"
      ]
     },
     "execution_count": 405,
     "metadata": {},
     "output_type": "execute_result"
    }
   ],
   "source": [
    "df.shape"
   ]
  },
  {
   "cell_type": "code",
   "execution_count": 406,
   "metadata": {},
   "outputs": [
    {
     "data": {
      "text/plain": [
       "(2157, 21)"
      ]
     },
     "execution_count": 406,
     "metadata": {},
     "output_type": "execute_result"
    }
   ],
   "source": [
    "# 2 semaines\n",
    "df['2018-05-27':'2018-06-09'].shape"
   ]
  },
  {
   "cell_type": "code",
   "execution_count": 407,
   "metadata": {
    "collapsed": true
   },
   "outputs": [],
   "source": [
    "df = df['2018-05-27':'2018-06-09'].copy()"
   ]
  },
  {
   "cell_type": "code",
   "execution_count": 8,
   "metadata": {},
   "outputs": [
    {
     "data": {
      "text/html": [
       "<div>\n",
       "<style scoped>\n",
       "    .dataframe tbody tr th:only-of-type {\n",
       "        vertical-align: middle;\n",
       "    }\n",
       "\n",
       "    .dataframe tbody tr th {\n",
       "        vertical-align: top;\n",
       "    }\n",
       "\n",
       "    .dataframe thead th {\n",
       "        text-align: right;\n",
       "    }\n",
       "</style>\n",
       "<table border=\"1\" class=\"dataframe\">\n",
       "  <thead>\n",
       "    <tr style=\"text-align: right;\">\n",
       "      <th></th>\n",
       "      <th>id</th>\n",
       "      <th>title</th>\n",
       "      <th>absolute_url</th>\n",
       "      <th>time_start</th>\n",
       "      <th>time_end</th>\n",
       "      <th>minutes</th>\n",
       "      <th>delta_str</th>\n",
       "      <th>link</th>\n",
       "      <th>media</th>\n",
       "      <th>media_id</th>\n",
       "      <th>server_time</th>\n",
       "      <th>author</th>\n",
       "      <th>story_time</th>\n",
       "      <th>agency</th>\n",
       "      <th>editor</th>\n",
       "      <th>heading</th>\n",
       "      <th>domains</th>\n",
       "      <th>paywall</th>\n",
       "      <th>hide</th>\n",
       "    </tr>\n",
       "    <tr>\n",
       "      <th>time_start</th>\n",
       "      <th></th>\n",
       "      <th></th>\n",
       "      <th></th>\n",
       "      <th></th>\n",
       "      <th></th>\n",
       "      <th></th>\n",
       "      <th></th>\n",
       "      <th></th>\n",
       "      <th></th>\n",
       "      <th></th>\n",
       "      <th></th>\n",
       "      <th></th>\n",
       "      <th></th>\n",
       "      <th></th>\n",
       "      <th></th>\n",
       "      <th></th>\n",
       "      <th></th>\n",
       "      <th></th>\n",
       "      <th></th>\n",
       "    </tr>\n",
       "  </thead>\n",
       "  <tbody>\n",
       "    <tr>\n",
       "      <th>2018-06-11 10:03:00</th>\n",
       "      <td>12909</td>\n",
       "      <td>Erreur 502 de la homepage</td>\n",
       "      <td>https://www.lematin.ch/</td>\n",
       "      <td>2018-06-11 10:03:00</td>\n",
       "      <td>2018-06-11 10:06:00</td>\n",
       "      <td>3</td>\n",
       "      <td>3’</td>\n",
       "      <td>NaN</td>\n",
       "      <td>https://www.lematin.ch/</td>\n",
       "      <td>25</td>\n",
       "      <td>0.0235</td>\n",
       "      <td>Christine Talos</td>\n",
       "      <td>0.1386</td>\n",
       "      <td>0</td>\n",
       "      <td>1</td>\n",
       "      <td>NaN</td>\n",
       "      <td>NaN</td>\n",
       "      <td>0</td>\n",
       "      <td>0</td>\n",
       "    </tr>\n",
       "    <tr>\n",
       "      <th>2018-06-11 10:06:00</th>\n",
       "      <td>12910</td>\n",
       "      <td>Erreur 502 de la homepage</td>\n",
       "      <td>https://www.lematin.ch/</td>\n",
       "      <td>2018-06-11 10:06:00</td>\n",
       "      <td>2018-06-11 10:09:00</td>\n",
       "      <td>3</td>\n",
       "      <td>3’</td>\n",
       "      <td>NaN</td>\n",
       "      <td>https://www.lematin.ch/</td>\n",
       "      <td>25</td>\n",
       "      <td>0.0295</td>\n",
       "      <td>Christine Talos</td>\n",
       "      <td>0.1438</td>\n",
       "      <td>0</td>\n",
       "      <td>1</td>\n",
       "      <td>NaN</td>\n",
       "      <td>NaN</td>\n",
       "      <td>0</td>\n",
       "      <td>0</td>\n",
       "    </tr>\n",
       "    <tr>\n",
       "      <th>2018-06-11 10:09:00</th>\n",
       "      <td>12911</td>\n",
       "      <td>Erreur 502 de la homepage</td>\n",
       "      <td>https://www.lematin.ch/</td>\n",
       "      <td>2018-06-11 10:09:00</td>\n",
       "      <td>2018-06-11 10:12:00</td>\n",
       "      <td>3</td>\n",
       "      <td>3’</td>\n",
       "      <td>NaN</td>\n",
       "      <td>https://www.lematin.ch/</td>\n",
       "      <td>25</td>\n",
       "      <td>0.0349</td>\n",
       "      <td>Christine Talos</td>\n",
       "      <td>0.0806</td>\n",
       "      <td>0</td>\n",
       "      <td>1</td>\n",
       "      <td>NaN</td>\n",
       "      <td>NaN</td>\n",
       "      <td>0</td>\n",
       "      <td>0</td>\n",
       "    </tr>\n",
       "    <tr>\n",
       "      <th>2018-06-11 10:12:00</th>\n",
       "      <td>12912</td>\n",
       "      <td>Erreur 502 de la homepage</td>\n",
       "      <td>https://www.lematin.ch/</td>\n",
       "      <td>2018-06-11 10:12:00</td>\n",
       "      <td>2018-06-11 10:15:00</td>\n",
       "      <td>3</td>\n",
       "      <td>3’</td>\n",
       "      <td>NaN</td>\n",
       "      <td>https://www.lematin.ch/</td>\n",
       "      <td>25</td>\n",
       "      <td>0.0292</td>\n",
       "      <td>Christine Talos</td>\n",
       "      <td>0.0936</td>\n",
       "      <td>0</td>\n",
       "      <td>1</td>\n",
       "      <td>NaN</td>\n",
       "      <td>NaN</td>\n",
       "      <td>0</td>\n",
       "      <td>0</td>\n",
       "    </tr>\n",
       "    <tr>\n",
       "      <th>2018-06-11 10:15:00</th>\n",
       "      <td>12913</td>\n",
       "      <td>Erreur 502 de la homepage</td>\n",
       "      <td>https://www.lematin.ch/</td>\n",
       "      <td>2018-06-11 10:15:00</td>\n",
       "      <td>2018-06-11 10:18:00</td>\n",
       "      <td>3</td>\n",
       "      <td>3’</td>\n",
       "      <td>NaN</td>\n",
       "      <td>https://www.lematin.ch/</td>\n",
       "      <td>25</td>\n",
       "      <td>0.0259</td>\n",
       "      <td>Christine Talos</td>\n",
       "      <td>0.1473</td>\n",
       "      <td>0</td>\n",
       "      <td>1</td>\n",
       "      <td>NaN</td>\n",
       "      <td>NaN</td>\n",
       "      <td>0</td>\n",
       "      <td>0</td>\n",
       "    </tr>\n",
       "    <tr>\n",
       "      <th>2018-06-11 14:09:00</th>\n",
       "      <td>12976</td>\n",
       "      <td>Erreur 502 de la homepage</td>\n",
       "      <td>https://www.lematin.ch/</td>\n",
       "      <td>2018-06-11 14:09:00</td>\n",
       "      <td>NaT</td>\n",
       "      <td>0</td>\n",
       "      <td>NaN</td>\n",
       "      <td>NaN</td>\n",
       "      <td>https://www.lematin.ch/</td>\n",
       "      <td>25</td>\n",
       "      <td>0.0283</td>\n",
       "      <td>Evelyne Emeri</td>\n",
       "      <td>0.0883</td>\n",
       "      <td>0</td>\n",
       "      <td>1</td>\n",
       "      <td>NaN</td>\n",
       "      <td>NaN</td>\n",
       "      <td>0</td>\n",
       "      <td>0</td>\n",
       "    </tr>\n",
       "    <tr>\n",
       "      <th>2018-06-11 16:48:00</th>\n",
       "      <td>13005</td>\n",
       "      <td>Erreur 502 de la homepage</td>\n",
       "      <td>https://www.lematin.ch/</td>\n",
       "      <td>2018-06-11 16:48:00</td>\n",
       "      <td>2018-06-11 16:51:00</td>\n",
       "      <td>3</td>\n",
       "      <td>3’</td>\n",
       "      <td>NaN</td>\n",
       "      <td>https://www.lematin.ch/</td>\n",
       "      <td>25</td>\n",
       "      <td>0.0281</td>\n",
       "      <td>Trinidad Barleycorn</td>\n",
       "      <td>0.0934</td>\n",
       "      <td>0</td>\n",
       "      <td>1</td>\n",
       "      <td>NaN</td>\n",
       "      <td>NaN</td>\n",
       "      <td>0</td>\n",
       "      <td>0</td>\n",
       "    </tr>\n",
       "    <tr>\n",
       "      <th>2018-06-12 00:00:00</th>\n",
       "      <td>13080</td>\n",
       "      <td>Erreur 503 de la homepage</td>\n",
       "      <td>https://www.20min.ch/ro/</td>\n",
       "      <td>2018-06-12 00:00:00</td>\n",
       "      <td>2018-06-12 00:03:00</td>\n",
       "      <td>3</td>\n",
       "      <td>3’</td>\n",
       "      <td>NaN</td>\n",
       "      <td>https://www.20min.ch/ro/</td>\n",
       "      <td>24</td>\n",
       "      <td>3.9833</td>\n",
       "      <td>NaN</td>\n",
       "      <td>0.9078</td>\n",
       "      <td>0</td>\n",
       "      <td>0</td>\n",
       "      <td>NaN</td>\n",
       "      <td>NaN</td>\n",
       "      <td>0</td>\n",
       "      <td>0</td>\n",
       "    </tr>\n",
       "  </tbody>\n",
       "</table>\n",
       "</div>"
      ],
      "text/plain": [
       "                        id                      title  \\\n",
       "time_start                                              \n",
       "2018-06-11 10:03:00  12909  Erreur 502 de la homepage   \n",
       "2018-06-11 10:06:00  12910  Erreur 502 de la homepage   \n",
       "2018-06-11 10:09:00  12911  Erreur 502 de la homepage   \n",
       "2018-06-11 10:12:00  12912  Erreur 502 de la homepage   \n",
       "2018-06-11 10:15:00  12913  Erreur 502 de la homepage   \n",
       "2018-06-11 14:09:00  12976  Erreur 502 de la homepage   \n",
       "2018-06-11 16:48:00  13005  Erreur 502 de la homepage   \n",
       "2018-06-12 00:00:00  13080  Erreur 503 de la homepage   \n",
       "\n",
       "                                 absolute_url          time_start  \\\n",
       "time_start                                                          \n",
       "2018-06-11 10:03:00   https://www.lematin.ch/ 2018-06-11 10:03:00   \n",
       "2018-06-11 10:06:00   https://www.lematin.ch/ 2018-06-11 10:06:00   \n",
       "2018-06-11 10:09:00   https://www.lematin.ch/ 2018-06-11 10:09:00   \n",
       "2018-06-11 10:12:00   https://www.lematin.ch/ 2018-06-11 10:12:00   \n",
       "2018-06-11 10:15:00   https://www.lematin.ch/ 2018-06-11 10:15:00   \n",
       "2018-06-11 14:09:00   https://www.lematin.ch/ 2018-06-11 14:09:00   \n",
       "2018-06-11 16:48:00   https://www.lematin.ch/ 2018-06-11 16:48:00   \n",
       "2018-06-12 00:00:00  https://www.20min.ch/ro/ 2018-06-12 00:00:00   \n",
       "\n",
       "                               time_end  minutes delta_str link  \\\n",
       "time_start                                                        \n",
       "2018-06-11 10:03:00 2018-06-11 10:06:00        3        3’  NaN   \n",
       "2018-06-11 10:06:00 2018-06-11 10:09:00        3        3’  NaN   \n",
       "2018-06-11 10:09:00 2018-06-11 10:12:00        3        3’  NaN   \n",
       "2018-06-11 10:12:00 2018-06-11 10:15:00        3        3’  NaN   \n",
       "2018-06-11 10:15:00 2018-06-11 10:18:00        3        3’  NaN   \n",
       "2018-06-11 14:09:00                 NaT        0       NaN  NaN   \n",
       "2018-06-11 16:48:00 2018-06-11 16:51:00        3        3’  NaN   \n",
       "2018-06-12 00:00:00 2018-06-12 00:03:00        3        3’  NaN   \n",
       "\n",
       "                                        media  media_id  server_time  \\\n",
       "time_start                                                             \n",
       "2018-06-11 10:03:00   https://www.lematin.ch/        25       0.0235   \n",
       "2018-06-11 10:06:00   https://www.lematin.ch/        25       0.0295   \n",
       "2018-06-11 10:09:00   https://www.lematin.ch/        25       0.0349   \n",
       "2018-06-11 10:12:00   https://www.lematin.ch/        25       0.0292   \n",
       "2018-06-11 10:15:00   https://www.lematin.ch/        25       0.0259   \n",
       "2018-06-11 14:09:00   https://www.lematin.ch/        25       0.0283   \n",
       "2018-06-11 16:48:00   https://www.lematin.ch/        25       0.0281   \n",
       "2018-06-12 00:00:00  https://www.20min.ch/ro/        24       3.9833   \n",
       "\n",
       "                                  author  story_time  agency  editor  heading  \\\n",
       "time_start                                                                      \n",
       "2018-06-11 10:03:00      Christine Talos      0.1386       0       1      NaN   \n",
       "2018-06-11 10:06:00      Christine Talos      0.1438       0       1      NaN   \n",
       "2018-06-11 10:09:00      Christine Talos      0.0806       0       1      NaN   \n",
       "2018-06-11 10:12:00      Christine Talos      0.0936       0       1      NaN   \n",
       "2018-06-11 10:15:00      Christine Talos      0.1473       0       1      NaN   \n",
       "2018-06-11 14:09:00        Evelyne Emeri      0.0883       0       1      NaN   \n",
       "2018-06-11 16:48:00  Trinidad Barleycorn      0.0934       0       1      NaN   \n",
       "2018-06-12 00:00:00                  NaN      0.9078       0       0      NaN   \n",
       "\n",
       "                     domains  paywall  hide  \n",
       "time_start                                   \n",
       "2018-06-11 10:03:00      NaN        0     0  \n",
       "2018-06-11 10:06:00      NaN        0     0  \n",
       "2018-06-11 10:09:00      NaN        0     0  \n",
       "2018-06-11 10:12:00      NaN        0     0  \n",
       "2018-06-11 10:15:00      NaN        0     0  \n",
       "2018-06-11 14:09:00      NaN        0     0  \n",
       "2018-06-11 16:48:00      NaN        0     0  \n",
       "2018-06-12 00:00:00      NaN        0     0  "
      ]
     },
     "execution_count": 8,
     "metadata": {},
     "output_type": "execute_result"
    }
   ],
   "source": [
    "df[df['link'] != df['link']]"
   ]
  },
  {
   "cell_type": "code",
   "execution_count": 9,
   "metadata": {
    "collapsed": true
   },
   "outputs": [],
   "source": [
    "df = df[df['link'] == df['link']].copy()\n",
    "df = df[df['link'] != '#'].copy()"
   ]
  },
  {
   "cell_type": "code",
   "execution_count": 10,
   "metadata": {},
   "outputs": [
    {
     "data": {
      "text/plain": [
       "(1028, 19)"
      ]
     },
     "execution_count": 10,
     "metadata": {},
     "output_type": "execute_result"
    }
   ],
   "source": [
    "df.shape"
   ]
  },
  {
   "cell_type": "code",
   "execution_count": 410,
   "metadata": {
    "collapsed": true
   },
   "outputs": [],
   "source": [
    "# 1 semaine\n",
    "# df = df['2018-06-03':'2018-06-09'].copy()"
   ]
  },
  {
   "cell_type": "markdown",
   "metadata": {},
   "source": [
    "## Retour à un index numérique"
   ]
  },
  {
   "cell_type": "code",
   "execution_count": 13,
   "metadata": {
    "collapsed": true
   },
   "outputs": [],
   "source": [
    "df.index = df.id"
   ]
  },
  {
   "cell_type": "code",
   "execution_count": 14,
   "metadata": {},
   "outputs": [
    {
     "data": {
      "text/html": [
       "<div>\n",
       "<style scoped>\n",
       "    .dataframe tbody tr th:only-of-type {\n",
       "        vertical-align: middle;\n",
       "    }\n",
       "\n",
       "    .dataframe tbody tr th {\n",
       "        vertical-align: top;\n",
       "    }\n",
       "\n",
       "    .dataframe thead th {\n",
       "        text-align: right;\n",
       "    }\n",
       "</style>\n",
       "<table border=\"1\" class=\"dataframe\">\n",
       "  <thead>\n",
       "    <tr style=\"text-align: right;\">\n",
       "      <th></th>\n",
       "      <th>id</th>\n",
       "      <th>title</th>\n",
       "      <th>absolute_url</th>\n",
       "      <th>time_start</th>\n",
       "      <th>time_end</th>\n",
       "      <th>minutes</th>\n",
       "      <th>delta_str</th>\n",
       "      <th>link</th>\n",
       "      <th>media</th>\n",
       "      <th>media_id</th>\n",
       "      <th>server_time</th>\n",
       "      <th>author</th>\n",
       "      <th>story_time</th>\n",
       "      <th>agency</th>\n",
       "      <th>editor</th>\n",
       "      <th>heading</th>\n",
       "      <th>domains</th>\n",
       "      <th>paywall</th>\n",
       "      <th>hide</th>\n",
       "    </tr>\n",
       "    <tr>\n",
       "      <th>id</th>\n",
       "      <th></th>\n",
       "      <th></th>\n",
       "      <th></th>\n",
       "      <th></th>\n",
       "      <th></th>\n",
       "      <th></th>\n",
       "      <th></th>\n",
       "      <th></th>\n",
       "      <th></th>\n",
       "      <th></th>\n",
       "      <th></th>\n",
       "      <th></th>\n",
       "      <th></th>\n",
       "      <th></th>\n",
       "      <th></th>\n",
       "      <th></th>\n",
       "      <th></th>\n",
       "      <th></th>\n",
       "      <th></th>\n",
       "    </tr>\n",
       "  </thead>\n",
       "  <tbody>\n",
       "  </tbody>\n",
       "</table>\n",
       "</div>"
      ],
      "text/plain": [
       "Empty DataFrame\n",
       "Columns: [id, title, absolute_url, time_start, time_end, minutes, delta_str, link, media, media_id, server_time, author, story_time, agency, editor, heading, domains, paywall, hide]\n",
       "Index: []"
      ]
     },
     "execution_count": 14,
     "metadata": {},
     "output_type": "execute_result"
    }
   ],
   "source": [
    "df[df.index.duplicated()]"
   ]
  },
  {
   "cell_type": "code",
   "execution_count": 15,
   "metadata": {},
   "outputs": [
    {
     "data": {
      "text/plain": [
       "(275, 19)"
      ]
     },
     "execution_count": 15,
     "metadata": {},
     "output_type": "execute_result"
    }
   ],
   "source": [
    "df[df.time_start.duplicated()].shape"
   ]
  },
  {
   "cell_type": "code",
   "execution_count": 24,
   "metadata": {
    "collapsed": true
   },
   "outputs": [],
   "source": [
    "# On retire Konbini Suisse et France\n",
    "df = df[df['media_id'] < 34].copy()\n",
    "medias = medias[medias['media_id'] < 34].copy()"
   ]
  },
  {
   "cell_type": "markdown",
   "metadata": {},
   "source": [
    "# Editeur"
   ]
  },
  {
   "cell_type": "code",
   "execution_count": 21,
   "metadata": {
    "collapsed": true
   },
   "outputs": [],
   "source": [
    "def getEditorRatio(_group):\n",
    "    if len(_group) == 0:\n",
    "        print('Error: length is 0')\n",
    "        return False\n",
    "    print('Editor ratio for {}: {} / {}'.format(_group['media'].values[0], len(_group[_group['editor'] == 1]), len(_group)))\n",
    "    return len(_group[_group['editor'] == 1]) / len(_group)"
   ]
  },
  {
   "cell_type": "code",
   "execution_count": 18,
   "metadata": {
    "collapsed": true
   },
   "outputs": [],
   "source": [
    "# La Liberté\n",
    "for i, row in df[df['media_id'] == 32].iterrows():\n",
    "    if row['link'].split('/')[1] == 'news-agence':\n",
    "        df.at[i, 'agency'] = 1\n",
    "    else:\n",
    "        df.at[i, 'editor'] = 1"
   ]
  },
  {
   "cell_type": "code",
   "execution_count": 19,
   "metadata": {},
   "outputs": [
    {
     "data": {
      "text/html": [
       "<div>\n",
       "<style scoped>\n",
       "    .dataframe tbody tr th:only-of-type {\n",
       "        vertical-align: middle;\n",
       "    }\n",
       "\n",
       "    .dataframe tbody tr th {\n",
       "        vertical-align: top;\n",
       "    }\n",
       "\n",
       "    .dataframe thead th {\n",
       "        text-align: right;\n",
       "    }\n",
       "</style>\n",
       "<table border=\"1\" class=\"dataframe\">\n",
       "  <thead>\n",
       "    <tr style=\"text-align: right;\">\n",
       "      <th></th>\n",
       "      <th>id</th>\n",
       "      <th>title</th>\n",
       "      <th>absolute_url</th>\n",
       "      <th>time_start</th>\n",
       "      <th>time_end</th>\n",
       "      <th>minutes</th>\n",
       "      <th>delta_str</th>\n",
       "      <th>link</th>\n",
       "      <th>media</th>\n",
       "      <th>media_id</th>\n",
       "      <th>server_time</th>\n",
       "      <th>author</th>\n",
       "      <th>story_time</th>\n",
       "      <th>agency</th>\n",
       "      <th>editor</th>\n",
       "      <th>heading</th>\n",
       "      <th>domains</th>\n",
       "      <th>paywall</th>\n",
       "      <th>hide</th>\n",
       "    </tr>\n",
       "    <tr>\n",
       "      <th>id</th>\n",
       "      <th></th>\n",
       "      <th></th>\n",
       "      <th></th>\n",
       "      <th></th>\n",
       "      <th></th>\n",
       "      <th></th>\n",
       "      <th></th>\n",
       "      <th></th>\n",
       "      <th></th>\n",
       "      <th></th>\n",
       "      <th></th>\n",
       "      <th></th>\n",
       "      <th></th>\n",
       "      <th></th>\n",
       "      <th></th>\n",
       "      <th></th>\n",
       "      <th></th>\n",
       "      <th></th>\n",
       "      <th></th>\n",
       "    </tr>\n",
       "  </thead>\n",
       "  <tbody>\n",
       "    <tr>\n",
       "      <th>12882</th>\n",
       "      <td>12882</td>\n",
       "      <td>Fribourg Olympic triple la mise</td>\n",
       "      <td>https://www.laliberte.ch/news/sports/basketbal...</td>\n",
       "      <td>2018-06-11 06:48:00</td>\n",
       "      <td>2018-06-11 11:51:00</td>\n",
       "      <td>303</td>\n",
       "      <td>5h03</td>\n",
       "      <td>/news/sports/basketball/fribourg-olympic-tripl...</td>\n",
       "      <td>https://www.laliberte.ch/</td>\n",
       "      <td>32</td>\n",
       "      <td>29.5923</td>\n",
       "      <td>NaN</td>\n",
       "      <td>0.6001</td>\n",
       "      <td>0</td>\n",
       "      <td>1</td>\n",
       "      <td>NaN</td>\n",
       "      <td>NaN</td>\n",
       "      <td>1</td>\n",
       "      <td>0</td>\n",
       "    </tr>\n",
       "    <tr>\n",
       "      <th>12937</th>\n",
       "      <td>12937</td>\n",
       "      <td>La Poste: décharge restreinte du Conseil fédéral</td>\n",
       "      <td>https://www.laliberte.ch/news-agence/detail/la...</td>\n",
       "      <td>2018-06-11 11:51:00</td>\n",
       "      <td>2018-06-11 12:12:00</td>\n",
       "      <td>21</td>\n",
       "      <td>21’</td>\n",
       "      <td>/news-agence/detail/la-poste-decharge-restrein...</td>\n",
       "      <td>https://www.laliberte.ch/</td>\n",
       "      <td>32</td>\n",
       "      <td>0.7513</td>\n",
       "      <td>NaN</td>\n",
       "      <td>0.0530</td>\n",
       "      <td>1</td>\n",
       "      <td>0</td>\n",
       "      <td>NaN</td>\n",
       "      <td>NaN</td>\n",
       "      <td>0</td>\n",
       "      <td>0</td>\n",
       "    </tr>\n",
       "    <tr>\n",
       "      <th>12947</th>\n",
       "      <td>12947</td>\n",
       "      <td>Les salaires réels ont reculé l'an dernier</td>\n",
       "      <td>https://www.laliberte.ch/news-agence/detail/le...</td>\n",
       "      <td>2018-06-11 12:12:00</td>\n",
       "      <td>2018-06-11 12:18:00</td>\n",
       "      <td>6</td>\n",
       "      <td>6’</td>\n",
       "      <td>/news-agence/detail/les-salaires-reels-ont-rec...</td>\n",
       "      <td>https://www.laliberte.ch/</td>\n",
       "      <td>32</td>\n",
       "      <td>0.5339</td>\n",
       "      <td>NaN</td>\n",
       "      <td>0.4725</td>\n",
       "      <td>1</td>\n",
       "      <td>0</td>\n",
       "      <td>NaN</td>\n",
       "      <td>NaN</td>\n",
       "      <td>0</td>\n",
       "      <td>0</td>\n",
       "    </tr>\n",
       "    <tr>\n",
       "      <th>12949</th>\n",
       "      <td>12949</td>\n",
       "      <td>Suspension de la direction de CarPostal</td>\n",
       "      <td>https://www.laliberte.ch/news-agence/detail/su...</td>\n",
       "      <td>2018-06-11 12:18:00</td>\n",
       "      <td>2018-06-12 06:57:00</td>\n",
       "      <td>1119</td>\n",
       "      <td>18h39</td>\n",
       "      <td>/news-agence/detail/suspension-de-la-direction...</td>\n",
       "      <td>https://www.laliberte.ch/</td>\n",
       "      <td>32</td>\n",
       "      <td>7.4015</td>\n",
       "      <td>NaN</td>\n",
       "      <td>0.3821</td>\n",
       "      <td>1</td>\n",
       "      <td>0</td>\n",
       "      <td>NaN</td>\n",
       "      <td>NaN</td>\n",
       "      <td>0</td>\n",
       "      <td>0</td>\n",
       "    </tr>\n",
       "    <tr>\n",
       "      <th>13111</th>\n",
       "      <td>13111</td>\n",
       "      <td>Trump et Kim entament leur sommet par une poig...</td>\n",
       "      <td>https://www.laliberte.ch/news-agence/detail/tr...</td>\n",
       "      <td>2018-06-12 06:57:00</td>\n",
       "      <td>2018-06-12 07:03:00</td>\n",
       "      <td>6</td>\n",
       "      <td>6’</td>\n",
       "      <td>/news-agence/detail/trump-et-kim-entament-leur...</td>\n",
       "      <td>https://www.laliberte.ch/</td>\n",
       "      <td>32</td>\n",
       "      <td>0.0618</td>\n",
       "      <td>NaN</td>\n",
       "      <td>0.4054</td>\n",
       "      <td>1</td>\n",
       "      <td>0</td>\n",
       "      <td>NaN</td>\n",
       "      <td>NaN</td>\n",
       "      <td>0</td>\n",
       "      <td>0</td>\n",
       "    </tr>\n",
       "  </tbody>\n",
       "</table>\n",
       "</div>"
      ],
      "text/plain": [
       "          id                                              title  \\\n",
       "id                                                                \n",
       "12882  12882                    Fribourg Olympic triple la mise   \n",
       "12937  12937   La Poste: décharge restreinte du Conseil fédéral   \n",
       "12947  12947         Les salaires réels ont reculé l'an dernier   \n",
       "12949  12949            Suspension de la direction de CarPostal   \n",
       "13111  13111  Trump et Kim entament leur sommet par une poig...   \n",
       "\n",
       "                                            absolute_url          time_start  \\\n",
       "id                                                                             \n",
       "12882  https://www.laliberte.ch/news/sports/basketbal... 2018-06-11 06:48:00   \n",
       "12937  https://www.laliberte.ch/news-agence/detail/la... 2018-06-11 11:51:00   \n",
       "12947  https://www.laliberte.ch/news-agence/detail/le... 2018-06-11 12:12:00   \n",
       "12949  https://www.laliberte.ch/news-agence/detail/su... 2018-06-11 12:18:00   \n",
       "13111  https://www.laliberte.ch/news-agence/detail/tr... 2018-06-12 06:57:00   \n",
       "\n",
       "                 time_end  minutes delta_str  \\\n",
       "id                                             \n",
       "12882 2018-06-11 11:51:00      303      5h03   \n",
       "12937 2018-06-11 12:12:00       21       21’   \n",
       "12947 2018-06-11 12:18:00        6        6’   \n",
       "12949 2018-06-12 06:57:00     1119     18h39   \n",
       "13111 2018-06-12 07:03:00        6        6’   \n",
       "\n",
       "                                                    link  \\\n",
       "id                                                         \n",
       "12882  /news/sports/basketball/fribourg-olympic-tripl...   \n",
       "12937  /news-agence/detail/la-poste-decharge-restrein...   \n",
       "12947  /news-agence/detail/les-salaires-reels-ont-rec...   \n",
       "12949  /news-agence/detail/suspension-de-la-direction...   \n",
       "13111  /news-agence/detail/trump-et-kim-entament-leur...   \n",
       "\n",
       "                           media  media_id  server_time author  story_time  \\\n",
       "id                                                                           \n",
       "12882  https://www.laliberte.ch/        32      29.5923    NaN      0.6001   \n",
       "12937  https://www.laliberte.ch/        32       0.7513    NaN      0.0530   \n",
       "12947  https://www.laliberte.ch/        32       0.5339    NaN      0.4725   \n",
       "12949  https://www.laliberte.ch/        32       7.4015    NaN      0.3821   \n",
       "13111  https://www.laliberte.ch/        32       0.0618    NaN      0.4054   \n",
       "\n",
       "       agency  editor  heading  domains  paywall  hide  \n",
       "id                                                      \n",
       "12882       0       1      NaN      NaN        1     0  \n",
       "12937       1       0      NaN      NaN        0     0  \n",
       "12947       1       0      NaN      NaN        0     0  \n",
       "12949       1       0      NaN      NaN        0     0  \n",
       "13111       1       0      NaN      NaN        0     0  "
      ]
     },
     "execution_count": 19,
     "metadata": {},
     "output_type": "execute_result"
    }
   ],
   "source": [
    "# La Liberté: news-agence = agence\n",
    "df[df['media_id'] == 32][:5]"
   ]
  },
  {
   "cell_type": "code",
   "execution_count": 418,
   "metadata": {
    "collapsed": true
   },
   "outputs": [],
   "source": []
  },
  {
   "cell_type": "code",
   "execution_count": 22,
   "metadata": {},
   "outputs": [
    {
     "name": "stdout",
     "output_type": "stream",
     "text": [
      "0\n",
      "Editor ratio for https://www.tdg.ch/: 32 / 66\n",
      "0.48484848484848486 48\n",
      "1\n",
      "Editor ratio for https://www.24heures.ch: 17 / 39\n",
      "0.4358974358974359 44\n",
      "2\n",
      "Editor ratio for https://www.letemps.ch: 23 / 49\n",
      "0.46938775510204084 47\n",
      "3\n",
      "Editor ratio for https://www.lemonde.fr: 47 / 80\n",
      "0.5875 59\n",
      "4\n",
      "Editor ratio for https://www.rts.ch/info/: 0 / 92\n",
      "0.0 0\n",
      "5\n",
      "Editor ratio for https://www.20min.ch/ro/: 22 / 60\n",
      "0.36666666666666664 37\n",
      "6\n",
      "Editor ratio for https://www.lematin.ch/: 27 / 93\n",
      "0.2903225806451613 29\n",
      "7\n",
      "Editor ratio for https://www.mediapart.fr: 13 / 18\n",
      "0.7222222222222222 72\n",
      "8\n",
      "Editor ratio for https://www.lefigaro.fr/: 30 / 58\n",
      "0.5172413793103449 52\n",
      "9\n",
      "Editor ratio for https://www.liberation.fr/: 51 / 66\n",
      "0.7727272727272727 77\n",
      "10\n",
      "Editor ratio for https://www.lacote.ch/: 24 / 44\n",
      "0.5454545454545454 55\n",
      "11\n",
      "Editor ratio for https://www.arcinfo.ch/: 19 / 42\n",
      "0.4523809523809524 45\n",
      "12\n",
      "Editor ratio for https://www.lenouvelliste.ch/: 35 / 73\n",
      "0.4794520547945205 48\n",
      "13\n",
      "Editor ratio for https://www.laliberte.ch/: 12 / 22\n",
      "0.5454545454545454 55\n",
      "14\n",
      "Editor ratio for https://lecourrier.ch/: 13 / 13\n",
      "1.0 100\n",
      "15\n",
      "Error: length is 0\n",
      "False 0\n",
      "16\n",
      "Error: length is 0\n",
      "False 0\n"
     ]
    }
   ],
   "source": [
    "medias['signed'] = -1\n",
    "for i, row in medias.iterrows():\n",
    "    print(i)\n",
    "    group = df[df['media_id'] == row['media_id']]\n",
    "    editorRatio = getEditorRatio(group)\n",
    "    print(editorRatio, round(editorRatio * 100))\n",
    "    medias.at[i, 'signed'] = round(editorRatio * 100)"
   ]
  },
  {
   "cell_type": "code",
   "execution_count": 25,
   "metadata": {},
   "outputs": [
    {
     "data": {
      "text/html": [
       "<div>\n",
       "<style scoped>\n",
       "    .dataframe tbody tr th:only-of-type {\n",
       "        vertical-align: middle;\n",
       "    }\n",
       "\n",
       "    .dataframe tbody tr th {\n",
       "        vertical-align: top;\n",
       "    }\n",
       "\n",
       "    .dataframe thead th {\n",
       "        text-align: right;\n",
       "    }\n",
       "</style>\n",
       "<table border=\"1\" class=\"dataframe\">\n",
       "  <thead>\n",
       "    <tr style=\"text-align: right;\">\n",
       "      <th></th>\n",
       "      <th>media_id</th>\n",
       "      <th>Nom</th>\n",
       "      <th>signed</th>\n",
       "    </tr>\n",
       "  </thead>\n",
       "  <tbody>\n",
       "    <tr>\n",
       "      <th>0</th>\n",
       "      <td>19</td>\n",
       "      <td>La Tribune de Genève</td>\n",
       "      <td>48</td>\n",
       "    </tr>\n",
       "    <tr>\n",
       "      <th>1</th>\n",
       "      <td>20</td>\n",
       "      <td>24 heures</td>\n",
       "      <td>44</td>\n",
       "    </tr>\n",
       "    <tr>\n",
       "      <th>2</th>\n",
       "      <td>21</td>\n",
       "      <td>Le Temps</td>\n",
       "      <td>47</td>\n",
       "    </tr>\n",
       "    <tr>\n",
       "      <th>3</th>\n",
       "      <td>22</td>\n",
       "      <td>Le Monde</td>\n",
       "      <td>59</td>\n",
       "    </tr>\n",
       "    <tr>\n",
       "      <th>4</th>\n",
       "      <td>23</td>\n",
       "      <td>RTS info</td>\n",
       "      <td>0</td>\n",
       "    </tr>\n",
       "    <tr>\n",
       "      <th>5</th>\n",
       "      <td>24</td>\n",
       "      <td>20 minutes (ch)</td>\n",
       "      <td>37</td>\n",
       "    </tr>\n",
       "    <tr>\n",
       "      <th>6</th>\n",
       "      <td>25</td>\n",
       "      <td>Le Matin</td>\n",
       "      <td>29</td>\n",
       "    </tr>\n",
       "    <tr>\n",
       "      <th>7</th>\n",
       "      <td>26</td>\n",
       "      <td>Mediapart</td>\n",
       "      <td>72</td>\n",
       "    </tr>\n",
       "    <tr>\n",
       "      <th>8</th>\n",
       "      <td>27</td>\n",
       "      <td>Le Figaro</td>\n",
       "      <td>52</td>\n",
       "    </tr>\n",
       "    <tr>\n",
       "      <th>9</th>\n",
       "      <td>28</td>\n",
       "      <td>Libération</td>\n",
       "      <td>77</td>\n",
       "    </tr>\n",
       "    <tr>\n",
       "      <th>10</th>\n",
       "      <td>29</td>\n",
       "      <td>La Côte</td>\n",
       "      <td>55</td>\n",
       "    </tr>\n",
       "    <tr>\n",
       "      <th>11</th>\n",
       "      <td>30</td>\n",
       "      <td>Arcinfo</td>\n",
       "      <td>45</td>\n",
       "    </tr>\n",
       "    <tr>\n",
       "      <th>12</th>\n",
       "      <td>31</td>\n",
       "      <td>Le Nouvelliste</td>\n",
       "      <td>48</td>\n",
       "    </tr>\n",
       "    <tr>\n",
       "      <th>13</th>\n",
       "      <td>32</td>\n",
       "      <td>La Liberté</td>\n",
       "      <td>55</td>\n",
       "    </tr>\n",
       "    <tr>\n",
       "      <th>14</th>\n",
       "      <td>33</td>\n",
       "      <td>Le Courrier</td>\n",
       "      <td>100</td>\n",
       "    </tr>\n",
       "  </tbody>\n",
       "</table>\n",
       "</div>"
      ],
      "text/plain": [
       "    media_id                   Nom  signed\n",
       "0         19  La Tribune de Genève      48\n",
       "1         20             24 heures      44\n",
       "2         21              Le Temps      47\n",
       "3         22              Le Monde      59\n",
       "4         23              RTS info       0\n",
       "5         24       20 minutes (ch)      37\n",
       "6         25              Le Matin      29\n",
       "7         26             Mediapart      72\n",
       "8         27             Le Figaro      52\n",
       "9         28            Libération      77\n",
       "10        29               La Côte      55\n",
       "11        30               Arcinfo      45\n",
       "12        31        Le Nouvelliste      48\n",
       "13        32            La Liberté      55\n",
       "14        33           Le Courrier     100"
      ]
     },
     "execution_count": 25,
     "metadata": {},
     "output_type": "execute_result"
    }
   ],
   "source": [
    "medias"
   ]
  },
  {
   "cell_type": "markdown",
   "metadata": {},
   "source": [
    "# Rubrique"
   ]
  },
  {
   "cell_type": "code",
   "execution_count": 26,
   "metadata": {
    "collapsed": true
   },
   "outputs": [],
   "source": [
    "# Principe: au départ, on se concentre sur TG, LM, VQH, Le Temps\n",
    "# Le Courrier viendra ensuite ?\n",
    "\n",
    "def getHeading(_media_id, _link):\n",
    "    url_parts = _link.split('/')\n",
    "\n",
    "    # tg, vqh, lm        \n",
    "    if _media_id in (19, 20, 25):\n",
    "        return url_parts[1]\n",
    "            \n",
    "    # le temps\n",
    "    elif _media_id == 21:\n",
    "        if url_parts[1] == 'node':\n",
    "            return 'longform'\n",
    "        else:\n",
    "            return url_parts[1]\n",
    "    \n",
    "    # le monde\n",
    "    elif _media_id == 22:\n",
    "        return url_parts[1]\n",
    "    \n",
    "    # rts info\n",
    "    elif _media_id == 23:\n",
    "        return url_parts[2]\n",
    "    \n",
    "    # mediapart\n",
    "    elif _media_id == 26:\n",
    "        return url_parts[2]\n",
    "    \n",
    "    # Libé\n",
    "    elif _media_id == 28:\n",
    "        if url_parts[1] in ['france', 'politiques']:\n",
    "            return 'national'\n",
    "        elif url_parts[1] == 'planete':\n",
    "            return 'international'\n",
    "        else:\n",
    "            return url_parts[1]\n",
    "    \n",
    "    # 20 minutes\n",
    "    elif _media_id == 24:\n",
    "        if url_parts[2] != 'news':\n",
    "            return url_parts[2]\n",
    "            \n",
    "        else:\n",
    "            return url_parts[3]\n",
    "        \n",
    "    # le figaro (27): 3\n",
    "    elif _media_id == 27:\n",
    "        \n",
    "        return url_parts[3]\n",
    "    \n",
    "    # La Côte, Le Nouvelliste, La Liberté\n",
    "    elif _media_id in (29, 30, 31, 32):\n",
    "        if url_parts[2] in ('valais', 'regions', 'canton'):\n",
    "            return 'région'\n",
    "        else:\n",
    "            return url_parts[2]\n",
    "\n",
    "    # Le Courrier    \n",
    "    elif _media_id == 33:\n",
    "        return ''\n",
    "    \n",
    "    else:\n",
    "        print('Media', _media_id, 'not in list missing')\n",
    "        return 'missing' + str(_media_id)"
   ]
  },
  {
   "cell_type": "code",
   "execution_count": 28,
   "metadata": {},
   "outputs": [
    {
     "name": "stdout",
     "output_type": "stream",
     "text": [
      "CCCCCCCCCCCCC"
     ]
    }
   ],
   "source": [
    "df['heading'] = ''\n",
    "for i, row in df.iterrows():\n",
    "    if row['media_id'] != 33: # Le Courrier: manuel\n",
    "        df.at[i, 'heading'] = getHeading(row['media_id'], row['link'])\n",
    "    else:\n",
    "        print('C', end='')"
   ]
  },
  {
   "cell_type": "code",
   "execution_count": 32,
   "metadata": {},
   "outputs": [
    {
     "name": "stdout",
     "output_type": "stream",
     "text": [
      "We’ll add 13 headings for Le Courrier\n"
     ]
    }
   ],
   "source": [
    "# Add heading for Le Courrier\n",
    "print(\"We’ll get {} missing headings for “Le Courrier”\".format( df[df['media_id'] == 33].shape[0]) )"
   ]
  },
  {
   "cell_type": "code",
   "execution_count": 33,
   "metadata": {},
   "outputs": [
    {
     "name": "stdout",
     "output_type": "stream",
     "text": [
      "https://lecourrier.ch/2018/06/10/g7-un-sommet-dhypocrisie/ \n",
      "[<a class=\"c-Article-breadcrumb-tagsLink\" href=\"/rubrique/international/\">International</a>]\n",
      "International /rubrique/international/\n",
      "\n",
      "https://lecourrier.ch/2018/06/11/je-mene-campagne-depuis-ma-cellule/ \n",
      "[<a class=\"c-Article-breadcrumb-tagsLink\" href=\"/theme/solidarite/\">Solidarité</a>]\n",
      "Solidarité /theme/solidarite/\n",
      "\n",
      "https://lecourrier.ch/2018/06/11/le-chef-de-cabinet-epargne/ \n",
      "[<a class=\"c-Article-breadcrumb-tagsLink\" href=\"/theme/geneve/\">Genève</a>]\n",
      "Genève /theme/geneve/\n",
      "\n",
      "https://lecourrier.ch/2018/06/12/haine-gratuite-et-invisibilisee/ \n",
      "[]\n",
      "No tag found\n",
      "\n",
      "https://lecourrier.ch/2018/06/12/haine-gratuite-et-invisible/ \n",
      "[<a class=\"c-Article-breadcrumb-tagsLink\" href=\"/theme/neuchatel/\">Neuchâtel</a>]\n",
      "Neuchâtel /theme/neuchatel/\n",
      "\n",
      "https://lecourrier.ch/2018/06/12/un-cours-climato-sceptique-a-calvin/ \n",
      "[<a class=\"c-Article-breadcrumb-tagsLink\" href=\"/theme/geneve/\">Genève</a>]\n",
      "Genève /theme/geneve/\n",
      "\n",
      "https://lecourrier.ch/2018/06/12/tension-sur-les-gains-des-ministres/ \n",
      "[<a class=\"c-Article-breadcrumb-tagsLink\" href=\"/theme/vaud/\">Vaud</a>]\n",
      "Vaud /theme/vaud/\n",
      "\n",
      "https://lecourrier.ch/2018/06/13/le-chef-de-cabinet-de-pierre-maudet-quitte-ses-fonctions/ \n",
      "[<a class=\"c-Article-breadcrumb-tagsLink\" href=\"/theme/geneve/\">Genève</a>]\n",
      "Genève /theme/geneve/\n",
      "\n",
      "https://lecourrier.ch/2018/06/13/une-greve-nationale-en-preparation/ \n",
      "[<a class=\"c-Article-breadcrumb-tagsLink\" href=\"/rubrique/suisse/\">Suisse</a>]\n",
      "Suisse /rubrique/suisse/\n",
      "\n",
      "https://lecourrier.ch/2018/06/14/un-bus-roule-contre-la-traite/ \n",
      "[<a class=\"c-Article-breadcrumb-tagsLink\" href=\"/theme/vaud/\">Vaud</a>]\n",
      "Vaud /theme/vaud/\n",
      "\n",
      "https://lecourrier.ch/2018/06/14/mariage-et-embuches-administratives/ \n",
      "[<a class=\"c-Article-breadcrumb-tagsLink\" href=\"/theme/geneve/\">Genève</a>]\n",
      "Genève /theme/geneve/\n",
      "\n",
      "https://lecourrier.ch/2018/06/15/le-contre-pied-a-la-dictature/ \n",
      "[<a class=\"c-Article-breadcrumb-tagsLink\" href=\"/rubrique/international/\">International</a>]\n",
      "International /rubrique/international/\n",
      "\n",
      "https://lecourrier.ch/2018/06/15/boxe-pour-survivre/ \n",
      "[<a class=\"c-Article-breadcrumb-tagsLink\" href=\"/theme/vaud/\">Vaud</a>]\n",
      "Vaud /theme/vaud/\n",
      "\n"
     ]
    }
   ],
   "source": [
    "for i, row in df[df['media_id'] == 33].iterrows():\n",
    "    print(row['absolute_url'])\n",
    "    ua_headers = {'User-Agent': 'Internet Explorer'}    \n",
    "    response = requests.get(row['absolute_url'], headers=ua_headers)\n",
    "    if not response:\n",
    "        print('Error loading', row['absolute_url'])\n",
    "    elif response.status_code != 200:\n",
    "        print('Error {} when loading {}'.format( response.status_code, row['url'] ) )\n",
    "    doc = BeautifulSoup(response.content, 'html.parser')    \n",
    "    tags = doc.select('.c-Article-theme .c-Article-breadcrumb-tagsLink')\n",
    "    print(tags)\n",
    "    if len(tags) > 0:\n",
    "        tag = tags[0]\n",
    "        print(tag.string, tag.get('href'))\n",
    "        df.at[i, 'heading'] = tag.string\n",
    "    else:\n",
    "        print('No tag found')\n",
    "    print()"
   ]
  },
  {
   "cell_type": "code",
   "execution_count": 34,
   "metadata": {},
   "outputs": [
    {
     "data": {
      "text/plain": [
       "Genève           4\n",
       "Vaud             3\n",
       "International    2\n",
       "Suisse           1\n",
       "Solidarité       1\n",
       "Neuchâtel        1\n",
       "                 1\n",
       "Name: heading, dtype: int64"
      ]
     },
     "execution_count": 34,
     "metadata": {},
     "output_type": "execute_result"
    }
   ],
   "source": [
    "df[df['media_id'] == 33]['heading'].value_counts()"
   ]
  },
  {
   "cell_type": "markdown",
   "metadata": {},
   "source": [
    "# minutes_day\n",
    "Ajouter une colonne minutes_day ne comptant que les minutes du jour.\n",
    "Même principe pour les minutes des heures à fort trafic: 7h-8h, 12h-13h"
   ]
  },
  {
   "cell_type": "code",
   "execution_count": 35,
   "metadata": {
    "collapsed": true
   },
   "outputs": [],
   "source": [
    "sevenAM = datetime.time(7, 0)\n",
    "elevenPM = datetime.time(23, 0)"
   ]
  },
  {
   "cell_type": "code",
   "execution_count": 36,
   "metadata": {},
   "outputs": [
    {
     "data": {
      "text/plain": [
       "('07:00', '23:00')"
      ]
     },
     "execution_count": 36,
     "metadata": {},
     "output_type": "execute_result"
    }
   ],
   "source": [
    "sevenAM.strftime('%H:%M'), elevenPM.strftime('%H:%M')"
   ]
  },
  {
   "cell_type": "code",
   "execution_count": 37,
   "metadata": {
    "collapsed": true
   },
   "outputs": [],
   "source": [
    "df['minutes_day'] = 0"
   ]
  },
  {
   "cell_type": "code",
   "execution_count": 38,
   "metadata": {
    "collapsed": true
   },
   "outputs": [],
   "source": [
    "sevenAM = datetime.time(7, 0)\n",
    "elevenPM = datetime.time(23, 0)\n",
    "\n",
    "for i, row in df.iterrows():\n",
    "    if row['time_end'] != row['time_end']: # NaT\n",
    "        continue\n",
    "    startTime = row['time_start'].time()\n",
    "    endTime = row['time_end'].time()\n",
    "    if startTime.hour < 7:\n",
    "        startTime = sevenAM\n",
    "    elif startTime.hour > 23:\n",
    "        startTime = elevenPM\n",
    "    if endTime.hour < 7:\n",
    "        endTime = sevenAM\n",
    "    elif endTime.hour > 23:\n",
    "        endTime = elevenPM\n",
    "        \n",
    "    startDate = datetime.datetime.combine(row['time_start'].date(), startTime)\n",
    "    endDate = datetime.datetime.combine(row['time_end'].date(), endTime)\n",
    "    delta = endDate - startDate\n",
    "    if delta != 0:\n",
    "        df.at[i, 'minutes_day'] = round(delta.seconds / 60)\n",
    "    else:\n",
    "        df.at[i, 'minutes_day'] = 0"
   ]
  },
  {
   "cell_type": "code",
   "execution_count": 39,
   "metadata": {},
   "outputs": [
    {
     "data": {
      "text/html": [
       "<div>\n",
       "<style scoped>\n",
       "    .dataframe tbody tr th:only-of-type {\n",
       "        vertical-align: middle;\n",
       "    }\n",
       "\n",
       "    .dataframe tbody tr th {\n",
       "        vertical-align: top;\n",
       "    }\n",
       "\n",
       "    .dataframe thead th {\n",
       "        text-align: right;\n",
       "    }\n",
       "</style>\n",
       "<table border=\"1\" class=\"dataframe\">\n",
       "  <thead>\n",
       "    <tr style=\"text-align: right;\">\n",
       "      <th></th>\n",
       "      <th>time_start</th>\n",
       "      <th>time_end</th>\n",
       "      <th>minutes</th>\n",
       "      <th>minutes_day</th>\n",
       "    </tr>\n",
       "    <tr>\n",
       "      <th>id</th>\n",
       "      <th></th>\n",
       "      <th></th>\n",
       "      <th></th>\n",
       "      <th></th>\n",
       "    </tr>\n",
       "  </thead>\n",
       "  <tbody>\n",
       "    <tr>\n",
       "      <th>12873</th>\n",
       "      <td>2018-06-11 02:54:00</td>\n",
       "      <td>NaT</td>\n",
       "      <td>0</td>\n",
       "      <td>0</td>\n",
       "    </tr>\n",
       "    <tr>\n",
       "      <th>12875</th>\n",
       "      <td>2018-06-11 04:45:00</td>\n",
       "      <td>2018-06-11 05:15:00</td>\n",
       "      <td>30</td>\n",
       "      <td>0</td>\n",
       "    </tr>\n",
       "    <tr>\n",
       "      <th>12876</th>\n",
       "      <td>2018-06-11 05:15:00</td>\n",
       "      <td>2018-06-11 07:12:00</td>\n",
       "      <td>117</td>\n",
       "      <td>12</td>\n",
       "    </tr>\n",
       "    <tr>\n",
       "      <th>12877</th>\n",
       "      <td>2018-06-11 05:27:00</td>\n",
       "      <td>2018-06-11 08:39:00</td>\n",
       "      <td>192</td>\n",
       "      <td>99</td>\n",
       "    </tr>\n",
       "    <tr>\n",
       "      <th>12878</th>\n",
       "      <td>2018-06-11 06:12:00</td>\n",
       "      <td>2018-06-11 06:36:00</td>\n",
       "      <td>24</td>\n",
       "      <td>0</td>\n",
       "    </tr>\n",
       "    <tr>\n",
       "      <th>12879</th>\n",
       "      <td>2018-06-11 06:33:00</td>\n",
       "      <td>2018-06-11 11:06:00</td>\n",
       "      <td>273</td>\n",
       "      <td>246</td>\n",
       "    </tr>\n",
       "    <tr>\n",
       "      <th>12880</th>\n",
       "      <td>2018-06-11 06:36:00</td>\n",
       "      <td>2018-06-11 08:06:00</td>\n",
       "      <td>90</td>\n",
       "      <td>66</td>\n",
       "    </tr>\n",
       "    <tr>\n",
       "      <th>12881</th>\n",
       "      <td>2018-06-11 06:45:00</td>\n",
       "      <td>2018-06-11 07:03:00</td>\n",
       "      <td>18</td>\n",
       "      <td>3</td>\n",
       "    </tr>\n",
       "    <tr>\n",
       "      <th>12882</th>\n",
       "      <td>2018-06-11 06:48:00</td>\n",
       "      <td>2018-06-11 11:51:00</td>\n",
       "      <td>303</td>\n",
       "      <td>291</td>\n",
       "    </tr>\n",
       "    <tr>\n",
       "      <th>12883</th>\n",
       "      <td>2018-06-11 07:03:00</td>\n",
       "      <td>2018-06-11 10:33:00</td>\n",
       "      <td>210</td>\n",
       "      <td>210</td>\n",
       "    </tr>\n",
       "    <tr>\n",
       "      <th>12884</th>\n",
       "      <td>2018-06-11 07:06:00</td>\n",
       "      <td>2018-06-11 09:18:00</td>\n",
       "      <td>132</td>\n",
       "      <td>132</td>\n",
       "    </tr>\n",
       "    <tr>\n",
       "      <th>12885</th>\n",
       "      <td>2018-06-11 07:12:00</td>\n",
       "      <td>2018-06-11 09:57:00</td>\n",
       "      <td>165</td>\n",
       "      <td>165</td>\n",
       "    </tr>\n",
       "    <tr>\n",
       "      <th>12886</th>\n",
       "      <td>2018-06-11 07:42:00</td>\n",
       "      <td>2018-06-11 08:42:00</td>\n",
       "      <td>60</td>\n",
       "      <td>60</td>\n",
       "    </tr>\n",
       "    <tr>\n",
       "      <th>12887</th>\n",
       "      <td>2018-06-11 07:42:00</td>\n",
       "      <td>2018-06-11 09:51:00</td>\n",
       "      <td>129</td>\n",
       "      <td>129</td>\n",
       "    </tr>\n",
       "    <tr>\n",
       "      <th>12888</th>\n",
       "      <td>2018-06-11 07:45:00</td>\n",
       "      <td>2018-06-11 08:18:00</td>\n",
       "      <td>33</td>\n",
       "      <td>33</td>\n",
       "    </tr>\n",
       "    <tr>\n",
       "      <th>12889</th>\n",
       "      <td>2018-06-11 08:06:00</td>\n",
       "      <td>2018-06-11 08:24:00</td>\n",
       "      <td>18</td>\n",
       "      <td>18</td>\n",
       "    </tr>\n",
       "    <tr>\n",
       "      <th>12890</th>\n",
       "      <td>2018-06-11 08:18:00</td>\n",
       "      <td>2018-06-11 09:42:00</td>\n",
       "      <td>84</td>\n",
       "      <td>84</td>\n",
       "    </tr>\n",
       "    <tr>\n",
       "      <th>12891</th>\n",
       "      <td>2018-06-11 08:24:00</td>\n",
       "      <td>2018-06-11 08:27:00</td>\n",
       "      <td>3</td>\n",
       "      <td>3</td>\n",
       "    </tr>\n",
       "    <tr>\n",
       "      <th>12892</th>\n",
       "      <td>2018-06-11 08:27:00</td>\n",
       "      <td>2018-06-11 10:27:00</td>\n",
       "      <td>120</td>\n",
       "      <td>120</td>\n",
       "    </tr>\n",
       "    <tr>\n",
       "      <th>12894</th>\n",
       "      <td>2018-06-11 08:39:00</td>\n",
       "      <td>2018-06-11 11:24:00</td>\n",
       "      <td>165</td>\n",
       "      <td>165</td>\n",
       "    </tr>\n",
       "    <tr>\n",
       "      <th>12895</th>\n",
       "      <td>2018-06-11 08:42:00</td>\n",
       "      <td>2018-06-11 09:33:00</td>\n",
       "      <td>51</td>\n",
       "      <td>51</td>\n",
       "    </tr>\n",
       "    <tr>\n",
       "      <th>12898</th>\n",
       "      <td>2018-06-11 08:57:00</td>\n",
       "      <td>2018-06-11 18:00:00</td>\n",
       "      <td>543</td>\n",
       "      <td>543</td>\n",
       "    </tr>\n",
       "    <tr>\n",
       "      <th>12899</th>\n",
       "      <td>2018-06-11 08:57:00</td>\n",
       "      <td>2018-06-11 18:45:00</td>\n",
       "      <td>588</td>\n",
       "      <td>588</td>\n",
       "    </tr>\n",
       "    <tr>\n",
       "      <th>12901</th>\n",
       "      <td>2018-06-11 09:18:00</td>\n",
       "      <td>2018-06-11 09:57:00</td>\n",
       "      <td>39</td>\n",
       "      <td>39</td>\n",
       "    </tr>\n",
       "    <tr>\n",
       "      <th>12903</th>\n",
       "      <td>2018-06-11 09:33:00</td>\n",
       "      <td>2018-06-11 11:54:00</td>\n",
       "      <td>141</td>\n",
       "      <td>141</td>\n",
       "    </tr>\n",
       "    <tr>\n",
       "      <th>12905</th>\n",
       "      <td>2018-06-11 09:42:00</td>\n",
       "      <td>2018-06-11 13:54:00</td>\n",
       "      <td>252</td>\n",
       "      <td>252</td>\n",
       "    </tr>\n",
       "    <tr>\n",
       "      <th>12906</th>\n",
       "      <td>2018-06-11 09:51:00</td>\n",
       "      <td>2018-06-11 10:36:00</td>\n",
       "      <td>45</td>\n",
       "      <td>45</td>\n",
       "    </tr>\n",
       "    <tr>\n",
       "      <th>12907</th>\n",
       "      <td>2018-06-11 09:57:00</td>\n",
       "      <td>2018-06-11 11:54:00</td>\n",
       "      <td>117</td>\n",
       "      <td>117</td>\n",
       "    </tr>\n",
       "    <tr>\n",
       "      <th>12908</th>\n",
       "      <td>2018-06-11 09:57:00</td>\n",
       "      <td>2018-06-11 10:03:00</td>\n",
       "      <td>6</td>\n",
       "      <td>6</td>\n",
       "    </tr>\n",
       "    <tr>\n",
       "      <th>12914</th>\n",
       "      <td>2018-06-11 10:18:00</td>\n",
       "      <td>2018-06-11 10:51:00</td>\n",
       "      <td>33</td>\n",
       "      <td>33</td>\n",
       "    </tr>\n",
       "    <tr>\n",
       "      <th>...</th>\n",
       "      <td>...</td>\n",
       "      <td>...</td>\n",
       "      <td>...</td>\n",
       "      <td>...</td>\n",
       "    </tr>\n",
       "    <tr>\n",
       "      <th>13943</th>\n",
       "      <td>2018-06-15 21:00:00</td>\n",
       "      <td>2018-06-15 21:36:00</td>\n",
       "      <td>36</td>\n",
       "      <td>36</td>\n",
       "    </tr>\n",
       "    <tr>\n",
       "      <th>13944</th>\n",
       "      <td>2018-06-15 21:00:00</td>\n",
       "      <td>2018-06-15 21:36:00</td>\n",
       "      <td>36</td>\n",
       "      <td>36</td>\n",
       "    </tr>\n",
       "    <tr>\n",
       "      <th>13945</th>\n",
       "      <td>2018-06-15 21:12:00</td>\n",
       "      <td>2018-06-16 09:48:00</td>\n",
       "      <td>756</td>\n",
       "      <td>756</td>\n",
       "    </tr>\n",
       "    <tr>\n",
       "      <th>13946</th>\n",
       "      <td>2018-06-15 21:36:00</td>\n",
       "      <td>2018-06-15 21:48:00</td>\n",
       "      <td>12</td>\n",
       "      <td>12</td>\n",
       "    </tr>\n",
       "    <tr>\n",
       "      <th>13947</th>\n",
       "      <td>2018-06-15 21:36:00</td>\n",
       "      <td>2018-06-15 21:48:00</td>\n",
       "      <td>12</td>\n",
       "      <td>12</td>\n",
       "    </tr>\n",
       "    <tr>\n",
       "      <th>13948</th>\n",
       "      <td>2018-06-15 21:36:00</td>\n",
       "      <td>2018-06-15 22:42:00</td>\n",
       "      <td>66</td>\n",
       "      <td>66</td>\n",
       "    </tr>\n",
       "    <tr>\n",
       "      <th>13949</th>\n",
       "      <td>2018-06-15 21:48:00</td>\n",
       "      <td>2018-06-15 22:00:00</td>\n",
       "      <td>12</td>\n",
       "      <td>12</td>\n",
       "    </tr>\n",
       "    <tr>\n",
       "      <th>13950</th>\n",
       "      <td>2018-06-15 21:48:00</td>\n",
       "      <td>2018-06-15 21:57:00</td>\n",
       "      <td>9</td>\n",
       "      <td>9</td>\n",
       "    </tr>\n",
       "    <tr>\n",
       "      <th>13951</th>\n",
       "      <td>2018-06-15 21:57:00</td>\n",
       "      <td>2018-06-15 22:03:00</td>\n",
       "      <td>6</td>\n",
       "      <td>6</td>\n",
       "    </tr>\n",
       "    <tr>\n",
       "      <th>13952</th>\n",
       "      <td>2018-06-15 21:57:00</td>\n",
       "      <td>2018-06-16 08:03:00</td>\n",
       "      <td>606</td>\n",
       "      <td>606</td>\n",
       "    </tr>\n",
       "    <tr>\n",
       "      <th>13953</th>\n",
       "      <td>2018-06-15 22:00:00</td>\n",
       "      <td>2018-06-15 22:03:00</td>\n",
       "      <td>3</td>\n",
       "      <td>3</td>\n",
       "    </tr>\n",
       "    <tr>\n",
       "      <th>13954</th>\n",
       "      <td>2018-06-15 22:03:00</td>\n",
       "      <td>2018-06-15 22:09:00</td>\n",
       "      <td>6</td>\n",
       "      <td>6</td>\n",
       "    </tr>\n",
       "    <tr>\n",
       "      <th>13955</th>\n",
       "      <td>2018-06-15 22:03:00</td>\n",
       "      <td>2018-06-15 22:09:00</td>\n",
       "      <td>6</td>\n",
       "      <td>6</td>\n",
       "    </tr>\n",
       "    <tr>\n",
       "      <th>13956</th>\n",
       "      <td>2018-06-15 22:09:00</td>\n",
       "      <td>2018-06-15 22:15:00</td>\n",
       "      <td>6</td>\n",
       "      <td>6</td>\n",
       "    </tr>\n",
       "    <tr>\n",
       "      <th>13957</th>\n",
       "      <td>2018-06-15 22:09:00</td>\n",
       "      <td>2018-06-15 22:39:00</td>\n",
       "      <td>30</td>\n",
       "      <td>30</td>\n",
       "    </tr>\n",
       "    <tr>\n",
       "      <th>13958</th>\n",
       "      <td>2018-06-15 22:15:00</td>\n",
       "      <td>2018-06-15 22:21:00</td>\n",
       "      <td>6</td>\n",
       "      <td>6</td>\n",
       "    </tr>\n",
       "    <tr>\n",
       "      <th>13960</th>\n",
       "      <td>2018-06-15 22:21:00</td>\n",
       "      <td>2018-06-15 22:45:00</td>\n",
       "      <td>24</td>\n",
       "      <td>24</td>\n",
       "    </tr>\n",
       "    <tr>\n",
       "      <th>13961</th>\n",
       "      <td>2018-06-15 22:21:00</td>\n",
       "      <td>2018-06-16 08:39:00</td>\n",
       "      <td>618</td>\n",
       "      <td>618</td>\n",
       "    </tr>\n",
       "    <tr>\n",
       "      <th>13962</th>\n",
       "      <td>2018-06-15 22:33:00</td>\n",
       "      <td>2018-06-15 23:12:00</td>\n",
       "      <td>39</td>\n",
       "      <td>39</td>\n",
       "    </tr>\n",
       "    <tr>\n",
       "      <th>13963</th>\n",
       "      <td>2018-06-15 22:33:00</td>\n",
       "      <td>2018-06-16 08:09:00</td>\n",
       "      <td>576</td>\n",
       "      <td>576</td>\n",
       "    </tr>\n",
       "    <tr>\n",
       "      <th>13964</th>\n",
       "      <td>2018-06-15 22:33:00</td>\n",
       "      <td>2018-06-16 08:06:00</td>\n",
       "      <td>573</td>\n",
       "      <td>573</td>\n",
       "    </tr>\n",
       "    <tr>\n",
       "      <th>13965</th>\n",
       "      <td>2018-06-15 22:36:00</td>\n",
       "      <td>2018-06-16 08:57:00</td>\n",
       "      <td>621</td>\n",
       "      <td>621</td>\n",
       "    </tr>\n",
       "    <tr>\n",
       "      <th>13966</th>\n",
       "      <td>2018-06-15 22:39:00</td>\n",
       "      <td>2018-06-16 08:42:00</td>\n",
       "      <td>603</td>\n",
       "      <td>603</td>\n",
       "    </tr>\n",
       "    <tr>\n",
       "      <th>13967</th>\n",
       "      <td>2018-06-15 22:39:00</td>\n",
       "      <td>2018-06-16 07:24:00</td>\n",
       "      <td>525</td>\n",
       "      <td>525</td>\n",
       "    </tr>\n",
       "    <tr>\n",
       "      <th>13968</th>\n",
       "      <td>2018-06-15 22:42:00</td>\n",
       "      <td>2018-06-16 05:18:00</td>\n",
       "      <td>396</td>\n",
       "      <td>498</td>\n",
       "    </tr>\n",
       "    <tr>\n",
       "      <th>13969</th>\n",
       "      <td>2018-06-15 22:45:00</td>\n",
       "      <td>2018-06-16 10:09:00</td>\n",
       "      <td>684</td>\n",
       "      <td>684</td>\n",
       "    </tr>\n",
       "    <tr>\n",
       "      <th>13970</th>\n",
       "      <td>2018-06-15 22:45:00</td>\n",
       "      <td>2018-06-15 23:33:00</td>\n",
       "      <td>48</td>\n",
       "      <td>48</td>\n",
       "    </tr>\n",
       "    <tr>\n",
       "      <th>13971</th>\n",
       "      <td>2018-06-15 22:57:00</td>\n",
       "      <td>2018-06-16 07:27:00</td>\n",
       "      <td>510</td>\n",
       "      <td>510</td>\n",
       "    </tr>\n",
       "    <tr>\n",
       "      <th>13972</th>\n",
       "      <td>2018-06-15 23:12:00</td>\n",
       "      <td>2018-06-16 05:27:00</td>\n",
       "      <td>375</td>\n",
       "      <td>468</td>\n",
       "    </tr>\n",
       "    <tr>\n",
       "      <th>13973</th>\n",
       "      <td>2018-06-15 23:33:00</td>\n",
       "      <td>2018-06-16 09:30:00</td>\n",
       "      <td>597</td>\n",
       "      <td>597</td>\n",
       "    </tr>\n",
       "  </tbody>\n",
       "</table>\n",
       "<p>815 rows × 4 columns</p>\n",
       "</div>"
      ],
      "text/plain": [
       "               time_start            time_end  minutes  minutes_day\n",
       "id                                                                 \n",
       "12873 2018-06-11 02:54:00                 NaT        0            0\n",
       "12875 2018-06-11 04:45:00 2018-06-11 05:15:00       30            0\n",
       "12876 2018-06-11 05:15:00 2018-06-11 07:12:00      117           12\n",
       "12877 2018-06-11 05:27:00 2018-06-11 08:39:00      192           99\n",
       "12878 2018-06-11 06:12:00 2018-06-11 06:36:00       24            0\n",
       "12879 2018-06-11 06:33:00 2018-06-11 11:06:00      273          246\n",
       "12880 2018-06-11 06:36:00 2018-06-11 08:06:00       90           66\n",
       "12881 2018-06-11 06:45:00 2018-06-11 07:03:00       18            3\n",
       "12882 2018-06-11 06:48:00 2018-06-11 11:51:00      303          291\n",
       "12883 2018-06-11 07:03:00 2018-06-11 10:33:00      210          210\n",
       "12884 2018-06-11 07:06:00 2018-06-11 09:18:00      132          132\n",
       "12885 2018-06-11 07:12:00 2018-06-11 09:57:00      165          165\n",
       "12886 2018-06-11 07:42:00 2018-06-11 08:42:00       60           60\n",
       "12887 2018-06-11 07:42:00 2018-06-11 09:51:00      129          129\n",
       "12888 2018-06-11 07:45:00 2018-06-11 08:18:00       33           33\n",
       "12889 2018-06-11 08:06:00 2018-06-11 08:24:00       18           18\n",
       "12890 2018-06-11 08:18:00 2018-06-11 09:42:00       84           84\n",
       "12891 2018-06-11 08:24:00 2018-06-11 08:27:00        3            3\n",
       "12892 2018-06-11 08:27:00 2018-06-11 10:27:00      120          120\n",
       "12894 2018-06-11 08:39:00 2018-06-11 11:24:00      165          165\n",
       "12895 2018-06-11 08:42:00 2018-06-11 09:33:00       51           51\n",
       "12898 2018-06-11 08:57:00 2018-06-11 18:00:00      543          543\n",
       "12899 2018-06-11 08:57:00 2018-06-11 18:45:00      588          588\n",
       "12901 2018-06-11 09:18:00 2018-06-11 09:57:00       39           39\n",
       "12903 2018-06-11 09:33:00 2018-06-11 11:54:00      141          141\n",
       "12905 2018-06-11 09:42:00 2018-06-11 13:54:00      252          252\n",
       "12906 2018-06-11 09:51:00 2018-06-11 10:36:00       45           45\n",
       "12907 2018-06-11 09:57:00 2018-06-11 11:54:00      117          117\n",
       "12908 2018-06-11 09:57:00 2018-06-11 10:03:00        6            6\n",
       "12914 2018-06-11 10:18:00 2018-06-11 10:51:00       33           33\n",
       "...                   ...                 ...      ...          ...\n",
       "13943 2018-06-15 21:00:00 2018-06-15 21:36:00       36           36\n",
       "13944 2018-06-15 21:00:00 2018-06-15 21:36:00       36           36\n",
       "13945 2018-06-15 21:12:00 2018-06-16 09:48:00      756          756\n",
       "13946 2018-06-15 21:36:00 2018-06-15 21:48:00       12           12\n",
       "13947 2018-06-15 21:36:00 2018-06-15 21:48:00       12           12\n",
       "13948 2018-06-15 21:36:00 2018-06-15 22:42:00       66           66\n",
       "13949 2018-06-15 21:48:00 2018-06-15 22:00:00       12           12\n",
       "13950 2018-06-15 21:48:00 2018-06-15 21:57:00        9            9\n",
       "13951 2018-06-15 21:57:00 2018-06-15 22:03:00        6            6\n",
       "13952 2018-06-15 21:57:00 2018-06-16 08:03:00      606          606\n",
       "13953 2018-06-15 22:00:00 2018-06-15 22:03:00        3            3\n",
       "13954 2018-06-15 22:03:00 2018-06-15 22:09:00        6            6\n",
       "13955 2018-06-15 22:03:00 2018-06-15 22:09:00        6            6\n",
       "13956 2018-06-15 22:09:00 2018-06-15 22:15:00        6            6\n",
       "13957 2018-06-15 22:09:00 2018-06-15 22:39:00       30           30\n",
       "13958 2018-06-15 22:15:00 2018-06-15 22:21:00        6            6\n",
       "13960 2018-06-15 22:21:00 2018-06-15 22:45:00       24           24\n",
       "13961 2018-06-15 22:21:00 2018-06-16 08:39:00      618          618\n",
       "13962 2018-06-15 22:33:00 2018-06-15 23:12:00       39           39\n",
       "13963 2018-06-15 22:33:00 2018-06-16 08:09:00      576          576\n",
       "13964 2018-06-15 22:33:00 2018-06-16 08:06:00      573          573\n",
       "13965 2018-06-15 22:36:00 2018-06-16 08:57:00      621          621\n",
       "13966 2018-06-15 22:39:00 2018-06-16 08:42:00      603          603\n",
       "13967 2018-06-15 22:39:00 2018-06-16 07:24:00      525          525\n",
       "13968 2018-06-15 22:42:00 2018-06-16 05:18:00      396          498\n",
       "13969 2018-06-15 22:45:00 2018-06-16 10:09:00      684          684\n",
       "13970 2018-06-15 22:45:00 2018-06-15 23:33:00       48           48\n",
       "13971 2018-06-15 22:57:00 2018-06-16 07:27:00      510          510\n",
       "13972 2018-06-15 23:12:00 2018-06-16 05:27:00      375          468\n",
       "13973 2018-06-15 23:33:00 2018-06-16 09:30:00      597          597\n",
       "\n",
       "[815 rows x 4 columns]"
      ]
     },
     "execution_count": 39,
     "metadata": {},
     "output_type": "execute_result"
    }
   ],
   "source": [
    "# Check the results\n",
    "df[['time_start', 'time_end', 'minutes', 'minutes_day']]"
   ]
  },
  {
   "cell_type": "code",
   "execution_count": 47,
   "metadata": {},
   "outputs": [
    {
     "name": "stdout",
     "output_type": "stream",
     "text": [
      "mondial-2018 22 2430 2523\n",
      "Durée moyenne: 114.68181818181819 minutes\n",
      "europe 18 537 537\n",
      "Durée moyenne: 29.833333333333332 minutes\n",
      "Part des deux rubriques principales: 0.4495372410753636\n"
     ]
    }
   ],
   "source": [
    "# Have a look at some absolute values\n",
    "\n",
    "targetMedia = 22 # Le Monde\n",
    "\n",
    "top_headings = df[df['media_id'] == targetMedia]['heading'].value_counts().head(2).index\n",
    "\n",
    "top_sum = 0\n",
    "for heading in top_headings:\n",
    "    results = df[(df['media_id'] == targetMedia) & (df['heading'] == heading)]\n",
    "    print(heading, len(results), results['minutes'].sum(), results['minutes_day'].sum())\n",
    "    \n",
    "    results_day = results[results['minutes_day'] != 0]\n",
    "    print('Durée moyenne: {} minutes'.format( results_day['minutes_day'].sum() / len(results_day) ))\n",
    "    \n",
    "    top_sum += results['minutes_day'].sum()\n",
    "    \n",
    "print(\"Part des deux rubriques principales:\", top_sum / df[(df['media_id'] == targetMedia)]['minutes_day'].sum())"
   ]
  },
  {
   "cell_type": "code",
   "execution_count": 49,
   "metadata": {},
   "outputs": [
    {
     "name": "stdout",
     "output_type": "stream",
     "text": [
      "La Tribune de Genève\n",
      "heading\n",
      "geneve            47\n",
      "monde             17\n",
      "suisse            15\n",
      "coupe-du-monde    13\n",
      "economie           3\n",
      "sports             2\n",
      "culture            0\n",
      "Name: minutes_day, dtype: int64\n",
      "24 heures\n",
      "heading\n",
      "vaud-regions      56\n",
      "sports            25\n",
      "suisse            22\n",
      "coupe-du-monde     7\n",
      "monde              3\n",
      "news               1\n",
      "Name: minutes_day, dtype: int64\n",
      "Le Temps\n",
      "heading\n",
      "monde        59\n",
      "suisse       20\n",
      "economie     17\n",
      "opinions      4\n",
      "culture       4\n",
      "longform      3\n",
      "lifestyle     3\n",
      "societe       1\n",
      "sport         0\n",
      "sciences      0\n",
      "Name: minutes_day, dtype: int64\n",
      "Le Monde\n",
      "heading\n",
      "mondial-2018       42\n",
      "international      26\n",
      "les-decodeurs      14\n",
      "asie-pacifique     12\n",
      "europe              8\n",
      "emmanuel-macron     2\n",
      "economie            2\n",
      "idees               1\n",
      "sante               0\n",
      "politique           0\n",
      "Name: minutes_day, dtype: int64\n",
      "RTS info\n",
      "heading\n",
      "monde            57\n",
      "regions          31\n",
      "suisse           13\n",
      "economie          8\n",
      "culture           2\n",
      "sciences-tech     1\n",
      "tennis            0\n",
      "Name: minutes_day, dtype: int64\n",
      "20 minutes (ch)\n",
      "heading\n",
      "suisse          32\n",
      "vaud            25\n",
      "monde           21\n",
      "geneve          12\n",
      "adblock          8\n",
      "mondial2018      6\n",
      "romandie         4\n",
      "faits_divers     3\n",
      "multimedia       1\n",
      "Name: minutes_day, dtype: int64\n",
      "Le Matin\n",
      "heading\n",
      "suisse            48\n",
      "sports            16\n",
      "coupe-du-monde    15\n",
      "monde             14\n",
      "faits-divers      14\n",
      "societe            2\n",
      "people             2\n",
      "news               2\n",
      "loisirs            0\n",
      "high-tech          0\n",
      "Name: minutes_day, dtype: int64\n",
      "Mediapart\n",
      "heading\n",
      "france           92\n",
      "international    21\n",
      "economie         10\n",
      "Name: minutes_day, dtype: int64\n",
      "Le Figaro\n",
      "heading\n",
      "international       50\n",
      "actualite-france    14\n",
      "conjoncture         13\n",
      "sciences             9\n",
      "politique            8\n",
      "football             5\n",
      "social               4\n",
      "societes             2\n",
      "musique              2\n",
      "flash-eco            1\n",
      "Name: minutes_day, dtype: int64\n",
      "Libération\n",
      "heading\n",
      "national         56\n",
      "sports           28\n",
      "international    24\n",
      "checknews         8\n",
      "futurs            1\n",
      "photographie      0\n",
      "debats            0\n",
      "Name: minutes_day, dtype: int64\n",
      "La Côte\n",
      "heading\n",
      "région                           81\n",
      "coupe-du-monde-2018-en-russie    26\n",
      "sports                            7\n",
      "suisse                            1\n",
      "economie                          1\n",
      "Name: minutes_day, dtype: int64\n",
      "Arcinfo\n",
      "heading\n",
      "région                           64\n",
      "coupe-du-monde-2018-en-russie    25\n",
      "suisse                           20\n",
      "sports                            5\n",
      "neuchatel-xamax-fcs               2\n",
      "raiffeisen-trans                  1\n",
      "festi-neuch                       0\n",
      "Name: minutes_day, dtype: int64\n",
      "Le Nouvelliste\n",
      "heading\n",
      "région                           45\n",
      "coupe-du-monde-2018-en-russie    27\n",
      "sports                           12\n",
      "sante                             9\n",
      "suisse                            6\n",
      "fc-sion                           5\n",
      "lifestyle                         3\n",
      "monde                             2\n",
      "jeux-olympiques-d-hiver-2026      2\n",
      "valaistars                        0\n",
      "Name: minutes_day, dtype: int64\n",
      "La Liberté\n",
      "heading\n",
      "detail                                                         66\n",
      "fribourg                                                       21\n",
      "sports                                                         11\n",
      "ces-stars-qui-ont-joue-sur-les-terrains-fribourgeois-443285     8\n",
      "région                                                          4\n",
      "international                                                   3\n",
      "coupe-du-monde-2018                                             2\n",
      "etat-de-fribourg                                                1\n",
      "suisse                                                          0\n",
      "intemperies                                                     0\n",
      "Name: minutes_day, dtype: int64\n",
      "Le Courrier\n",
      "heading\n",
      "Genève           34\n",
      "Suisse           17\n",
      "Solidarité       16\n",
      "International    16\n",
      "Neuchâtel        14\n",
      "Vaud              7\n",
      "                  0\n",
      "Name: minutes_day, dtype: int64\n"
     ]
    }
   ],
   "source": [
    "# Valeurs absolues, en heures\n",
    "for media_id in medias['media_id'].tolist():\n",
    "    # Heures\n",
    "    print(medias[medias['media_id'] == media_id]['Nom'].values[0])\n",
    "    heading_times = df[df['media_id'] == media_id].groupby('heading')['minutes_day'].sum()//60\n",
    "    print(heading_times.sort_values(ascending=False).head(10))"
   ]
  },
  {
   "cell_type": "code",
   "execution_count": 50,
   "metadata": {},
   "outputs": [
    {
     "data": {
      "text/plain": [
       "10.46308704332476"
      ]
     },
     "execution_count": 50,
     "metadata": {},
     "output_type": "execute_result"
    }
   ],
   "source": [
    "heading_times.std()"
   ]
  },
  {
   "cell_type": "code",
   "execution_count": 51,
   "metadata": {},
   "outputs": [
    {
     "name": "stdout",
     "output_type": "stream",
     "text": [
      "La Tribune de Genève total: 6069\n",
      "Dev 16.0 top5 minutes_day    16.0\n",
      "dtype: float64\n",
      "24 heures total: 7059\n",
      "Dev 17.0 top5 minutes_day    17.0\n",
      "dtype: float64\n",
      "Le Temps total: 6945\n",
      "Dev 20.0 top5 minutes_day    20.0\n",
      "dtype: float64\n",
      "Le Monde total: 6807\n",
      "Dev 12.0 top5 minutes_day    12.0\n",
      "dtype: float64\n",
      "RTS info total: 6909\n",
      "Dev 19.0 top5 minutes_day    19.0\n",
      "dtype: float64\n",
      "20 minutes (ch) total: 6984\n",
      "Dev 9.0 top5 minutes_day    8.0\n",
      "dtype: float64\n",
      "Le Matin total: 7053\n",
      "Dev 13.0 top5 minutes_day    13.0\n",
      "dtype: float64\n",
      "Mediapart total: 7491\n",
      "Dev 35.0 top5 minutes_day    35.0\n",
      "dtype: float64\n",
      "Le Figaro total: 6837\n",
      "Dev 15.0 top5 minutes_day    16.0\n",
      "dtype: float64\n",
      "Libération total: 7182\n",
      "Dev 17.0 top5 minutes_day    17.0\n",
      "dtype: float64\n",
      "La Côte total: 7113\n",
      "Dev 32.0 top5 minutes_day    32.0\n",
      "dtype: float64\n",
      "Arcinfo total: 7227\n",
      "Dev 21.0 top5 minutes_day    21.0\n",
      "dtype: float64\n",
      "Le Nouvelliste total: 6921\n",
      "Dev 14.0 top5 minutes_day    14.0\n",
      "dtype: float64\n",
      "La Liberté total: 7224\n",
      "Dev 22.0 top5 minutes_day    22.0\n",
      "dtype: float64\n",
      "Le Courrier total: 6408\n",
      "Dev 8.0 top5 minutes_day    8.0\n",
      "dtype: float64\n"
     ]
    }
   ],
   "source": [
    "# Valeurs relatives\n",
    "for media_id in medias['media_id'].tolist():\n",
    "    # Heures\n",
    "    theMedia = medias[medias['media_id'] == media_id]\n",
    "    mediaSum = df[df['media_id'] == media_id]['minutes_day'].sum()\n",
    "    print(theMedia['Nom'].values[0], 'total:', mediaSum)\n",
    "    heading_times = (round(100 * df[df['media_id'] == media_id].groupby('heading')['minutes_day'].sum() / mediaSum)).to_frame()\n",
    "    heading_times = heading_times[heading_times['minutes_day'] >= 5].copy()\n",
    "    print('Dev', round(heading_times['minutes_day'].std()), 'top5',round(heading_times.sort_values('minutes_day', ascending=False).head().std()))\n",
    "    \n",
    "    #others = 100 - heading_times[heading_times['minutes_day'] >= 5]['minutes_day'].sum()\n",
    "    #heading_times.loc['autres'] = {'minutes_day': others}\n",
    "    #print(heading_times.sort_values('minutes_day', ascending=False).head(2)['minutes_day'].sum())\n",
    "\n"
   ]
  },
  {
   "cell_type": "code",
   "execution_count": 52,
   "metadata": {},
   "outputs": [
    {
     "data": {
      "text/html": [
       "<div>\n",
       "<style scoped>\n",
       "    .dataframe tbody tr th:only-of-type {\n",
       "        vertical-align: middle;\n",
       "    }\n",
       "\n",
       "    .dataframe tbody tr th {\n",
       "        vertical-align: top;\n",
       "    }\n",
       "\n",
       "    .dataframe thead th {\n",
       "        text-align: right;\n",
       "    }\n",
       "</style>\n",
       "<table border=\"1\" class=\"dataframe\">\n",
       "  <thead>\n",
       "    <tr style=\"text-align: right;\">\n",
       "      <th></th>\n",
       "      <th>minutes_day</th>\n",
       "    </tr>\n",
       "    <tr>\n",
       "      <th>heading</th>\n",
       "      <th></th>\n",
       "    </tr>\n",
       "  </thead>\n",
       "  <tbody>\n",
       "    <tr>\n",
       "      <th>Genève</th>\n",
       "      <td>32.0</td>\n",
       "    </tr>\n",
       "    <tr>\n",
       "      <th>Suisse</th>\n",
       "      <td>17.0</td>\n",
       "    </tr>\n",
       "  </tbody>\n",
       "</table>\n",
       "</div>"
      ],
      "text/plain": [
       "         minutes_day\n",
       "heading             \n",
       "Genève          32.0\n",
       "Suisse          17.0"
      ]
     },
     "execution_count": 52,
     "metadata": {},
     "output_type": "execute_result"
    }
   ],
   "source": [
    "heading_times.sort_values('minutes_day', ascending=False).head(2)"
   ]
  },
  {
   "cell_type": "code",
   "execution_count": 53,
   "metadata": {
    "collapsed": true
   },
   "outputs": [],
   "source": [
    "def getVariedRatioByTop(_group):\n",
    "    heading_times = (round(100 * _group.groupby('heading')['minutes_day'].sum() / _group['minutes_day'].sum())).to_frame()\n",
    "    \n",
    "    return 100 - round(heading_times.sort_values('minutes_day', ascending=False).head(2)['minutes_day'].sum())"
   ]
  },
  {
   "cell_type": "code",
   "execution_count": 54,
   "metadata": {
    "collapsed": true
   },
   "outputs": [],
   "source": [
    "def getVariedRatioByStd(_group):\n",
    "    heading_times = (round(100 * _group.groupby('heading')['minutes_day'].sum() / _group['minutes_day'].sum())).to_frame()\n",
    "    heading_times = heading_times[heading_times['minutes_day'] >= 5].copy()\n",
    "    \n",
    "    # print(heading_times.sort_values('minutes_day', ascending=False).head(2)['minutes_day'].sum())\n",
    "    return 500 / round(heading_times.sort_values('minutes_day', ascending=False).head().std())"
   ]
  },
  {
   "cell_type": "code",
   "execution_count": 55,
   "metadata": {},
   "outputs": [
    {
     "data": {
      "text/html": [
       "<div>\n",
       "<style scoped>\n",
       "    .dataframe tbody tr th:only-of-type {\n",
       "        vertical-align: middle;\n",
       "    }\n",
       "\n",
       "    .dataframe tbody tr th {\n",
       "        vertical-align: top;\n",
       "    }\n",
       "\n",
       "    .dataframe thead th {\n",
       "        text-align: right;\n",
       "    }\n",
       "</style>\n",
       "<table border=\"1\" class=\"dataframe\">\n",
       "  <thead>\n",
       "    <tr style=\"text-align: right;\">\n",
       "      <th></th>\n",
       "      <th>media_id</th>\n",
       "      <th>Nom</th>\n",
       "      <th>signed</th>\n",
       "      <th>varied</th>\n",
       "      <th>varied-2</th>\n",
       "      <th>varied-3</th>\n",
       "    </tr>\n",
       "  </thead>\n",
       "  <tbody>\n",
       "    <tr>\n",
       "      <th>0</th>\n",
       "      <td>19</td>\n",
       "      <td>La Tribune de Genève</td>\n",
       "      <td>48</td>\n",
       "      <td>33</td>\n",
       "      <td>31</td>\n",
       "      <td>36</td>\n",
       "    </tr>\n",
       "    <tr>\n",
       "      <th>1</th>\n",
       "      <td>20</td>\n",
       "      <td>24 heures</td>\n",
       "      <td>44</td>\n",
       "      <td>30</td>\n",
       "      <td>29</td>\n",
       "      <td>31</td>\n",
       "    </tr>\n",
       "    <tr>\n",
       "      <th>2</th>\n",
       "      <td>21</td>\n",
       "      <td>Le Temps</td>\n",
       "      <td>47</td>\n",
       "      <td>28</td>\n",
       "      <td>25</td>\n",
       "      <td>32</td>\n",
       "    </tr>\n",
       "    <tr>\n",
       "      <th>3</th>\n",
       "      <td>22</td>\n",
       "      <td>Le Monde</td>\n",
       "      <td>59</td>\n",
       "      <td>40</td>\n",
       "      <td>41</td>\n",
       "      <td>39</td>\n",
       "    </tr>\n",
       "    <tr>\n",
       "      <th>4</th>\n",
       "      <td>23</td>\n",
       "      <td>RTS info</td>\n",
       "      <td>0</td>\n",
       "      <td>24</td>\n",
       "      <td>26</td>\n",
       "      <td>22</td>\n",
       "    </tr>\n",
       "    <tr>\n",
       "      <th>5</th>\n",
       "      <td>24</td>\n",
       "      <td>20 minutes (ch)</td>\n",
       "      <td>37</td>\n",
       "      <td>56</td>\n",
       "      <td>62</td>\n",
       "      <td>50</td>\n",
       "    </tr>\n",
       "    <tr>\n",
       "      <th>6</th>\n",
       "      <td>25</td>\n",
       "      <td>Le Matin</td>\n",
       "      <td>29</td>\n",
       "      <td>41</td>\n",
       "      <td>38</td>\n",
       "      <td>45</td>\n",
       "    </tr>\n",
       "    <tr>\n",
       "      <th>7</th>\n",
       "      <td>26</td>\n",
       "      <td>Mediapart</td>\n",
       "      <td>72</td>\n",
       "      <td>11</td>\n",
       "      <td>14</td>\n",
       "      <td>9</td>\n",
       "    </tr>\n",
       "    <tr>\n",
       "      <th>8</th>\n",
       "      <td>27</td>\n",
       "      <td>Le Figaro</td>\n",
       "      <td>52</td>\n",
       "      <td>36</td>\n",
       "      <td>31</td>\n",
       "      <td>42</td>\n",
       "    </tr>\n",
       "    <tr>\n",
       "      <th>9</th>\n",
       "      <td>28</td>\n",
       "      <td>Libération</td>\n",
       "      <td>77</td>\n",
       "      <td>29</td>\n",
       "      <td>29</td>\n",
       "      <td>29</td>\n",
       "    </tr>\n",
       "    <tr>\n",
       "      <th>10</th>\n",
       "      <td>29</td>\n",
       "      <td>La Côte</td>\n",
       "      <td>55</td>\n",
       "      <td>12</td>\n",
       "      <td>15</td>\n",
       "      <td>10</td>\n",
       "    </tr>\n",
       "    <tr>\n",
       "      <th>11</th>\n",
       "      <td>30</td>\n",
       "      <td>Arcinfo</td>\n",
       "      <td>45</td>\n",
       "      <td>24</td>\n",
       "      <td>23</td>\n",
       "      <td>25</td>\n",
       "    </tr>\n",
       "    <tr>\n",
       "      <th>12</th>\n",
       "      <td>31</td>\n",
       "      <td>Le Nouvelliste</td>\n",
       "      <td>48</td>\n",
       "      <td>36</td>\n",
       "      <td>35</td>\n",
       "      <td>37</td>\n",
       "    </tr>\n",
       "    <tr>\n",
       "      <th>13</th>\n",
       "      <td>32</td>\n",
       "      <td>La Liberté</td>\n",
       "      <td>55</td>\n",
       "      <td>24</td>\n",
       "      <td>22</td>\n",
       "      <td>27</td>\n",
       "    </tr>\n",
       "    <tr>\n",
       "      <th>14</th>\n",
       "      <td>33</td>\n",
       "      <td>Le Courrier</td>\n",
       "      <td>100</td>\n",
       "      <td>56</td>\n",
       "      <td>62</td>\n",
       "      <td>51</td>\n",
       "    </tr>\n",
       "  </tbody>\n",
       "</table>\n",
       "</div>"
      ],
      "text/plain": [
       "    media_id                   Nom  signed  varied  varied-2  varied-3\n",
       "0         19  La Tribune de Genève      48      33        31        36\n",
       "1         20             24 heures      44      30        29        31\n",
       "2         21              Le Temps      47      28        25        32\n",
       "3         22              Le Monde      59      40        41        39\n",
       "4         23              RTS info       0      24        26        22\n",
       "5         24       20 minutes (ch)      37      56        62        50\n",
       "6         25              Le Matin      29      41        38        45\n",
       "7         26             Mediapart      72      11        14         9\n",
       "8         27             Le Figaro      52      36        31        42\n",
       "9         28            Libération      77      29        29        29\n",
       "10        29               La Côte      55      12        15        10\n",
       "11        30               Arcinfo      45      24        23        25\n",
       "12        31        Le Nouvelliste      48      36        35        37\n",
       "13        32            La Liberté      55      24        22        27\n",
       "14        33           Le Courrier     100      56        62        51"
      ]
     },
     "execution_count": 55,
     "metadata": {},
     "output_type": "execute_result"
    }
   ],
   "source": [
    "medias['varied'] = -1\n",
    "medias['varied-2'] = -1\n",
    "medias['varied-3'] = -1\n",
    "\n",
    "for i, row in medias.iterrows():\n",
    "    group = df[df['media_id'] == row['media_id']]\n",
    "    medias.at[i, 'varied'] = (getVariedRatioByTop(group) + getVariedRatioByStd(group)) / 2\n",
    "    medias.at[i, 'varied-2'] = getVariedRatioByStd(group)\n",
    "    medias.at[i, 'varied-3'] = getVariedRatioByTop(group)\n",
    "\n",
    "medias"
   ]
  },
  {
   "cell_type": "code",
   "execution_count": 56,
   "metadata": {
    "collapsed": true
   },
   "outputs": [],
   "source": [
    "del medias['varied-2']\n",
    "del medias['varied-3']"
   ]
  },
  {
   "cell_type": "code",
   "execution_count": 58,
   "metadata": {
    "collapsed": true
   },
   "outputs": [],
   "source": [
    "medias.to_csv('df/medias_rated_v1_11-15_juin.csv')"
   ]
  },
  {
   "cell_type": "code",
   "execution_count": 59,
   "metadata": {
    "collapsed": true
   },
   "outputs": [],
   "source": [
    "heading_times['heading'] = heading_times.index"
   ]
  },
  {
   "cell_type": "code",
   "execution_count": 60,
   "metadata": {},
   "outputs": [
    {
     "data": {
      "text/html": [
       "<div>\n",
       "<style scoped>\n",
       "    .dataframe tbody tr th:only-of-type {\n",
       "        vertical-align: middle;\n",
       "    }\n",
       "\n",
       "    .dataframe tbody tr th {\n",
       "        vertical-align: top;\n",
       "    }\n",
       "\n",
       "    .dataframe thead th {\n",
       "        text-align: right;\n",
       "    }\n",
       "</style>\n",
       "<table border=\"1\" class=\"dataframe\">\n",
       "  <thead>\n",
       "    <tr style=\"text-align: right;\">\n",
       "      <th></th>\n",
       "      <th>minutes_day</th>\n",
       "      <th>heading</th>\n",
       "    </tr>\n",
       "    <tr>\n",
       "      <th>heading</th>\n",
       "      <th></th>\n",
       "      <th></th>\n",
       "    </tr>\n",
       "  </thead>\n",
       "  <tbody>\n",
       "    <tr>\n",
       "      <th>International</th>\n",
       "      <td>15.0</td>\n",
       "      <td>International</td>\n",
       "    </tr>\n",
       "  </tbody>\n",
       "</table>\n",
       "</div>"
      ],
      "text/plain": [
       "               minutes_day        heading\n",
       "heading                                  \n",
       "International         15.0  International"
      ]
     },
     "execution_count": 60,
     "metadata": {},
     "output_type": "execute_result"
    }
   ],
   "source": [
    "import re\n",
    "heading_times[heading_times.index.str.contains('international|monde', flags=re.IGNORECASE)]"
   ]
  },
  {
   "cell_type": "code",
   "execution_count": 61,
   "metadata": {
    "collapsed": true
   },
   "outputs": [],
   "source": [
    "def getInternationalRatio(_group):\n",
    "    heading_times = (round(100 * _group.groupby('heading')['minutes_day'].sum() / _group['minutes_day'].sum())).to_frame()\n",
    "    # monde$ to avoid “coupe du monde au brésil”\n",
    "    result = heading_times[heading_times.index.str.contains('international|monde$', flags=re.IGNORECASE)]\n",
    "    print(*result.index.tolist())\n",
    "    return result['minutes_day'].sum()"
   ]
  },
  {
   "cell_type": "code",
   "execution_count": 62,
   "metadata": {},
   "outputs": [
    {
     "name": "stdout",
     "output_type": "stream",
     "text": [
      "coupe-du-monde monde\n",
      "coupe-du-monde monde\n",
      "monde\n",
      "international\n",
      "monde\n",
      "monde\n",
      "coupe-du-monde monde\n",
      "international\n",
      "international\n",
      "international\n",
      "\n",
      "\n",
      "monde\n",
      "international\n",
      "International\n"
     ]
    },
    {
     "data": {
      "text/html": [
       "<div>\n",
       "<style scoped>\n",
       "    .dataframe tbody tr th:only-of-type {\n",
       "        vertical-align: middle;\n",
       "    }\n",
       "\n",
       "    .dataframe tbody tr th {\n",
       "        vertical-align: top;\n",
       "    }\n",
       "\n",
       "    .dataframe thead th {\n",
       "        text-align: right;\n",
       "    }\n",
       "</style>\n",
       "<table border=\"1\" class=\"dataframe\">\n",
       "  <thead>\n",
       "    <tr style=\"text-align: right;\">\n",
       "      <th></th>\n",
       "      <th>media_id</th>\n",
       "      <th>Nom</th>\n",
       "      <th>signed</th>\n",
       "      <th>varied</th>\n",
       "      <th>international</th>\n",
       "    </tr>\n",
       "  </thead>\n",
       "  <tbody>\n",
       "    <tr>\n",
       "      <th>0</th>\n",
       "      <td>19</td>\n",
       "      <td>La Tribune de Genève</td>\n",
       "      <td>48</td>\n",
       "      <td>33</td>\n",
       "      <td>30</td>\n",
       "    </tr>\n",
       "    <tr>\n",
       "      <th>1</th>\n",
       "      <td>20</td>\n",
       "      <td>24 heures</td>\n",
       "      <td>44</td>\n",
       "      <td>30</td>\n",
       "      <td>10</td>\n",
       "    </tr>\n",
       "    <tr>\n",
       "      <th>2</th>\n",
       "      <td>21</td>\n",
       "      <td>Le Temps</td>\n",
       "      <td>47</td>\n",
       "      <td>28</td>\n",
       "      <td>51</td>\n",
       "    </tr>\n",
       "    <tr>\n",
       "      <th>3</th>\n",
       "      <td>22</td>\n",
       "      <td>Le Monde</td>\n",
       "      <td>59</td>\n",
       "      <td>40</td>\n",
       "      <td>24</td>\n",
       "    </tr>\n",
       "    <tr>\n",
       "      <th>4</th>\n",
       "      <td>23</td>\n",
       "      <td>RTS info</td>\n",
       "      <td>0</td>\n",
       "      <td>24</td>\n",
       "      <td>50</td>\n",
       "    </tr>\n",
       "    <tr>\n",
       "      <th>5</th>\n",
       "      <td>24</td>\n",
       "      <td>20 minutes (ch)</td>\n",
       "      <td>37</td>\n",
       "      <td>56</td>\n",
       "      <td>18</td>\n",
       "    </tr>\n",
       "    <tr>\n",
       "      <th>6</th>\n",
       "      <td>25</td>\n",
       "      <td>Le Matin</td>\n",
       "      <td>29</td>\n",
       "      <td>41</td>\n",
       "      <td>26</td>\n",
       "    </tr>\n",
       "    <tr>\n",
       "      <th>7</th>\n",
       "      <td>26</td>\n",
       "      <td>Mediapart</td>\n",
       "      <td>72</td>\n",
       "      <td>11</td>\n",
       "      <td>17</td>\n",
       "    </tr>\n",
       "    <tr>\n",
       "      <th>8</th>\n",
       "      <td>27</td>\n",
       "      <td>Le Figaro</td>\n",
       "      <td>52</td>\n",
       "      <td>36</td>\n",
       "      <td>45</td>\n",
       "    </tr>\n",
       "    <tr>\n",
       "      <th>9</th>\n",
       "      <td>28</td>\n",
       "      <td>Libération</td>\n",
       "      <td>77</td>\n",
       "      <td>29</td>\n",
       "      <td>20</td>\n",
       "    </tr>\n",
       "    <tr>\n",
       "      <th>10</th>\n",
       "      <td>29</td>\n",
       "      <td>La Côte</td>\n",
       "      <td>55</td>\n",
       "      <td>12</td>\n",
       "      <td>0</td>\n",
       "    </tr>\n",
       "    <tr>\n",
       "      <th>11</th>\n",
       "      <td>30</td>\n",
       "      <td>Arcinfo</td>\n",
       "      <td>45</td>\n",
       "      <td>24</td>\n",
       "      <td>0</td>\n",
       "    </tr>\n",
       "    <tr>\n",
       "      <th>12</th>\n",
       "      <td>31</td>\n",
       "      <td>Le Nouvelliste</td>\n",
       "      <td>48</td>\n",
       "      <td>36</td>\n",
       "      <td>2</td>\n",
       "    </tr>\n",
       "    <tr>\n",
       "      <th>13</th>\n",
       "      <td>32</td>\n",
       "      <td>La Liberté</td>\n",
       "      <td>55</td>\n",
       "      <td>24</td>\n",
       "      <td>3</td>\n",
       "    </tr>\n",
       "    <tr>\n",
       "      <th>14</th>\n",
       "      <td>33</td>\n",
       "      <td>Le Courrier</td>\n",
       "      <td>100</td>\n",
       "      <td>56</td>\n",
       "      <td>15</td>\n",
       "    </tr>\n",
       "  </tbody>\n",
       "</table>\n",
       "</div>"
      ],
      "text/plain": [
       "    media_id                   Nom  signed  varied  international\n",
       "0         19  La Tribune de Genève      48      33             30\n",
       "1         20             24 heures      44      30             10\n",
       "2         21              Le Temps      47      28             51\n",
       "3         22              Le Monde      59      40             24\n",
       "4         23              RTS info       0      24             50\n",
       "5         24       20 minutes (ch)      37      56             18\n",
       "6         25              Le Matin      29      41             26\n",
       "7         26             Mediapart      72      11             17\n",
       "8         27             Le Figaro      52      36             45\n",
       "9         28            Libération      77      29             20\n",
       "10        29               La Côte      55      12              0\n",
       "11        30               Arcinfo      45      24              0\n",
       "12        31        Le Nouvelliste      48      36              2\n",
       "13        32            La Liberté      55      24              3\n",
       "14        33           Le Courrier     100      56             15"
      ]
     },
     "execution_count": 62,
     "metadata": {},
     "output_type": "execute_result"
    }
   ],
   "source": [
    "medias['international'] = -1\n",
    "\n",
    "for i, row in medias.iterrows():\n",
    "    group = df[(df['media_id'] == row['media_id'])]  #  & (df['editor'] == 1)\n",
    "    medias.at[i, 'international'] = getInternationalRatio(group)\n",
    "medias"
   ]
  },
  {
   "cell_type": "code",
   "execution_count": null,
   "metadata": {
    "collapsed": true
   },
   "outputs": [],
   "source": []
  },
  {
   "cell_type": "code",
   "execution_count": 217,
   "metadata": {
    "collapsed": true
   },
   "outputs": [],
   "source": [
    "df.to_csv('df/stories-minutes-day-v3.csv')"
   ]
  },
  {
   "cell_type": "code",
   "execution_count": null,
   "metadata": {
    "collapsed": true
   },
   "outputs": [],
   "source": []
  },
  {
   "cell_type": "code",
   "execution_count": null,
   "metadata": {
    "collapsed": true
   },
   "outputs": [],
   "source": []
  },
  {
   "cell_type": "code",
   "execution_count": 63,
   "metadata": {
    "collapsed": true
   },
   "outputs": [],
   "source": [
    "%matplotlib inline\n",
    "import matplotlib.pyplot as plt"
   ]
  },
  {
   "cell_type": "code",
   "execution_count": 64,
   "metadata": {},
   "outputs": [
    {
     "data": {
      "text/plain": [
       "<matplotlib.axes._subplots.AxesSubplot at 0x1116bf5f8>"
      ]
     },
     "execution_count": 64,
     "metadata": {},
     "output_type": "execute_result"
    },
    {
     "data": {
      "image/png": "[encoded data removed]",
      "text/plain": [
       "<matplotlib.figure.Figure at 0x10ee67c50>"
      ]
     },
     "metadata": {},
     "output_type": "display_data"
    }
   ],
   "source": [
    "# Tribune de Genève\n",
    "group = df[(df['media_id'] == 19) & (df['editor'] != 1)]\n",
    "group['time_start'].dt.hour.hist()"
   ]
  },
  {
   "cell_type": "code",
   "execution_count": 65,
   "metadata": {
    "collapsed": true
   },
   "outputs": [],
   "source": [
    "df.index = df.time_start"
   ]
  },
  {
   "cell_type": "code",
   "execution_count": 66,
   "metadata": {
    "collapsed": true
   },
   "outputs": [],
   "source": [
    "# Matin 8h-15h vs soir 16h-23h?\n",
    "# [Ou 9h-16h vs 17h-23h?]"
   ]
  },
  {
   "cell_type": "code",
   "execution_count": 69,
   "metadata": {
    "collapsed": true
   },
   "outputs": [],
   "source": [
    "def getDigitalFirstRatio(_group):\n",
    "    _group = _group[(_group['time_start'].dt.hour > 7) & (_group['time_start'].dt.hour < 24) & (_group['editor'] == 1)]\n",
    "    \n",
    "    if len(_group) < 1:\n",
    "        print('No signed stories found')\n",
    "        return -1\n",
    "    \n",
    "    morning = _group[_group.index.hour < 16]\n",
    "    evening = _group[_group.index.hour >= 16]\n",
    "    \n",
    "    return int( round( 100 * len(morning) / len(_group) ) )"
   ]
  },
  {
   "cell_type": "code",
   "execution_count": 70,
   "metadata": {},
   "outputs": [
    {
     "name": "stdout",
     "output_type": "stream",
     "text": [
      "No signed stories found\n"
     ]
    },
    {
     "data": {
      "text/html": [
       "<div>\n",
       "<style scoped>\n",
       "    .dataframe tbody tr th:only-of-type {\n",
       "        vertical-align: middle;\n",
       "    }\n",
       "\n",
       "    .dataframe tbody tr th {\n",
       "        vertical-align: top;\n",
       "    }\n",
       "\n",
       "    .dataframe thead th {\n",
       "        text-align: right;\n",
       "    }\n",
       "</style>\n",
       "<table border=\"1\" class=\"dataframe\">\n",
       "  <thead>\n",
       "    <tr style=\"text-align: right;\">\n",
       "      <th></th>\n",
       "      <th>media_id</th>\n",
       "      <th>Nom</th>\n",
       "      <th>signed</th>\n",
       "      <th>varied</th>\n",
       "      <th>international</th>\n",
       "      <th>digitalfirst</th>\n",
       "    </tr>\n",
       "  </thead>\n",
       "  <tbody>\n",
       "    <tr>\n",
       "      <th>0</th>\n",
       "      <td>19</td>\n",
       "      <td>La Tribune de Genève</td>\n",
       "      <td>48</td>\n",
       "      <td>33</td>\n",
       "      <td>30</td>\n",
       "      <td>32</td>\n",
       "    </tr>\n",
       "    <tr>\n",
       "      <th>1</th>\n",
       "      <td>20</td>\n",
       "      <td>24 heures</td>\n",
       "      <td>44</td>\n",
       "      <td>30</td>\n",
       "      <td>10</td>\n",
       "      <td>33</td>\n",
       "    </tr>\n",
       "    <tr>\n",
       "      <th>2</th>\n",
       "      <td>21</td>\n",
       "      <td>Le Temps</td>\n",
       "      <td>47</td>\n",
       "      <td>28</td>\n",
       "      <td>51</td>\n",
       "      <td>65</td>\n",
       "    </tr>\n",
       "    <tr>\n",
       "      <th>3</th>\n",
       "      <td>22</td>\n",
       "      <td>Le Monde</td>\n",
       "      <td>59</td>\n",
       "      <td>40</td>\n",
       "      <td>24</td>\n",
       "      <td>71</td>\n",
       "    </tr>\n",
       "    <tr>\n",
       "      <th>4</th>\n",
       "      <td>23</td>\n",
       "      <td>RTS info</td>\n",
       "      <td>0</td>\n",
       "      <td>24</td>\n",
       "      <td>50</td>\n",
       "      <td>-1</td>\n",
       "    </tr>\n",
       "    <tr>\n",
       "      <th>5</th>\n",
       "      <td>24</td>\n",
       "      <td>20 minutes (ch)</td>\n",
       "      <td>37</td>\n",
       "      <td>56</td>\n",
       "      <td>18</td>\n",
       "      <td>53</td>\n",
       "    </tr>\n",
       "    <tr>\n",
       "      <th>6</th>\n",
       "      <td>25</td>\n",
       "      <td>Le Matin</td>\n",
       "      <td>29</td>\n",
       "      <td>41</td>\n",
       "      <td>26</td>\n",
       "      <td>65</td>\n",
       "    </tr>\n",
       "    <tr>\n",
       "      <th>7</th>\n",
       "      <td>26</td>\n",
       "      <td>Mediapart</td>\n",
       "      <td>72</td>\n",
       "      <td>11</td>\n",
       "      <td>17</td>\n",
       "      <td>38</td>\n",
       "    </tr>\n",
       "    <tr>\n",
       "      <th>8</th>\n",
       "      <td>27</td>\n",
       "      <td>Le Figaro</td>\n",
       "      <td>52</td>\n",
       "      <td>36</td>\n",
       "      <td>45</td>\n",
       "      <td>40</td>\n",
       "    </tr>\n",
       "    <tr>\n",
       "      <th>9</th>\n",
       "      <td>28</td>\n",
       "      <td>Libération</td>\n",
       "      <td>77</td>\n",
       "      <td>29</td>\n",
       "      <td>20</td>\n",
       "      <td>42</td>\n",
       "    </tr>\n",
       "    <tr>\n",
       "      <th>10</th>\n",
       "      <td>29</td>\n",
       "      <td>La Côte</td>\n",
       "      <td>55</td>\n",
       "      <td>12</td>\n",
       "      <td>0</td>\n",
       "      <td>50</td>\n",
       "    </tr>\n",
       "    <tr>\n",
       "      <th>11</th>\n",
       "      <td>30</td>\n",
       "      <td>Arcinfo</td>\n",
       "      <td>45</td>\n",
       "      <td>24</td>\n",
       "      <td>0</td>\n",
       "      <td>33</td>\n",
       "    </tr>\n",
       "    <tr>\n",
       "      <th>12</th>\n",
       "      <td>31</td>\n",
       "      <td>Le Nouvelliste</td>\n",
       "      <td>48</td>\n",
       "      <td>36</td>\n",
       "      <td>2</td>\n",
       "      <td>47</td>\n",
       "    </tr>\n",
       "    <tr>\n",
       "      <th>13</th>\n",
       "      <td>32</td>\n",
       "      <td>La Liberté</td>\n",
       "      <td>55</td>\n",
       "      <td>24</td>\n",
       "      <td>3</td>\n",
       "      <td>100</td>\n",
       "    </tr>\n",
       "    <tr>\n",
       "      <th>14</th>\n",
       "      <td>33</td>\n",
       "      <td>Le Courrier</td>\n",
       "      <td>100</td>\n",
       "      <td>56</td>\n",
       "      <td>15</td>\n",
       "      <td>38</td>\n",
       "    </tr>\n",
       "  </tbody>\n",
       "</table>\n",
       "</div>"
      ],
      "text/plain": [
       "    media_id                   Nom  signed  varied  international  \\\n",
       "0         19  La Tribune de Genève      48      33             30   \n",
       "1         20             24 heures      44      30             10   \n",
       "2         21              Le Temps      47      28             51   \n",
       "3         22              Le Monde      59      40             24   \n",
       "4         23              RTS info       0      24             50   \n",
       "5         24       20 minutes (ch)      37      56             18   \n",
       "6         25              Le Matin      29      41             26   \n",
       "7         26             Mediapart      72      11             17   \n",
       "8         27             Le Figaro      52      36             45   \n",
       "9         28            Libération      77      29             20   \n",
       "10        29               La Côte      55      12              0   \n",
       "11        30               Arcinfo      45      24              0   \n",
       "12        31        Le Nouvelliste      48      36              2   \n",
       "13        32            La Liberté      55      24              3   \n",
       "14        33           Le Courrier     100      56             15   \n",
       "\n",
       "    digitalfirst  \n",
       "0             32  \n",
       "1             33  \n",
       "2             65  \n",
       "3             71  \n",
       "4             -1  \n",
       "5             53  \n",
       "6             65  \n",
       "7             38  \n",
       "8             40  \n",
       "9             42  \n",
       "10            50  \n",
       "11            33  \n",
       "12            47  \n",
       "13           100  \n",
       "14            38  "
      ]
     },
     "execution_count": 70,
     "metadata": {},
     "output_type": "execute_result"
    }
   ],
   "source": [
    "medias['digitalfirst'] = -1\n",
    "\n",
    "for i, row in medias.iterrows():\n",
    "    group = df[(df['media_id'] == row['media_id'])]  #  & (df['editor'] == 1)\n",
    "    medias.at[i, 'digitalfirst'] = getDigitalFirstRatio(group)\n",
    "medias"
   ]
  },
  {
   "cell_type": "code",
   "execution_count": 71,
   "metadata": {
    "collapsed": true
   },
   "outputs": [],
   "source": [
    "df_ps = pd.read_csv('df/df_ps.csv', usecols=['fully_loaded_time', 'media_id', 'page_load_time',\n",
    "       'pagespeed_score', 'report_url'])"
   ]
  },
  {
   "cell_type": "code",
   "execution_count": 72,
   "metadata": {
    "collapsed": true
   },
   "outputs": [],
   "source": [
    "dfm = medias.merge(df_ps, on='media_id')"
   ]
  },
  {
   "cell_type": "code",
   "execution_count": 73,
   "metadata": {},
   "outputs": [
    {
     "data": {
      "text/html": [
       "<div>\n",
       "<style scoped>\n",
       "    .dataframe tbody tr th:only-of-type {\n",
       "        vertical-align: middle;\n",
       "    }\n",
       "\n",
       "    .dataframe tbody tr th {\n",
       "        vertical-align: top;\n",
       "    }\n",
       "\n",
       "    .dataframe thead th {\n",
       "        text-align: right;\n",
       "    }\n",
       "</style>\n",
       "<table border=\"1\" class=\"dataframe\">\n",
       "  <thead>\n",
       "    <tr style=\"text-align: right;\">\n",
       "      <th></th>\n",
       "      <th>media_id</th>\n",
       "      <th>Nom</th>\n",
       "      <th>signed</th>\n",
       "      <th>varied</th>\n",
       "      <th>international</th>\n",
       "      <th>digitalfirst</th>\n",
       "      <th>fully_loaded_time</th>\n",
       "      <th>page_load_time</th>\n",
       "      <th>pagespeed_score</th>\n",
       "      <th>report_url</th>\n",
       "      <th>fast</th>\n",
       "    </tr>\n",
       "  </thead>\n",
       "  <tbody>\n",
       "    <tr>\n",
       "      <th>0</th>\n",
       "      <td>19</td>\n",
       "      <td>La Tribune de Genève</td>\n",
       "      <td>48</td>\n",
       "      <td>33</td>\n",
       "      <td>30</td>\n",
       "      <td>32</td>\n",
       "      <td>41.180</td>\n",
       "      <td>39.295</td>\n",
       "      <td>23</td>\n",
       "      <td>https://gtmetrix.com/reports/www.tdg.ch/Yb5GJeh7</td>\n",
       "      <td>17</td>\n",
       "    </tr>\n",
       "    <tr>\n",
       "      <th>1</th>\n",
       "      <td>20</td>\n",
       "      <td>24 heures</td>\n",
       "      <td>44</td>\n",
       "      <td>30</td>\n",
       "      <td>10</td>\n",
       "      <td>33</td>\n",
       "      <td>11.432</td>\n",
       "      <td>9.202</td>\n",
       "      <td>25</td>\n",
       "      <td>https://gtmetrix.com/reports/www.24heures.ch/W...</td>\n",
       "      <td>38</td>\n",
       "    </tr>\n",
       "    <tr>\n",
       "      <th>2</th>\n",
       "      <td>21</td>\n",
       "      <td>Le Temps</td>\n",
       "      <td>47</td>\n",
       "      <td>28</td>\n",
       "      <td>51</td>\n",
       "      <td>65</td>\n",
       "      <td>10.844</td>\n",
       "      <td>10.340</td>\n",
       "      <td>54</td>\n",
       "      <td>https://gtmetrix.com/reports/www.letemps.ch/UW...</td>\n",
       "      <td>58</td>\n",
       "    </tr>\n",
       "    <tr>\n",
       "      <th>3</th>\n",
       "      <td>22</td>\n",
       "      <td>Le Monde</td>\n",
       "      <td>59</td>\n",
       "      <td>40</td>\n",
       "      <td>24</td>\n",
       "      <td>71</td>\n",
       "      <td>13.984</td>\n",
       "      <td>6.525</td>\n",
       "      <td>34</td>\n",
       "      <td>https://gtmetrix.com/reports/www.lemonde.fr/UM...</td>\n",
       "      <td>48</td>\n",
       "    </tr>\n",
       "    <tr>\n",
       "      <th>4</th>\n",
       "      <td>23</td>\n",
       "      <td>RTS info</td>\n",
       "      <td>0</td>\n",
       "      <td>24</td>\n",
       "      <td>50</td>\n",
       "      <td>-1</td>\n",
       "      <td>6.621</td>\n",
       "      <td>6.195</td>\n",
       "      <td>56</td>\n",
       "      <td>https://gtmetrix.com/reports/www.rts.ch/AGAiuwvc</td>\n",
       "      <td>65</td>\n",
       "    </tr>\n",
       "    <tr>\n",
       "      <th>5</th>\n",
       "      <td>24</td>\n",
       "      <td>20 minutes (ch)</td>\n",
       "      <td>37</td>\n",
       "      <td>56</td>\n",
       "      <td>18</td>\n",
       "      <td>53</td>\n",
       "      <td>9.418</td>\n",
       "      <td>8.170</td>\n",
       "      <td>11</td>\n",
       "      <td>https://gtmetrix.com/reports/www.20min.ch/feD4...</td>\n",
       "      <td>29</td>\n",
       "    </tr>\n",
       "    <tr>\n",
       "      <th>6</th>\n",
       "      <td>25</td>\n",
       "      <td>Le Matin</td>\n",
       "      <td>29</td>\n",
       "      <td>41</td>\n",
       "      <td>26</td>\n",
       "      <td>65</td>\n",
       "      <td>19.820</td>\n",
       "      <td>18.514</td>\n",
       "      <td>0</td>\n",
       "      <td>https://gtmetrix.com/reports/www.lematin.ch/vb...</td>\n",
       "      <td>8</td>\n",
       "    </tr>\n",
       "    <tr>\n",
       "      <th>7</th>\n",
       "      <td>26</td>\n",
       "      <td>Mediapart</td>\n",
       "      <td>72</td>\n",
       "      <td>11</td>\n",
       "      <td>17</td>\n",
       "      <td>38</td>\n",
       "      <td>4.967</td>\n",
       "      <td>4.451</td>\n",
       "      <td>25</td>\n",
       "      <td>https://gtmetrix.com/reports/www.mediapart.fr/...</td>\n",
       "      <td>43</td>\n",
       "    </tr>\n",
       "    <tr>\n",
       "      <th>8</th>\n",
       "      <td>27</td>\n",
       "      <td>Le Figaro</td>\n",
       "      <td>52</td>\n",
       "      <td>36</td>\n",
       "      <td>45</td>\n",
       "      <td>40</td>\n",
       "      <td>25.182</td>\n",
       "      <td>8.589</td>\n",
       "      <td>31</td>\n",
       "      <td>https://gtmetrix.com/reports/www.lefigaro.fr/v...</td>\n",
       "      <td>43</td>\n",
       "    </tr>\n",
       "    <tr>\n",
       "      <th>9</th>\n",
       "      <td>28</td>\n",
       "      <td>Libération</td>\n",
       "      <td>77</td>\n",
       "      <td>29</td>\n",
       "      <td>20</td>\n",
       "      <td>42</td>\n",
       "      <td>15.630</td>\n",
       "      <td>12.699</td>\n",
       "      <td>27</td>\n",
       "      <td>https://gtmetrix.com/reports/www.liberation.fr...</td>\n",
       "      <td>35</td>\n",
       "    </tr>\n",
       "    <tr>\n",
       "      <th>10</th>\n",
       "      <td>29</td>\n",
       "      <td>La Côte</td>\n",
       "      <td>55</td>\n",
       "      <td>12</td>\n",
       "      <td>0</td>\n",
       "      <td>50</td>\n",
       "      <td>13.165</td>\n",
       "      <td>11.637</td>\n",
       "      <td>44</td>\n",
       "      <td>https://gtmetrix.com/reports/www.lacote.ch/tJs...</td>\n",
       "      <td>49</td>\n",
       "    </tr>\n",
       "    <tr>\n",
       "      <th>11</th>\n",
       "      <td>30</td>\n",
       "      <td>Arcinfo</td>\n",
       "      <td>45</td>\n",
       "      <td>24</td>\n",
       "      <td>0</td>\n",
       "      <td>33</td>\n",
       "      <td>12.435</td>\n",
       "      <td>10.922</td>\n",
       "      <td>22</td>\n",
       "      <td>https://gtmetrix.com/reports/www.arcinfo.ch/8Y...</td>\n",
       "      <td>34</td>\n",
       "    </tr>\n",
       "    <tr>\n",
       "      <th>12</th>\n",
       "      <td>31</td>\n",
       "      <td>Le Nouvelliste</td>\n",
       "      <td>48</td>\n",
       "      <td>36</td>\n",
       "      <td>2</td>\n",
       "      <td>47</td>\n",
       "      <td>12.414</td>\n",
       "      <td>10.931</td>\n",
       "      <td>43</td>\n",
       "      <td>https://gtmetrix.com/reports/www.lenouvelliste...</td>\n",
       "      <td>49</td>\n",
       "    </tr>\n",
       "    <tr>\n",
       "      <th>13</th>\n",
       "      <td>32</td>\n",
       "      <td>La Liberté</td>\n",
       "      <td>55</td>\n",
       "      <td>24</td>\n",
       "      <td>3</td>\n",
       "      <td>100</td>\n",
       "      <td>15.425</td>\n",
       "      <td>13.939</td>\n",
       "      <td>39</td>\n",
       "      <td>https://gtmetrix.com/reports/www.laliberte.ch/...</td>\n",
       "      <td>43</td>\n",
       "    </tr>\n",
       "    <tr>\n",
       "      <th>14</th>\n",
       "      <td>33</td>\n",
       "      <td>Le Courrier</td>\n",
       "      <td>100</td>\n",
       "      <td>56</td>\n",
       "      <td>15</td>\n",
       "      <td>38</td>\n",
       "      <td>9.579</td>\n",
       "      <td>9.027</td>\n",
       "      <td>92</td>\n",
       "      <td>https://gtmetrix.com/reports/lecourrier.ch/LK0...</td>\n",
       "      <td>88</td>\n",
       "    </tr>\n",
       "  </tbody>\n",
       "</table>\n",
       "</div>"
      ],
      "text/plain": [
       "    media_id                   Nom  signed  varied  international  \\\n",
       "0         19  La Tribune de Genève      48      33             30   \n",
       "1         20             24 heures      44      30             10   \n",
       "2         21              Le Temps      47      28             51   \n",
       "3         22              Le Monde      59      40             24   \n",
       "4         23              RTS info       0      24             50   \n",
       "5         24       20 minutes (ch)      37      56             18   \n",
       "6         25              Le Matin      29      41             26   \n",
       "7         26             Mediapart      72      11             17   \n",
       "8         27             Le Figaro      52      36             45   \n",
       "9         28            Libération      77      29             20   \n",
       "10        29               La Côte      55      12              0   \n",
       "11        30               Arcinfo      45      24              0   \n",
       "12        31        Le Nouvelliste      48      36              2   \n",
       "13        32            La Liberté      55      24              3   \n",
       "14        33           Le Courrier     100      56             15   \n",
       "\n",
       "    digitalfirst  fully_loaded_time  page_load_time  pagespeed_score  \\\n",
       "0             32             41.180          39.295               23   \n",
       "1             33             11.432           9.202               25   \n",
       "2             65             10.844          10.340               54   \n",
       "3             71             13.984           6.525               34   \n",
       "4             -1              6.621           6.195               56   \n",
       "5             53              9.418           8.170               11   \n",
       "6             65             19.820          18.514                0   \n",
       "7             38              4.967           4.451               25   \n",
       "8             40             25.182           8.589               31   \n",
       "9             42             15.630          12.699               27   \n",
       "10            50             13.165          11.637               44   \n",
       "11            33             12.435          10.922               22   \n",
       "12            47             12.414          10.931               43   \n",
       "13           100             15.425          13.939               39   \n",
       "14            38              9.579           9.027               92   \n",
       "\n",
       "                                           report_url  fast  \n",
       "0    https://gtmetrix.com/reports/www.tdg.ch/Yb5GJeh7    17  \n",
       "1   https://gtmetrix.com/reports/www.24heures.ch/W...    38  \n",
       "2   https://gtmetrix.com/reports/www.letemps.ch/UW...    58  \n",
       "3   https://gtmetrix.com/reports/www.lemonde.fr/UM...    48  \n",
       "4    https://gtmetrix.com/reports/www.rts.ch/AGAiuwvc    65  \n",
       "5   https://gtmetrix.com/reports/www.20min.ch/feD4...    29  \n",
       "6   https://gtmetrix.com/reports/www.lematin.ch/vb...     8  \n",
       "7   https://gtmetrix.com/reports/www.mediapart.fr/...    43  \n",
       "8   https://gtmetrix.com/reports/www.lefigaro.fr/v...    43  \n",
       "9   https://gtmetrix.com/reports/www.liberation.fr...    35  \n",
       "10  https://gtmetrix.com/reports/www.lacote.ch/tJs...    49  \n",
       "11  https://gtmetrix.com/reports/www.arcinfo.ch/8Y...    34  \n",
       "12  https://gtmetrix.com/reports/www.lenouvelliste...    49  \n",
       "13  https://gtmetrix.com/reports/www.laliberte.ch/...    43  \n",
       "14  https://gtmetrix.com/reports/lecourrier.ch/LK0...    88  "
      ]
     },
     "execution_count": 73,
     "metadata": {},
     "output_type": "execute_result"
    }
   ],
   "source": [
    "dfm['fast'] = -1\n",
    "for i, row in dfm.iterrows():\n",
    "    # threshold according to google: 2 seconds\n",
    "    # let's be very nice and say: 5 seconds\n",
    "    pageLoadExcess = row['page_load_time'] - 5\n",
    "    if pageLoadExcess < 0:\n",
    "        pageLoadExcess = 0\n",
    "\n",
    "    #loadIndex = pow(pageLoadExcess, 1.1)\n",
    "    loadIndex = 5 * pageLoadExcess\n",
    "    pageLoadRatio = 100 - loadIndex\n",
    "    if pageLoadRatio < 0:\n",
    "        pageLoadRatio = 0\n",
    "\n",
    "    dfm.at[i, 'fast'] = (pageLoadRatio + row['pagespeed_score']*3) / 4\n",
    "    #fastRatio = dfm['fast']\n",
    "dfm"
   ]
  },
  {
   "cell_type": "code",
   "execution_count": 79,
   "metadata": {
    "collapsed": true
   },
   "outputs": [],
   "source": [
    "dfm['Name'] = dfm['Nom']"
   ]
  },
  {
   "cell_type": "code",
   "execution_count": 78,
   "metadata": {
    "collapsed": true
   },
   "outputs": [],
   "source": [
    "dfm[['Name', 'signed', 'varied', 'international', 'digitalfirst', 'fast']].to_csv('df/medias_rated_11-15_juin.csv')"
   ]
  },
  {
   "cell_type": "code",
   "execution_count": 94,
   "metadata": {},
   "outputs": [
    {
     "name": "stdout",
     "output_type": "stream",
     "text": [
      "'signed': 'xxxx',\n",
      "'varied': 'xxxx',\n",
      "'international': 'xxxx',\n",
      "'digitalfirst': 'xxxx',\n",
      "'fast': 'xxxx',\n",
      ".signed.bar {\n",
      "  fill: #76cae4;\n",
      "}\n",
      ".varied.bar {\n",
      "  fill: #76cae4;\n",
      "}\n",
      ".international.bar {\n",
      "  fill: #76cae4;\n",
      "}\n",
      ".digitalfirst.bar {\n",
      "  fill: #76cae4;\n",
      "}\n",
      ".fast.bar {\n",
      "  fill: #76cae4;\n",
      "}\n"
     ]
    }
   ],
   "source": [
    "# for quick js / css dev\n",
    "for i in dfm[['signed', 'varied', 'international', 'digitalfirst', 'fast']].columns:\n",
    "    print(\"'{}': 'xxxx',\".format(i))\n",
    "    \n",
    "for i in dfm[['signed', 'varied', 'international', 'digitalfirst', 'fast']].columns:\n",
    "    print(\"\"\".{}.bar [\n",
    "  fill: #76cae4;\n",
    "]\"\"\".format(i).replace('[', '{').replace(']', '}'))"
   ]
  },
  {
   "cell_type": "code",
   "execution_count": null,
   "metadata": {
    "collapsed": true
   },
   "outputs": [],
   "source": [
    "\n"
   ]
  },
  {
   "cell_type": "code",
   "execution_count": null,
   "metadata": {
    "collapsed": true
   },
   "outputs": [],
   "source": []
  },
  {
   "cell_type": "code",
   "execution_count": 328,
   "metadata": {
    "collapsed": true
   },
   "outputs": [],
   "source": [
    "df_plot = dfm.copy()\n",
    "df_plot.index = df_plot.Nom"
   ]
  },
  {
   "cell_type": "code",
   "execution_count": 354,
   "metadata": {
    "collapsed": true
   },
   "outputs": [],
   "source": [
    "color_df = pd.read_csv('../df_base/media_list.csv', usecols=['media_id', 'color'])"
   ]
  },
  {
   "cell_type": "code",
   "execution_count": 365,
   "metadata": {
    "collapsed": true
   },
   "outputs": [],
   "source": [
    "color_df.index = color_df['media_id']\n",
    "color_df = color_df[color_df['color'] == color_df['color']].copy()"
   ]
  },
  {
   "cell_type": "code",
   "execution_count": 358,
   "metadata": {
    "collapsed": true
   },
   "outputs": [],
   "source": [
    "colormap = color_df.to_dict()['color']"
   ]
  },
  {
   "cell_type": "code",
   "execution_count": 360,
   "metadata": {},
   "outputs": [
    {
     "data": {
      "text/plain": [
       "'#2C3891'"
      ]
     },
     "execution_count": 360,
     "metadata": {},
     "output_type": "execute_result"
    }
   ],
   "source": [
    "def getColor(_media_id):\n",
    "    return colormap[_media_id]\n",
    "getColor(19)"
   ]
  },
  {
   "cell_type": "code",
   "execution_count": 351,
   "metadata": {},
   "outputs": [
    {
     "data": {
      "text/plain": [
       "<seaborn.axisgrid.FacetGrid at 0x110c9ae10>"
      ]
     },
     "execution_count": 351,
     "metadata": {},
     "output_type": "execute_result"
    },
    {
     "data": {
      "image/png": "[encoded data removed]",
      "text/plain": [
       "<matplotlib.figure.Figure at 0x110c98240>"
      ]
     },
     "metadata": {},
     "output_type": "display_data"
    }
   ],
   "source": [
    "import seaborn\n",
    "import numpy\n",
    "import matplotlib.pyplot as pyplot\n",
    "\n",
    "seaborn.set(style='ticks')\n",
    "\n",
    "numpy.random.seed(0)\n",
    "N = 37\n",
    "_genders= ['Female', 'Male', 'Non-binary', 'No Response']\n",
    "df = pd.DataFrame({\n",
    "    'Height (cm)': numpy.random.uniform(low=130, high=200, size=N),\n",
    "    'Weight (kg)': numpy.random.uniform(low=30, high=100, size=N),\n",
    "    'Gender': numpy.random.choice(_genders, size=N)\n",
    "})\n",
    "\n",
    "fg = seaborn.FacetGrid(data=df, hue='Gender', hue_order=_genders, aspect=1.61)\n",
    "fg.map(pyplot.scatter, 'Weight (kg)', 'Height (cm)').add_legend()\n"
   ]
  },
  {
   "cell_type": "code",
   "execution_count": 380,
   "metadata": {
    "collapsed": true
   },
   "outputs": [],
   "source": [
    "df_plot = df_plot.merge(color_df, on='media_id')\n",
    "df_plot.index = df_plot['Nom']"
   ]
  },
  {
   "cell_type": "code",
   "execution_count": null,
   "metadata": {
    "collapsed": true
   },
   "outputs": [],
   "source": [
    "def autolabel(rects):\n",
    "    # attach some text labels\n",
    "        for ii,rect in enumerate(rects):\n",
    "\n",
    "            width =  rect.get_width()\n",
    "\n",
    "            height = rect.get_height()\n",
    "\n",
    "            yloc1=rect.get_y() + height /2.0\n",
    "            yloc2=rect.get_y() + height /2.0\n",
    "            if (width <= 5):\n",
    "                # Shift the text to the right side of the right edge\n",
    "                xloc1 = width + 1\n",
    "                yloc2=yloc2+0.3\n",
    "                # Black against white background\n",
    "                clr = 'black'\n",
    "                align = 'left'\n",
    "            else:\n",
    "                # Shift the text to the left side of the right edge\n",
    "                xloc1 = 0.98*width\n",
    "                # White on blue\n",
    "                clr = 'white'\n",
    "                align = 'right'\n",
    "            yloc1=rect.get_y() + height /2.0\n",
    "\n",
    "            ax.text(xloc1,yloc1, '%s'% (count[ii]),horizontalalignment=align,\n",
    "                             verticalalignment='center',color=clr,weight='bold',\n",
    "                             clip_on=True)\n",
    "            ax.text(5,yloc2, '%s'% (platform[ii]),horizontalalignment='left',\n",
    "                             verticalalignment='center',color=clr,weight='bold',\n",
    "                             clip_on=True)\n"
   ]
  },
  {
   "cell_type": "code",
   "execution_count": null,
   "metadata": {
    "collapsed": true
   },
   "outputs": [],
   "source": []
  },
  {
   "cell_type": "code",
   "execution_count": 396,
   "metadata": {},
   "outputs": [
    {
     "data": {
      "image/png": "[encoded data removed]",
      "text/plain": [
       "<matplotlib.figure.Figure at 0x10fdf5080>"
      ]
     },
     "metadata": {},
     "output_type": "display_data"
    },
    {
     "data": {
      "image/png": "[encoded data removed]",
      "text/plain": [
       "<matplotlib.figure.Figure at 0x10fd94f98>"
      ]
     },
     "metadata": {},
     "output_type": "display_data"
    },
    {
     "data": {
      "image/png": "[encoded data removed]",
      "text/plain": [
       "<matplotlib.figure.Figure at 0x112d8b9b0>"
      ]
     },
     "metadata": {},
     "output_type": "display_data"
    },
    {
     "data": {
      "image/png": "[encoded data removed]",
      "text/plain": [
       "<matplotlib.figure.Figure at 0x112f7ce80>"
      ]
     },
     "metadata": {},
     "output_type": "display_data"
    },
    {
     "data": {
      "image/png": "[encoded data removed]",
      "text/plain": [
       "<matplotlib.figure.Figure at 0x112f4cc18>"
      ]
     },
     "metadata": {},
     "output_type": "display_data"
    }
   ],
   "source": [
    "titles = ['Part d’articles signés (%)', 'Indice de diversité', 'Part de sujets internationaux (%)', 'Indice «digital first»', 'Rapidité de chargement']\n",
    "i = 0\n",
    "\n",
    "for col in ['signed', 'varied', 'international', 'digitalfirst',\n",
    "       'fast']:\n",
    "\n",
    "    sorted_df = df_plot.sort_values(col, ascending=True)\n",
    "    #sorted_df[col].plot(kind='bar', title=col, color=sorted_df['color'].tolist(), figsize=(6, 6))\n",
    "    \n",
    "    sorted_df[col].plot(kind='barh', title=titles[i], color=sorted_df['color'].tolist(), figsize=(6, 6))\n",
    "    plt.ylabel('')\n",
    "    plt.xlim(0, 100)\n",
    "    plt.tight_layout()\n",
    "    plt.savefig('graph/{}.pdf'.format(col))\n",
    "    plt.show()\n",
    "    i += 1"
   ]
  },
  {
   "cell_type": "code",
   "execution_count": 367,
   "metadata": {},
   "outputs": [
    {
     "data": {
      "text/plain": [
       "['#2C3891',\n",
       " '#E30613',\n",
       " '#b80021',\n",
       " '#2d3841',\n",
       " '#333333',\n",
       " '#044CA0',\n",
       " '#EF7925',\n",
       " '#E6E6E6',\n",
       " '#407ec9',\n",
       " '#e51e49',\n",
       " '#a02b47',\n",
       " '#385cb0',\n",
       " '#ce0200',\n",
       " '#e21a22',\n",
       " '#eb3f3a']"
      ]
     },
     "execution_count": 367,
     "metadata": {},
     "output_type": "execute_result"
    }
   ],
   "source": [
    "color_df['color'].tolist()"
   ]
  },
  {
   "cell_type": "code",
   "execution_count": 368,
   "metadata": {},
   "outputs": [
    {
     "data": {
      "text/plain": [
       "<matplotlib.axes._subplots.AxesSubplot at 0x110dc0668>"
      ]
     },
     "execution_count": 368,
     "metadata": {},
     "output_type": "execute_result"
    },
    {
     "data": {
      "image/png": "[encoded data removed]",
      "text/plain": [
       "<matplotlib.figure.Figure at 0x110dd3710>"
      ]
     },
     "metadata": {},
     "output_type": "display_data"
    }
   ],
   "source": [
    "df_plot['fast'].plot(kind='bar', figsize=(15, 10), color=color_df['color'].tolist())"
   ]
  },
  {
   "cell_type": "code",
   "execution_count": 401,
   "metadata": {},
   "outputs": [
    {
     "data": {
      "text/html": [
       "<div>\n",
       "<style scoped>\n",
       "    .dataframe tbody tr th:only-of-type {\n",
       "        vertical-align: middle;\n",
       "    }\n",
       "\n",
       "    .dataframe tbody tr th {\n",
       "        vertical-align: top;\n",
       "    }\n",
       "\n",
       "    .dataframe thead th {\n",
       "        text-align: right;\n",
       "    }\n",
       "</style>\n",
       "<table border=\"1\" class=\"dataframe\">\n",
       "  <thead>\n",
       "    <tr style=\"text-align: right;\">\n",
       "      <th></th>\n",
       "      <th>Gender</th>\n",
       "      <th>Height (cm)</th>\n",
       "      <th>Weight (kg)</th>\n",
       "    </tr>\n",
       "  </thead>\n",
       "  <tbody>\n",
       "    <tr>\n",
       "      <th>0</th>\n",
       "      <td>Male</td>\n",
       "      <td>168.416945</td>\n",
       "      <td>73.185380</td>\n",
       "    </tr>\n",
       "    <tr>\n",
       "      <th>1</th>\n",
       "      <td>No Response</td>\n",
       "      <td>180.063256</td>\n",
       "      <td>96.062365</td>\n",
       "    </tr>\n",
       "    <tr>\n",
       "      <th>2</th>\n",
       "      <td>Female</td>\n",
       "      <td>172.193436</td>\n",
       "      <td>77.727421</td>\n",
       "    </tr>\n",
       "    <tr>\n",
       "      <th>3</th>\n",
       "      <td>Non-binary</td>\n",
       "      <td>168.141823</td>\n",
       "      <td>55.165553</td>\n",
       "    </tr>\n",
       "    <tr>\n",
       "      <th>4</th>\n",
       "      <td>Non-binary</td>\n",
       "      <td>159.655836</td>\n",
       "      <td>60.592237</td>\n",
       "    </tr>\n",
       "    <tr>\n",
       "      <th>5</th>\n",
       "      <td>No Response</td>\n",
       "      <td>175.212588</td>\n",
       "      <td>78.834184</td>\n",
       "    </tr>\n",
       "    <tr>\n",
       "      <th>6</th>\n",
       "      <td>Non-binary</td>\n",
       "      <td>160.631105</td>\n",
       "      <td>34.215783</td>\n",
       "    </tr>\n",
       "    <tr>\n",
       "      <th>7</th>\n",
       "      <td>No Response</td>\n",
       "      <td>192.424110</td>\n",
       "      <td>76.673670</td>\n",
       "    </tr>\n",
       "    <tr>\n",
       "      <th>8</th>\n",
       "      <td>No Response</td>\n",
       "      <td>197.456393</td>\n",
       "      <td>76.944651</td>\n",
       "    </tr>\n",
       "    <tr>\n",
       "      <th>9</th>\n",
       "      <td>No Response</td>\n",
       "      <td>156.840906</td>\n",
       "      <td>44.726779</td>\n",
       "    </tr>\n",
       "    <tr>\n",
       "      <th>10</th>\n",
       "      <td>Non-binary</td>\n",
       "      <td>185.420753</td>\n",
       "      <td>39.024841</td>\n",
       "    </tr>\n",
       "    <tr>\n",
       "      <th>11</th>\n",
       "      <td>Male</td>\n",
       "      <td>167.022644</td>\n",
       "      <td>52.079985</td>\n",
       "    </tr>\n",
       "    <tr>\n",
       "      <th>12</th>\n",
       "      <td>Non-binary</td>\n",
       "      <td>169.763119</td>\n",
       "      <td>55.459754</td>\n",
       "    </tr>\n",
       "    <tr>\n",
       "      <th>13</th>\n",
       "      <td>Non-binary</td>\n",
       "      <td>194.791765</td>\n",
       "      <td>69.913774</td>\n",
       "    </tr>\n",
       "    <tr>\n",
       "      <th>14</th>\n",
       "      <td>No Response</td>\n",
       "      <td>134.972524</td>\n",
       "      <td>60.702106</td>\n",
       "    </tr>\n",
       "    <tr>\n",
       "      <th>15</th>\n",
       "      <td>Non-binary</td>\n",
       "      <td>136.099051</td>\n",
       "      <td>99.186169</td>\n",
       "    </tr>\n",
       "    <tr>\n",
       "      <th>16</th>\n",
       "      <td>No Response</td>\n",
       "      <td>131.415288</td>\n",
       "      <td>37.143137</td>\n",
       "    </tr>\n",
       "    <tr>\n",
       "      <th>17</th>\n",
       "      <td>No Response</td>\n",
       "      <td>188.283389</td>\n",
       "      <td>44.621373</td>\n",
       "    </tr>\n",
       "    <tr>\n",
       "      <th>18</th>\n",
       "      <td>Non-binary</td>\n",
       "      <td>184.470973</td>\n",
       "      <td>41.291666</td>\n",
       "    </tr>\n",
       "    <tr>\n",
       "      <th>19</th>\n",
       "      <td>Non-binary</td>\n",
       "      <td>190.900850</td>\n",
       "      <td>75.717583</td>\n",
       "    </tr>\n",
       "    <tr>\n",
       "      <th>20</th>\n",
       "      <td>No Response</td>\n",
       "      <td>198.503284</td>\n",
       "      <td>47.730412</td>\n",
       "    </tr>\n",
       "    <tr>\n",
       "      <th>21</th>\n",
       "      <td>Female</td>\n",
       "      <td>185.941099</td>\n",
       "      <td>62.641754</td>\n",
       "    </tr>\n",
       "    <tr>\n",
       "      <th>22</th>\n",
       "      <td>Male</td>\n",
       "      <td>162.303555</td>\n",
       "      <td>47.109791</td>\n",
       "    </tr>\n",
       "    <tr>\n",
       "      <th>23</th>\n",
       "      <td>Non-binary</td>\n",
       "      <td>184.637042</td>\n",
       "      <td>41.127871</td>\n",
       "    </tr>\n",
       "    <tr>\n",
       "      <th>24</th>\n",
       "      <td>No Response</td>\n",
       "      <td>138.279210</td>\n",
       "      <td>37.726260</td>\n",
       "    </tr>\n",
       "    <tr>\n",
       "      <th>25</th>\n",
       "      <td>Non-binary</td>\n",
       "      <td>174.794471</td>\n",
       "      <td>75.943071</td>\n",
       "    </tr>\n",
       "    <tr>\n",
       "      <th>26</th>\n",
       "      <td>Male</td>\n",
       "      <td>140.034730</td>\n",
       "      <td>39.672807</td>\n",
       "    </tr>\n",
       "    <tr>\n",
       "      <th>27</th>\n",
       "      <td>Non-binary</td>\n",
       "      <td>196.126824</td>\n",
       "      <td>43.760765</td>\n",
       "    </tr>\n",
       "    <tr>\n",
       "      <th>28</th>\n",
       "      <td>Male</td>\n",
       "      <td>166.529383</td>\n",
       "      <td>55.810762</td>\n",
       "    </tr>\n",
       "    <tr>\n",
       "      <th>29</th>\n",
       "      <td>Female</td>\n",
       "      <td>159.026336</td>\n",
       "      <td>87.469526</td>\n",
       "    </tr>\n",
       "    <tr>\n",
       "      <th>30</th>\n",
       "      <td>Non-binary</td>\n",
       "      <td>148.518893</td>\n",
       "      <td>36.797089</td>\n",
       "    </tr>\n",
       "    <tr>\n",
       "      <th>31</th>\n",
       "      <td>Non-binary</td>\n",
       "      <td>184.196358</td>\n",
       "      <td>88.656144</td>\n",
       "    </tr>\n",
       "    <tr>\n",
       "      <th>32</th>\n",
       "      <td>No Response</td>\n",
       "      <td>161.930523</td>\n",
       "      <td>36.726889</td>\n",
       "    </tr>\n",
       "    <tr>\n",
       "      <th>33</th>\n",
       "      <td>Female</td>\n",
       "      <td>169.790376</td>\n",
       "      <td>98.352163</td>\n",
       "    </tr>\n",
       "    <tr>\n",
       "      <th>34</th>\n",
       "      <td>No Response</td>\n",
       "      <td>131.315286</td>\n",
       "      <td>62.805584</td>\n",
       "    </tr>\n",
       "    <tr>\n",
       "      <th>35</th>\n",
       "      <td>Non-binary</td>\n",
       "      <td>173.234485</td>\n",
       "      <td>98.373276</td>\n",
       "    </tr>\n",
       "    <tr>\n",
       "      <th>36</th>\n",
       "      <td>No Response</td>\n",
       "      <td>172.846701</td>\n",
       "      <td>72.339186</td>\n",
       "    </tr>\n",
       "  </tbody>\n",
       "</table>\n",
       "</div>"
      ],
      "text/plain": [
       "         Gender  Height (cm)  Weight (kg)\n",
       "0          Male   168.416945    73.185380\n",
       "1   No Response   180.063256    96.062365\n",
       "2        Female   172.193436    77.727421\n",
       "3    Non-binary   168.141823    55.165553\n",
       "4    Non-binary   159.655836    60.592237\n",
       "5   No Response   175.212588    78.834184\n",
       "6    Non-binary   160.631105    34.215783\n",
       "7   No Response   192.424110    76.673670\n",
       "8   No Response   197.456393    76.944651\n",
       "9   No Response   156.840906    44.726779\n",
       "10   Non-binary   185.420753    39.024841\n",
       "11         Male   167.022644    52.079985\n",
       "12   Non-binary   169.763119    55.459754\n",
       "13   Non-binary   194.791765    69.913774\n",
       "14  No Response   134.972524    60.702106\n",
       "15   Non-binary   136.099051    99.186169\n",
       "16  No Response   131.415288    37.143137\n",
       "17  No Response   188.283389    44.621373\n",
       "18   Non-binary   184.470973    41.291666\n",
       "19   Non-binary   190.900850    75.717583\n",
       "20  No Response   198.503284    47.730412\n",
       "21       Female   185.941099    62.641754\n",
       "22         Male   162.303555    47.109791\n",
       "23   Non-binary   184.637042    41.127871\n",
       "24  No Response   138.279210    37.726260\n",
       "25   Non-binary   174.794471    75.943071\n",
       "26         Male   140.034730    39.672807\n",
       "27   Non-binary   196.126824    43.760765\n",
       "28         Male   166.529383    55.810762\n",
       "29       Female   159.026336    87.469526\n",
       "30   Non-binary   148.518893    36.797089\n",
       "31   Non-binary   184.196358    88.656144\n",
       "32  No Response   161.930523    36.726889\n",
       "33       Female   169.790376    98.352163\n",
       "34  No Response   131.315286    62.805584\n",
       "35   Non-binary   173.234485    98.373276\n",
       "36  No Response   172.846701    72.339186"
      ]
     },
     "execution_count": 401,
     "metadata": {},
     "output_type": "execute_result"
    }
   ],
   "source": [
    "df"
   ]
  },
  {
   "cell_type": "code",
   "execution_count": 432,
   "metadata": {},
   "outputs": [
    {
     "data": {
      "text/html": [
       "<div>\n",
       "<style scoped>\n",
       "    .dataframe tbody tr th:only-of-type {\n",
       "        vertical-align: middle;\n",
       "    }\n",
       "\n",
       "    .dataframe tbody tr th {\n",
       "        vertical-align: top;\n",
       "    }\n",
       "\n",
       "    .dataframe thead th {\n",
       "        text-align: right;\n",
       "    }\n",
       "</style>\n",
       "<table border=\"1\" class=\"dataframe\">\n",
       "  <thead>\n",
       "    <tr style=\"text-align: right;\">\n",
       "      <th></th>\n",
       "      <th>minutes_day</th>\n",
       "    </tr>\n",
       "    <tr>\n",
       "      <th>heading</th>\n",
       "      <th></th>\n",
       "    </tr>\n",
       "  </thead>\n",
       "  <tbody>\n",
       "    <tr>\n",
       "      <th>Genève</th>\n",
       "      <td>24.0</td>\n",
       "    </tr>\n",
       "    <tr>\n",
       "      <th>International</th>\n",
       "      <td>16.0</td>\n",
       "    </tr>\n",
       "    <tr>\n",
       "      <th>Neuchâtel</th>\n",
       "      <td>5.0</td>\n",
       "    </tr>\n",
       "    <tr>\n",
       "      <th>Régions</th>\n",
       "      <td>5.0</td>\n",
       "    </tr>\n",
       "    <tr>\n",
       "      <th>Solidarité</th>\n",
       "      <td>20.0</td>\n",
       "    </tr>\n",
       "    <tr>\n",
       "      <th>Vaud</th>\n",
       "      <td>16.0</td>\n",
       "    </tr>\n",
       "    <tr>\n",
       "      <th>Écologie</th>\n",
       "      <td>7.0</td>\n",
       "    </tr>\n",
       "    <tr>\n",
       "      <th>autres</th>\n",
       "      <td>7.0</td>\n",
       "    </tr>\n",
       "  </tbody>\n",
       "</table>\n",
       "</div>"
      ],
      "text/plain": [
       "               minutes_day\n",
       "heading                   \n",
       "Genève                24.0\n",
       "International         16.0\n",
       "Neuchâtel              5.0\n",
       "Régions                5.0\n",
       "Solidarité            20.0\n",
       "Vaud                  16.0\n",
       "Écologie               7.0\n",
       "autres                 7.0"
      ]
     },
     "execution_count": 432,
     "metadata": {},
     "output_type": "execute_result"
    }
   ],
   "source": [
    "heading_times"
   ]
  },
  {
   "cell_type": "code",
   "execution_count": 434,
   "metadata": {},
   "outputs": [
    {
     "data": {
      "image/png": "[encoded data removed]",
      "text/plain": [
       "<matplotlib.figure.Figure at 0x1113f57f0>"
      ]
     },
     "metadata": {},
     "output_type": "display_data"
    }
   ],
   "source": [
    "heading_times.sort_values('minutes_day').plot(kind='barh')\n",
    "plt.tight_layout()\n",
    "plt.savefig('graph/rubriques.pdf')"
   ]
  },
  {
   "cell_type": "code",
   "execution_count": 428,
   "metadata": {},
   "outputs": [
    {
     "name": "stdout",
     "output_type": "stream",
     "text": [
      "95.0\n",
      "100.0\n",
      "81.0\n",
      "84.0\n",
      "97.0\n",
      "85.0\n",
      "100.0\n",
      "100.0\n",
      "89.0\n",
      "100.0\n",
      "100.0\n",
      "100.0\n",
      "85.0\n",
      "95.0\n",
      "83.0\n"
     ]
    }
   ],
   "source": [
    "# Valeurs relatives\n",
    "for media_id in medias['media_id'].tolist():\n",
    "    # Heures\n",
    "    theMedia = medias[medias['media_id'] == media_id]\n",
    "    \n",
    "    mediaSum = df[df['media_id'] == media_id]['minutes_day'].sum()\n",
    "    #print(theMedia['Nom'].values[0], 'total:', mediaSum)\n",
    "    heading_times = (round(100 * df[df['media_id'] == media_id].groupby('heading')['minutes_day'].sum() / mediaSum)).to_frame()\n",
    "    heading_times = heading_times[heading_times['minutes_day'] >= 5].copy()\n",
    "    \n",
    "    others = 100 - heading_times[heading_times['minutes_day'] >= 5]['minutes_day'].sum()\n",
    "    heading_times.loc['autres'] = {'minutes_day': others}\n",
    "    print(heading_times.sort_values('minutes_day', ascending=False).head(5)['minutes_day'].sum())\n",
    "\n",
    "\n"
   ]
  },
  {
   "cell_type": "code",
   "execution_count": 321,
   "metadata": {
    "collapsed": true
   },
   "outputs": [],
   "source": [
    "dfm['timestamp'] = datetime.datetime.now().strftime('%Y-%m-%d %H:%M:%S')"
   ]
  },
  {
   "cell_type": "code",
   "execution_count": 322,
   "metadata": {},
   "outputs": [
    {
     "data": {
      "text/plain": [
       "'2018-06-16'"
      ]
     },
     "execution_count": 322,
     "metadata": {},
     "output_type": "execute_result"
    }
   ],
   "source": [
    "today = datetime.datetime.now().strftime('%Y-%m-%d')\n",
    "today"
   ]
  },
  {
   "cell_type": "code",
   "execution_count": 323,
   "metadata": {
    "collapsed": true
   },
   "outputs": [],
   "source": [
    "dfm['loading_time'] = dfm['fully_loaded_time']"
   ]
  },
  {
   "cell_type": "code",
   "execution_count": 324,
   "metadata": {
    "collapsed": true
   },
   "outputs": [],
   "source": [
    "dfm.to_csv('df/media_results_{}.csv'.format(today), index=False)"
   ]
  },
  {
   "cell_type": "code",
   "execution_count": null,
   "metadata": {
    "collapsed": true
   },
   "outputs": [],
   "source": []
  },
  {
   "cell_type": "code",
   "execution_count": 263,
   "metadata": {},
   "outputs": [
    {
     "name": "stdout",
     "output_type": "stream",
     "text": [
      "13 17 > 0.43333333333333335\n",
      "10 16 > 0.38461538461538464\n",
      "11 29 > 0.275\n",
      "15 12 > 0.5555555555555556\n",
      "29 20 > 0.5918367346938775\n",
      "13 17 > 0.43333333333333335\n",
      "30 32 > 0.4838709677419355\n",
      "29 6 > 0.8285714285714286\n",
      "53 51 > 0.5096153846153846\n",
      "28 20 > 0.5833333333333334\n",
      "45 35 > 0.5625\n",
      "40 56 > 0.4166666666666667\n",
      "22 8 > 0.7333333333333333\n",
      "0 1 > 0.0\n",
      "18 25 > 0.4186046511627907\n"
     ]
    }
   ],
   "source": [
    "for name, group in df[(df['time_start'].dt.hour > 7) & (df['time_start'].dt.hour < 24) & (df['editor'] == 1)].groupby('media'):\n",
    "    morning = group[group.index.hour < 16]\n",
    "    evening = group[group.index.hour >= 16]\n",
    "    \n",
    "    print(len(morning), len(evening), '>', len(morning) / len(group))"
   ]
  },
  {
   "cell_type": "code",
   "execution_count": 261,
   "metadata": {},
   "outputs": [
    {
     "data": {
      "image/png": "[encoded data removed]",
      "text/plain": [
       "<matplotlib.figure.Figure at 0x10fb4eb00>"
      ]
     },
     "metadata": {},
     "output_type": "display_data"
    },
    {
     "data": {
      "image/png": "[encoded data removed]",
      "text/plain": [
       "<matplotlib.figure.Figure at 0x10cc859e8>"
      ]
     },
     "metadata": {},
     "output_type": "display_data"
    },
    {
     "data": {
      "image/png": "[encoded data removed]",
      "text/plain": [
       "<matplotlib.figure.Figure at 0x10d4bd860>"
      ]
     },
     "metadata": {},
     "output_type": "display_data"
    },
    {
     "data": {
      "image/png": "[encoded data removed]",
      "text/plain": [
       "<matplotlib.figure.Figure at 0x10d3d3c50>"
      ]
     },
     "metadata": {},
     "output_type": "display_data"
    },
    {
     "data": {
      "image/png": "[encoded data removed]",
      "text/plain": [
       "<matplotlib.figure.Figure at 0x10d4e0d30>"
      ]
     },
     "metadata": {},
     "output_type": "display_data"
    },
    {
     "data": {
      "image/png": "[encoded data removed]",
      "text/plain": [
       "<matplotlib.figure.Figure at 0x10cf0eba8>"
      ]
     },
     "metadata": {},
     "output_type": "display_data"
    },
    {
     "data": {
      "image/png": "[encoded data removed]",
      "text/plain": [
       "<matplotlib.figure.Figure at 0x10cbe1208>"
      ]
     },
     "metadata": {},
     "output_type": "display_data"
    },
    {
     "data": {
      "image/png": "[encoded data removed]",
      "text/plain": [
       "<matplotlib.figure.Figure at 0x10f4d6fd0>"
      ]
     },
     "metadata": {},
     "output_type": "display_data"
    },
    {
     "data": {
      "image/png": "[encoded data removed]",
      "text/plain": [
       "<matplotlib.figure.Figure at 0x10f4ee668>"
      ]
     },
     "metadata": {},
     "output_type": "display_data"
    },
    {
     "data": {
      "image/png": "[encoded data removed]",
      "text/plain": [
       "<matplotlib.figure.Figure at 0x10fb3e6a0>"
      ]
     },
     "metadata": {},
     "output_type": "display_data"
    },
    {
     "data": {
      "image/png": "[encoded data removed]",
      "text/plain": [
       "<matplotlib.figure.Figure at 0x10f598048>"
      ]
     },
     "metadata": {},
     "output_type": "display_data"
    },
    {
     "data": {
      "image/png": "[encoded data removed]",
      "text/plain": [
       "<matplotlib.figure.Figure at 0x10fb36128>"
      ]
     },
     "metadata": {},
     "output_type": "display_data"
    },
    {
     "data": {
      "image/png": "[encoded data removed]",
      "text/plain": [
       "<matplotlib.figure.Figure at 0x10f598080>"
      ]
     },
     "metadata": {},
     "output_type": "display_data"
    },
    {
     "data": {
      "image/png": "[encoded data removed]",
      "text/plain": [
       "<matplotlib.figure.Figure at 0x10f8a6240>"
      ]
     },
     "metadata": {},
     "output_type": "display_data"
    },
    {
     "data": {
      "image/png": "[encoded data removed]",
      "text/plain": [
       "<matplotlib.figure.Figure at 0x10f8a9ac8>"
      ]
     },
     "metadata": {},
     "output_type": "display_data"
    }
   ],
   "source": [
    "for name, group in df[(df['time_start'].dt.hour >= 6) & (df['time_start'].dt.hour <= 24) & (df['editor'] == 1)].groupby('media'):\n",
    "    label = \"Std: {}\".format(group['time_start'].dt.hour.value_counts().std())\n",
    "    group['time_start'].groupby(group.index.hour).count().plot(title=name)\n",
    "    plt.xlim(6, 24)\n",
    "    plt.ylim(1, 10)\n",
    "    plt.xlabel(label)\n",
    "    plt.show()\n"
   ]
  },
  {
   "cell_type": "code",
   "execution_count": null,
   "metadata": {
    "collapsed": true
   },
   "outputs": [],
   "source": []
  },
  {
   "cell_type": "code",
   "execution_count": 22,
   "metadata": {},
   "outputs": [
    {
     "data": {
      "text/plain": [
       "<matplotlib.axes._subplots.AxesSubplot at 0x1130a80b8>"
      ]
     },
     "execution_count": 22,
     "metadata": {},
     "output_type": "execute_result"
    },
    {
     "data": {
      "image/png": "[encoded data removed]",
      "text/plain": [
       "<matplotlib.figure.Figure at 0x11309d9e8>"
      ]
     },
     "metadata": {},
     "output_type": "display_data"
    }
   ],
   "source": [
    "# Tribune de Genève\n",
    "group = df[(df['media_id'] == 19) & (df['editor'] == 1)]\n",
    "group['time_start'].dt.hour.hist()"
   ]
  },
  {
   "cell_type": "code",
   "execution_count": 32,
   "metadata": {},
   "outputs": [
    {
     "data": {
      "text/plain": [
       "<matplotlib.axes._subplots.AxesSubplot at 0x11377eef0>"
      ]
     },
     "execution_count": 32,
     "metadata": {},
     "output_type": "execute_result"
    },
    {
     "data": {
      "image/png": "[encoded data removed]",
      "text/plain": [
       "<matplotlib.figure.Figure at 0x11375ecf8>"
      ]
     },
     "metadata": {},
     "output_type": "display_data"
    }
   ],
   "source": [
    "# Le Temps\n",
    "group = df[(df['media_id'] == 21) & (df['editor'] == 1)]\n",
    "group['time_start'].dt.hour.hist()"
   ]
  },
  {
   "cell_type": "code",
   "execution_count": 36,
   "metadata": {},
   "outputs": [
    {
     "data": {
      "text/plain": [
       "<matplotlib.axes._subplots.AxesSubplot at 0x1136ce400>"
      ]
     },
     "execution_count": 36,
     "metadata": {},
     "output_type": "execute_result"
    },
    {
     "data": {
      "image/png": "[encoded data removed]",
      "text/plain": [
       "<matplotlib.figure.Figure at 0x1136c2a90>"
      ]
     },
     "metadata": {},
     "output_type": "display_data"
    }
   ],
   "source": [
    "# \n",
    "group = df[(df['media_id'] == 29) & (df['editor'] == 1)]\n",
    "group['time_start'].dt.hour.hist()"
   ]
  },
  {
   "cell_type": "code",
   "execution_count": 33,
   "metadata": {},
   "outputs": [
    {
     "data": {
      "text/plain": [
       "<matplotlib.axes._subplots.AxesSubplot at 0x1137f9978>"
      ]
     },
     "execution_count": 33,
     "metadata": {},
     "output_type": "execute_result"
    },
    {
     "data": {
      "image/png": "[encoded data removed]",
      "text/plain": [
       "<matplotlib.figure.Figure at 0x1137182b0>"
      ]
     },
     "metadata": {},
     "output_type": "display_data"
    }
   ],
   "source": [
    "# \n",
    "group = df[(df['media_id'] == 20) & (df['editor'] == 1)]\n",
    "group['time_start'].dt.hour.hist()"
   ]
  },
  {
   "cell_type": "code",
   "execution_count": null,
   "metadata": {
    "collapsed": true
   },
   "outputs": [],
   "source": []
  },
  {
   "cell_type": "code",
   "execution_count": null,
   "metadata": {
    "collapsed": true
   },
   "outputs": [],
   "source": [
    "def getVariedRatio(_group):\n",
    "    return"
   ]
  },
  {
   "cell_type": "code",
   "execution_count": null,
   "metadata": {
    "collapsed": true
   },
   "outputs": [],
   "source": []
  },
  {
   "cell_type": "code",
   "execution_count": null,
   "metadata": {
    "collapsed": true
   },
   "outputs": [],
   "source": [
    "df[df['editor'] == 1].shape"
   ]
  },
  {
   "cell_type": "code",
   "execution_count": 345,
   "metadata": {},
   "outputs": [
    {
     "data": {
      "text/plain": [
       "'https://gtmetrix.com/reports/www.lematin.ch/vbMQk96B'"
      ]
     },
     "execution_count": 345,
     "metadata": {},
     "output_type": "execute_result"
    }
   ],
   "source": [
    "dfm.loc[6]['report_url']"
   ]
  },
  {
   "cell_type": "code",
   "execution_count": null,
   "metadata": {
    "collapsed": true
   },
   "outputs": [],
   "source": []
  },
  {
   "cell_type": "code",
   "execution_count": null,
   "metadata": {
    "collapsed": true
   },
   "outputs": [],
   "source": [
    "gtmetrix = pd.read_csv('df_ps.csv', usecols=['media_id', 'pagespeed_score', 'page_load_time'])"
   ]
  },
  {
   "cell_type": "code",
   "execution_count": null,
   "metadata": {
    "collapsed": true
   },
   "outputs": [],
   "source": [
    "medias.merge(gtmetrix, on='media_id')"
   ]
  },
  {
   "cell_type": "code",
   "execution_count": null,
   "metadata": {
    "collapsed": true
   },
   "outputs": [],
   "source": [
    "medias"
   ]
  },
  {
   "cell_type": "code",
   "execution_count": null,
   "metadata": {
    "collapsed": true
   },
   "outputs": [],
   "source": [
    "gtmetrix"
   ]
  }
 ],
 "metadata": {
  "kernelspec": {
   "display_name": "Python 3",
   "language": "python",
   "name": "python3"
  },
  "language_info": {
   "codemirror_mode": {
    "name": "ipython",
    "version": 3
   },
   "file_extension": ".py",
   "mimetype": "text/x-python",
   "name": "python",
   "nbconvert_exporter": "python",
   "pygments_lexer": "ipython3",
   "version": "3.5.1"
  }
 },
 "nbformat": 4,
 "nbformat_minor": 2
}
