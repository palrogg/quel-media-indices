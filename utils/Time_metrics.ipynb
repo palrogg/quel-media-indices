{
 "cells": [
  {
   "cell_type": "code",
   "execution_count": 1,
   "metadata": {
    "collapsed": true
   },
   "outputs": [],
   "source": [
    "import pandas as pd\n",
    "import requests\n",
    "from IPython.display import HTML\n",
    "import json\n",
    "from bs4 import BeautifulSoup\n",
    "import datetime"
   ]
  },
  {
   "cell_type": "code",
   "execution_count": 9,
   "metadata": {
    "collapsed": true
   },
   "outputs": [],
   "source": [
    "delta_weeks = 1\n",
    "\n",
    "df = pd.read_csv('df/stories_no_lm.csv', usecols = ['id', 'title', 'absolute_url', 'time_start', 'time_end', 'minutes',\n",
    "       'delta_str', 'link', 'media', 'media_id', 'story_time', 'agency', 'editor', 'heading', 'domains'])"
   ]
  },
  {
   "cell_type": "code",
   "execution_count": 10,
   "metadata": {},
   "outputs": [
    {
     "name": "stdout",
     "output_type": "stream",
     "text": [
      "Last Sunday should be July 01, 2 days ago.\n",
      "The previous Monday should be June 25.\n"
     ]
    }
   ],
   "source": [
    "# Get and check the last week's time frame\n",
    "\n",
    "today = datetime.datetime.now()\n",
    "delta_days = (today.weekday() + 1) % 7\n",
    "today - datetime.timedelta(7 + delta_days)\n",
    "\n",
    "\n",
    "last_sunday = today - datetime.timedelta(delta_days)\n",
    "last_monday = last_sunday - datetime.timedelta(6)\n",
    "print('Last Sunday should be {}, {} days ago.'.format(last_sunday.strftime('%B %d') , delta_days ))\n",
    "print('The previous Monday should be {}.'.format(last_monday.strftime('%B %d') , delta_days ))"
   ]
  },
  {
   "cell_type": "code",
   "execution_count": 11,
   "metadata": {},
   "outputs": [
    {
     "name": "stdout",
     "output_type": "stream",
     "text": [
      "Selected Monday is now June 18.\n",
      "Selected Sunday is now June 24.\n"
     ]
    }
   ],
   "source": [
    "# For previous weeks\n",
    "\n",
    "last_monday = last_monday - datetime.timedelta(delta_weeks*7)\n",
    "last_sunday = last_sunday - datetime.timedelta(delta_weeks*7)\n",
    "print('Selected Monday is now {}.'.format(last_monday.strftime('%B %d')))\n",
    "print('Selected Sunday is now {}.'.format(last_sunday.strftime('%B %d')))"
   ]
  },
  {
   "cell_type": "code",
   "execution_count": 14,
   "metadata": {},
   "outputs": [
    {
     "data": {
      "text/plain": [
       "(895, 15)"
      ]
     },
     "execution_count": 14,
     "metadata": {},
     "output_type": "execute_result"
    }
   ],
   "source": [
    "# Date index\n",
    "df['time_start'] = pd.to_datetime(df['time_start'])\n",
    "df['time_end'] = pd.to_datetime(df['time_end'])\n",
    "df.index = df['time_start']\n",
    "\n",
    "start_timestamp = last_monday.strftime('%Y-%m-%d')\n",
    "end_timestamp = last_sunday.strftime('%Y-%m-%d')\n",
    "df[start_timestamp:end_timestamp].shape\n",
    "\n"
   ]
  },
  {
   "cell_type": "code",
   "execution_count": 15,
   "metadata": {},
   "outputs": [],
   "source": [
    "df = df[start_timestamp:end_timestamp].copy()"
   ]
  },
  {
   "cell_type": "code",
   "execution_count": 21,
   "metadata": {},
   "outputs": [],
   "source": [
    "df[df['media_id'] == 19][['heading', 'absolute_url']].to_csv('/Users/paul/Sites/d3_v5/indices/data/time_series.csv')"
   ]
  },
  {
   "cell_type": "code",
   "execution_count": null,
   "metadata": {
    "collapsed": true
   },
   "outputs": [],
   "source": []
  }
 ],
 "metadata": {
  "kernelspec": {
   "display_name": "Python 3",
   "language": "python",
   "name": "python3"
  },
  "language_info": {
   "codemirror_mode": {
    "name": "ipython",
    "version": 3
   },
   "file_extension": ".py",
   "mimetype": "text/x-python",
   "name": "python",
   "nbconvert_exporter": "python",
   "pygments_lexer": "ipython3",
   "version": "3.5.1"
  }
 },
 "nbformat": 4,
 "nbformat_minor": 2
}
