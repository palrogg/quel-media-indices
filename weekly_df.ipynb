{
 "cells": [
  {
   "cell_type": "code",
   "execution_count": 5,
   "metadata": {
    "collapsed": true
   },
   "outputs": [],
   "source": [
    "import pandas as pd\n",
    "import json\n",
    "import datetime"
   ]
  },
  {
   "cell_type": "code",
   "execution_count": 6,
   "metadata": {
    "collapsed": true
   },
   "outputs": [],
   "source": [
    "df = pd.read_csv('df/stories_with_heading.csv', usecols = ['id', 'title', 'absolute_url', 'time_start', 'time_end', 'minutes',\n",
    "       'delta_str', 'link', 'media', 'media_id', 'story_time', 'agency', 'editor', 'heading', 'domains'])"
   ]
  },
  {
   "cell_type": "code",
   "execution_count": 16,
   "metadata": {},
   "outputs": [
    {
     "data": {
      "text/plain": [
       "heading\n",
       "national         17756\n",
       "international    14976\n",
       "sports            4368\n",
       "debats            1608\n",
       "checknews          531\n",
       "le-p-tit-libe      126\n",
       "musique            111\n",
       "futurs              96\n",
       "desintox            60\n",
       "sciences            54\n",
       "photographie        27\n",
       "Name: minutes, dtype: int64"
      ]
     },
     "execution_count": 16,
     "metadata": {},
     "output_type": "execute_result"
    }
   ],
   "source": [
    "df[df['media_id'] == 28].groupby('heading')['minutes'].sum().sort_values(ascending=False)"
   ]
  },
  {
   "cell_type": "code",
   "execution_count": 7,
   "metadata": {},
   "outputs": [
    {
     "data": {
      "text/plain": [
       "national         142\n",
       "international     97\n",
       "sports            27\n",
       "debats            11\n",
       "checknews          4\n",
       "futurs             3\n",
       "sciences           1\n",
       "desintox           1\n",
       "le-p-tit-libe      1\n",
       "musique            1\n",
       "photographie       1\n",
       "Name: heading, dtype: int64"
      ]
     },
     "execution_count": 7,
     "metadata": {},
     "output_type": "execute_result"
    }
   ],
   "source": [
    "df[df['media_id'] == 28]['heading'].value_counts()"
   ]
  },
  {
   "cell_type": "code",
   "execution_count": 10,
   "metadata": {},
   "outputs": [
    {
     "data": {
      "text/plain": [
       "france           136\n",
       "planete           97\n",
       "sports            27\n",
       "debats            11\n",
       "politiques         6\n",
       "                   6\n",
       "checknews          4\n",
       "futurs             3\n",
       "sciences           1\n",
       "desintox           1\n",
       "le-p-tit-libe      1\n",
       "musique            1\n",
       "photographie       1\n",
       "Name: link, dtype: int64"
      ]
     },
     "execution_count": 10,
     "metadata": {},
     "output_type": "execute_result"
    }
   ],
   "source": [
    "df[df['media_id'] == 28]['link'].apply(lambda x: x.split('/')[1]).value_counts()"
   ]
  },
  {
   "cell_type": "code",
   "execution_count": 18,
   "metadata": {},
   "outputs": [
    {
     "data": {
      "text/html": [
       "<div>\n",
       "<style scoped>\n",
       "    .dataframe tbody tr th:only-of-type {\n",
       "        vertical-align: middle;\n",
       "    }\n",
       "\n",
       "    .dataframe tbody tr th {\n",
       "        vertical-align: top;\n",
       "    }\n",
       "\n",
       "    .dataframe thead th {\n",
       "        text-align: right;\n",
       "    }\n",
       "</style>\n",
       "<table border=\"1\" class=\"dataframe\">\n",
       "  <thead>\n",
       "    <tr style=\"text-align: right;\">\n",
       "      <th></th>\n",
       "      <th>id</th>\n",
       "      <th>title</th>\n",
       "      <th>absolute_url</th>\n",
       "      <th>time_start</th>\n",
       "      <th>time_end</th>\n",
       "      <th>minutes</th>\n",
       "      <th>delta_str</th>\n",
       "      <th>link</th>\n",
       "      <th>media</th>\n",
       "      <th>media_id</th>\n",
       "      <th>story_time</th>\n",
       "      <th>agency</th>\n",
       "      <th>editor</th>\n",
       "      <th>heading</th>\n",
       "      <th>domains</th>\n",
       "    </tr>\n",
       "  </thead>\n",
       "  <tbody>\n",
       "    <tr>\n",
       "      <th>1556</th>\n",
       "      <td>11721</td>\n",
       "      <td>Lait contaminé : Lactalis tente de torpiller l...</td>\n",
       "      <td>https://www.liberation.fr/politiques/2018/06/0...</td>\n",
       "      <td>2018-06-05 18:09:00</td>\n",
       "      <td>2018-06-05 18:24:00</td>\n",
       "      <td>15</td>\n",
       "      <td>15’</td>\n",
       "      <td>/politiques/2018/06/05/lait-contamine-lactalis...</td>\n",
       "      <td>https://www.liberation.fr/</td>\n",
       "      <td>28</td>\n",
       "      <td>0.0045</td>\n",
       "      <td>0</td>\n",
       "      <td>1</td>\n",
       "      <td>national</td>\n",
       "      <td>NaN</td>\n",
       "    </tr>\n",
       "    <tr>\n",
       "      <th>1873</th>\n",
       "      <td>12081</td>\n",
       "      <td>Nouvelles révélations sur les ristournes de la...</td>\n",
       "      <td>https://www.liberation.fr/politiques/2018/06/0...</td>\n",
       "      <td>2018-06-07 17:21:00</td>\n",
       "      <td>2018-06-07 19:48:00</td>\n",
       "      <td>147</td>\n",
       "      <td>2h27</td>\n",
       "      <td>/politiques/2018/06/07/nouvelles-revelations-s...</td>\n",
       "      <td>https://www.liberation.fr/</td>\n",
       "      <td>28</td>\n",
       "      <td>0.0663</td>\n",
       "      <td>0</td>\n",
       "      <td>1</td>\n",
       "      <td>national</td>\n",
       "      <td>NaN</td>\n",
       "    </tr>\n",
       "    <tr>\n",
       "      <th>2127</th>\n",
       "      <td>12478</td>\n",
       "      <td>A l’étranger, quelles législations contre les ...</td>\n",
       "      <td>https://www.liberation.fr/politiques/2018/06/0...</td>\n",
       "      <td>2018-06-09 16:00:00</td>\n",
       "      <td>2018-06-09 17:21:00</td>\n",
       "      <td>81</td>\n",
       "      <td>1h21</td>\n",
       "      <td>/politiques/2018/06/09/a-l-etranger-quelles-le...</td>\n",
       "      <td>https://www.liberation.fr/</td>\n",
       "      <td>28</td>\n",
       "      <td>0.0047</td>\n",
       "      <td>0</td>\n",
       "      <td>1</td>\n",
       "      <td>national</td>\n",
       "      <td>NaN</td>\n",
       "    </tr>\n",
       "    <tr>\n",
       "      <th>2580</th>\n",
       "      <td>13316</td>\n",
       "      <td>Pour Macron, les aides sociales coûtent un «po...</td>\n",
       "      <td>https://www.liberation.fr/politiques/2018/06/1...</td>\n",
       "      <td>2018-06-13 09:06:00</td>\n",
       "      <td>2018-06-13 09:48:00</td>\n",
       "      <td>42</td>\n",
       "      <td>42’</td>\n",
       "      <td>/politiques/2018/06/13/pour-macron-les-aides-s...</td>\n",
       "      <td>https://www.liberation.fr/</td>\n",
       "      <td>28</td>\n",
       "      <td>0.0017</td>\n",
       "      <td>0</td>\n",
       "      <td>0</td>\n",
       "      <td>national</td>\n",
       "      <td>NaN</td>\n",
       "    </tr>\n",
       "    <tr>\n",
       "      <th>2843</th>\n",
       "      <td>13679</td>\n",
       "      <td>Un rêve pour l'Aquarius</td>\n",
       "      <td>https://www.liberation.fr/politiques/2018/06/1...</td>\n",
       "      <td>2018-06-14 18:33:00</td>\n",
       "      <td>2018-06-14 18:42:00</td>\n",
       "      <td>9</td>\n",
       "      <td>9’</td>\n",
       "      <td>/politiques/2018/06/14/un-reve-pour-l-aquarius...</td>\n",
       "      <td>https://www.liberation.fr/</td>\n",
       "      <td>28</td>\n",
       "      <td>0.0938</td>\n",
       "      <td>0</td>\n",
       "      <td>0</td>\n",
       "      <td>national</td>\n",
       "      <td>NaN</td>\n",
       "    </tr>\n",
       "    <tr>\n",
       "      <th>3722</th>\n",
       "      <td>14786</td>\n",
       "      <td>Dépenses locales : les régions dénoncent le pl...</td>\n",
       "      <td>https://www.liberation.fr/politiques/2018/06/2...</td>\n",
       "      <td>2018-06-20 15:06:00</td>\n",
       "      <td>2018-06-20 17:06:00</td>\n",
       "      <td>120</td>\n",
       "      <td>2h00</td>\n",
       "      <td>/politiques/2018/06/20/depenses-locales-les-re...</td>\n",
       "      <td>https://www.liberation.fr/</td>\n",
       "      <td>28</td>\n",
       "      <td>0.0772</td>\n",
       "      <td>0</td>\n",
       "      <td>1</td>\n",
       "      <td>national</td>\n",
       "      <td>NaN</td>\n",
       "    </tr>\n",
       "  </tbody>\n",
       "</table>\n",
       "</div>"
      ],
      "text/plain": [
       "         id                                              title  \\\n",
       "1556  11721  Lait contaminé : Lactalis tente de torpiller l...   \n",
       "1873  12081  Nouvelles révélations sur les ristournes de la...   \n",
       "2127  12478  A l’étranger, quelles législations contre les ...   \n",
       "2580  13316  Pour Macron, les aides sociales coûtent un «po...   \n",
       "2843  13679                            Un rêve pour l'Aquarius   \n",
       "3722  14786  Dépenses locales : les régions dénoncent le pl...   \n",
       "\n",
       "                                           absolute_url           time_start  \\\n",
       "1556  https://www.liberation.fr/politiques/2018/06/0...  2018-06-05 18:09:00   \n",
       "1873  https://www.liberation.fr/politiques/2018/06/0...  2018-06-07 17:21:00   \n",
       "2127  https://www.liberation.fr/politiques/2018/06/0...  2018-06-09 16:00:00   \n",
       "2580  https://www.liberation.fr/politiques/2018/06/1...  2018-06-13 09:06:00   \n",
       "2843  https://www.liberation.fr/politiques/2018/06/1...  2018-06-14 18:33:00   \n",
       "3722  https://www.liberation.fr/politiques/2018/06/2...  2018-06-20 15:06:00   \n",
       "\n",
       "                 time_end  minutes delta_str  \\\n",
       "1556  2018-06-05 18:24:00       15       15’   \n",
       "1873  2018-06-07 19:48:00      147      2h27   \n",
       "2127  2018-06-09 17:21:00       81      1h21   \n",
       "2580  2018-06-13 09:48:00       42       42’   \n",
       "2843  2018-06-14 18:42:00        9        9’   \n",
       "3722  2018-06-20 17:06:00      120      2h00   \n",
       "\n",
       "                                                   link  \\\n",
       "1556  /politiques/2018/06/05/lait-contamine-lactalis...   \n",
       "1873  /politiques/2018/06/07/nouvelles-revelations-s...   \n",
       "2127  /politiques/2018/06/09/a-l-etranger-quelles-le...   \n",
       "2580  /politiques/2018/06/13/pour-macron-les-aides-s...   \n",
       "2843  /politiques/2018/06/14/un-reve-pour-l-aquarius...   \n",
       "3722  /politiques/2018/06/20/depenses-locales-les-re...   \n",
       "\n",
       "                           media  media_id  story_time  agency  editor  \\\n",
       "1556  https://www.liberation.fr/        28      0.0045       0       1   \n",
       "1873  https://www.liberation.fr/        28      0.0663       0       1   \n",
       "2127  https://www.liberation.fr/        28      0.0047       0       1   \n",
       "2580  https://www.liberation.fr/        28      0.0017       0       0   \n",
       "2843  https://www.liberation.fr/        28      0.0938       0       0   \n",
       "3722  https://www.liberation.fr/        28      0.0772       0       1   \n",
       "\n",
       "       heading  domains  \n",
       "1556  national      NaN  \n",
       "1873  national      NaN  \n",
       "2127  national      NaN  \n",
       "2580  national      NaN  \n",
       "2843  national      NaN  \n",
       "3722  national      NaN  "
      ]
     },
     "execution_count": 18,
     "metadata": {},
     "output_type": "execute_result"
    }
   ],
   "source": [
    "df[df['link'].apply(lambda x: x.split('/')[1]) == 'politiques']"
   ]
  },
  {
   "cell_type": "code",
   "execution_count": null,
   "metadata": {
    "collapsed": true
   },
   "outputs": [],
   "source": []
  },
  {
   "cell_type": "code",
   "execution_count": 5,
   "metadata": {
    "collapsed": true
   },
   "outputs": [],
   "source": [
    "# Date index\n",
    "df['time_start'] = pd.to_datetime(df['time_start'])\n",
    "df['time_end'] = pd.to_datetime(df['time_end'])\n",
    "df.index = df['time_start']"
   ]
  },
  {
   "cell_type": "code",
   "execution_count": 3,
   "metadata": {
    "collapsed": true
   },
   "outputs": [],
   "source": [
    "df = df[df['media_id'] != 22].copy()"
   ]
  },
  {
   "cell_type": "code",
   "execution_count": 4,
   "metadata": {
    "collapsed": true
   },
   "outputs": [],
   "source": [
    "df.to_csv('df/stories_no_lm.csv', index=False)"
   ]
  },
  {
   "cell_type": "code",
   "execution_count": null,
   "metadata": {
    "collapsed": true
   },
   "outputs": [],
   "source": []
  },
  {
   "cell_type": "code",
   "execution_count": 16,
   "metadata": {
    "collapsed": true
   },
   "outputs": [],
   "source": [
    "weeks_array = [0, 1, 2, 3]"
   ]
  },
  {
   "cell_type": "code",
   "execution_count": 20,
   "metadata": {},
   "outputs": [
    {
     "name": "stdout",
     "output_type": "stream",
     "text": [
      "Selected Monday is now June 18.\n",
      "Selected Sunday is now June 24.\n",
      "(895, 15)\n",
      "Selected Monday is now June 11.\n",
      "Selected Sunday is now June 17.\n",
      "(970, 15)\n",
      "Selected Monday is now June 04.\n",
      "Selected Sunday is now June 10.\n",
      "(883, 15)\n",
      "Selected Monday is now May 28.\n",
      "Selected Sunday is now June 03.\n",
      "(954, 15)\n"
     ]
    }
   ],
   "source": [
    "# Get and check the last week's time frame\n",
    "\n",
    "for delta_weeks in weeks_array:\n",
    "\n",
    "    today = datetime.datetime.now()\n",
    "    delta_days = (today.weekday() + 1) % 7\n",
    "    today - datetime.timedelta(7 + delta_days)\n",
    "    \n",
    "    last_sunday = today - datetime.timedelta(delta_days)\n",
    "    last_monday = last_sunday - datetime.timedelta(6)\n",
    "\n",
    "\n",
    "\n",
    "    last_monday = last_monday - datetime.timedelta(delta_weeks*7)\n",
    "    last_sunday = last_sunday - datetime.timedelta(delta_weeks*7)\n",
    "    print('Selected Monday is now {}.'.format(last_monday.strftime('%B %d')))\n",
    "    print('Selected Sunday is now {}.'.format(last_sunday.strftime('%B %d')))\n",
    "    \n",
    "    start_timestamp = last_monday.strftime('%Y-%m-%d')\n",
    "    end_timestamp = last_sunday.strftime('%Y-%m-%d')\n",
    "\n",
    "    df_week = df[start_timestamp:end_timestamp].copy()\n",
    "    print(df_week.shape)\n",
    "    \n",
    "    df_week.to_csv('df/weekly/df_{}.csv'.format( last_sunday.strftime('%Y-%m-%d') ) )\n",
    "\n"
   ]
  },
  {
   "cell_type": "code",
   "execution_count": 19,
   "metadata": {
    "collapsed": true
   },
   "outputs": [],
   "source": [
    "!open ."
   ]
  },
  {
   "cell_type": "code",
   "execution_count": null,
   "metadata": {
    "collapsed": true
   },
   "outputs": [],
   "source": []
  }
 ],
 "metadata": {
  "kernelspec": {
   "display_name": "Python 3",
   "language": "python",
   "name": "python3"
  },
  "language_info": {
   "codemirror_mode": {
    "name": "ipython",
    "version": 3
   },
   "file_extension": ".py",
   "mimetype": "text/x-python",
   "name": "python",
   "nbconvert_exporter": "python",
   "pygments_lexer": "ipython3",
   "version": "3.5.1"
  }
 },
 "nbformat": 4,
 "nbformat_minor": 2
}
