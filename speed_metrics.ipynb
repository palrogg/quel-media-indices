{
 "cells": [
  {
   "cell_type": "markdown",
   "metadata": {},
   "source": [
    "# Speed Metrics\n",
    "\n",
    "Loads and saves PageSpeed and page loading time.\n",
    "\n",
    "Currently uses a local PHP script sending requests to the GT Metrix API.\n",
    "\n",
    "A complete test may last up to 30 minutes.\n",
    "\n",
    "For mobile device performances tested with “mobile_metrics.ipynb”. GT Metrix doesn't offer testing on mobile devices for now.\n",
    "\n",
    "Feel free to contact me for help: https://www.quel-media.com/about.html#contact\n",
    "\n",
    "© Paul Ronga under Apache-2 Licence (see LICENCE.txt)."
   ]
  },
  {
   "cell_type": "code",
   "execution_count": 1,
   "metadata": {
    "collapsed": true
   },
   "outputs": [],
   "source": [
    "import pandas as pd\n",
    "import requests\n",
    "from IPython.display import HTML\n",
    "import json\n",
    "import datetime"
   ]
  },
  {
   "cell_type": "code",
   "execution_count": 2,
   "metadata": {
    "collapsed": true
   },
   "outputs": [],
   "source": [
    "# change this for your local tester / an external tool\n",
    "TESTER_URL = 'http://rospo.local/~paul/gtmetrix/medias.php'"
   ]
  },
  {
   "cell_type": "code",
   "execution_count": 3,
   "metadata": {},
   "outputs": [
    {
     "data": {
      "text/html": [
       "<div>\n",
       "<style scoped>\n",
       "    .dataframe tbody tr th:only-of-type {\n",
       "        vertical-align: middle;\n",
       "    }\n",
       "\n",
       "    .dataframe tbody tr th {\n",
       "        vertical-align: top;\n",
       "    }\n",
       "\n",
       "    .dataframe thead th {\n",
       "        text-align: right;\n",
       "    }\n",
       "</style>\n",
       "<table border=\"1\" class=\"dataframe\">\n",
       "  <thead>\n",
       "    <tr style=\"text-align: right;\">\n",
       "      <th></th>\n",
       "      <th>media_id</th>\n",
       "      <th>Name</th>\n",
       "      <th>URL_short</th>\n",
       "      <th>URL</th>\n",
       "      <th>URL_mobile</th>\n",
       "    </tr>\n",
       "  </thead>\n",
       "  <tbody>\n",
       "    <tr>\n",
       "      <th>0</th>\n",
       "      <td>19</td>\n",
       "      <td>La Tribune de Genève</td>\n",
       "      <td>tdg.ch</td>\n",
       "      <td>https://www.tdg.ch/</td>\n",
       "      <td>https://m.tdg.ch</td>\n",
       "    </tr>\n",
       "    <tr>\n",
       "      <th>1</th>\n",
       "      <td>20</td>\n",
       "      <td>24 heures</td>\n",
       "      <td>24heures.ch</td>\n",
       "      <td>https://www.24heures.ch</td>\n",
       "      <td>https://m.24heures.ch</td>\n",
       "    </tr>\n",
       "  </tbody>\n",
       "</table>\n",
       "</div>"
      ],
      "text/plain": [
       "   media_id                  Name    URL_short                      URL  \\\n",
       "0        19  La Tribune de Genève       tdg.ch      https://www.tdg.ch/   \n",
       "1        20             24 heures  24heures.ch  https://www.24heures.ch   \n",
       "\n",
       "              URL_mobile  \n",
       "0       https://m.tdg.ch  \n",
       "1  https://m.24heures.ch  "
      ]
     },
     "execution_count": 3,
     "metadata": {},
     "output_type": "execute_result"
    }
   ],
   "source": [
    "# dataframe containing media id, name and URLs\n",
    "medias = pd.read_csv('df/media_list.csv')\n",
    "\n",
    "medias.head(2)"
   ]
  },
  {
   "cell_type": "code",
   "execution_count": 4,
   "metadata": {
    "collapsed": true
   },
   "outputs": [],
   "source": [
    "# remove Konbini\n",
    "medias = medias[medias['media_id'] < 34].copy()\n",
    "\n",
    "# media id as string\n",
    "medias['media_id'] = medias['media_id'].apply(lambda x: str(x))\n",
    "\n",
    "missing_medias = None"
   ]
  },
  {
   "cell_type": "code",
   "execution_count": 5,
   "metadata": {
    "collapsed": true
   },
   "outputs": [],
   "source": [
    "# this new dataframe will contain our stats\n",
    "df_speed = pd.DataFrame(columns=['Name', 'media_id', 'pagespeed_score', 'page_load_time', 'fully_loaded_time', 'report_url'])"
   ]
  },
  {
   "cell_type": "code",
   "execution_count": 13,
   "metadata": {},
   "outputs": [
    {
     "name": "stdout",
     "output_type": "stream",
     "text": [
      "Getting missing results\n"
     ]
    }
   ],
   "source": [
    "# Run again if failed\n",
    "target_medias = medias\n",
    "if missing_medias is not None:\n",
    "    print('Getting missing results')\n",
    "    target_medias = missing_medias\n",
    "\n",
    "for i, row in target_medias.iterrows():\n",
    "    print('Testing', row['Name'], '...')\n",
    "    media_index = i\n",
    "\n",
    "    payload = {'media': medias.loc[media_index][['Name', 'media_id', 'URL']].to_dict()}\n",
    "    r = requests.post(TESTER_URL, json=payload)\n",
    "    \n",
    "    print(r.text, end='\\n\\n')\n",
    "    \n",
    "    result = json.loads(r.text.split('\\n')[-1])\n",
    "\n",
    "    df_speed = df_speed.append(pd.DataFrame([[\n",
    "        result['media']['Name'],\n",
    "        result['media']['media_id'],\n",
    "        result['results']['pagespeed_score'],\n",
    "        result['results']['page_load_time'] / 1000,\n",
    "        result['results']['fully_loaded_time'] / 1000,\n",
    "        result['results']['report_url']\n",
    "    ]], columns=['Name', 'media_id', 'pagespeed_score', 'page_load_time', 'fully_loaded_time', 'report_url']))"
   ]
  },
  {
   "cell_type": "code",
   "execution_count": 7,
   "metadata": {
    "collapsed": true
   },
   "outputs": [],
   "source": [
    "# Use this in case you get e.g. a “The page took too long to load” or “Unable to analyze your site” error.\n",
    "# It will contain missing medias. You can loop through it in the previous cell.\n",
    "missing_medias = medias[(-medias['media_id'].isin(df_speed['media_id']))]"
   ]
  },
  {
   "cell_type": "code",
   "execution_count": 8,
   "metadata": {},
   "outputs": [
    {
     "data": {
      "text/html": [
       "<div>\n",
       "<style scoped>\n",
       "    .dataframe tbody tr th:only-of-type {\n",
       "        vertical-align: middle;\n",
       "    }\n",
       "\n",
       "    .dataframe tbody tr th {\n",
       "        vertical-align: top;\n",
       "    }\n",
       "\n",
       "    .dataframe thead th {\n",
       "        text-align: right;\n",
       "    }\n",
       "</style>\n",
       "<table border=\"1\" class=\"dataframe\">\n",
       "  <thead>\n",
       "    <tr style=\"text-align: right;\">\n",
       "      <th></th>\n",
       "      <th>media_id</th>\n",
       "      <th>Name</th>\n",
       "      <th>URL_short</th>\n",
       "      <th>URL</th>\n",
       "      <th>URL_mobile</th>\n",
       "    </tr>\n",
       "  </thead>\n",
       "  <tbody>\n",
       "  </tbody>\n",
       "</table>\n",
       "</div>"
      ],
      "text/plain": [
       "Empty DataFrame\n",
       "Columns: [media_id, Name, URL_short, URL, URL_mobile]\n",
       "Index: []"
      ]
     },
     "execution_count": 8,
     "metadata": {},
     "output_type": "execute_result"
    }
   ],
   "source": [
    "missing_medias.head(3)"
   ]
  },
  {
   "cell_type": "code",
   "execution_count": 9,
   "metadata": {},
   "outputs": [
    {
     "name": "stdout",
     "output_type": "stream",
     "text": [
      "https://gtmetrix.com/reports/www.lacote.ch/ZrEyp4s4\n"
     ]
    }
   ],
   "source": [
    "# To check for a report after an error\n",
    "print(\"https:\\/\\/gtmetrix.com\\/reports\\/www.lacote.ch\\/ZrEyp4s4\".replace('\\\\', ''))"
   ]
  },
  {
   "cell_type": "code",
   "execution_count": 10,
   "metadata": {},
   "outputs": [
    {
     "data": {
      "text/html": [
       "<div>\n",
       "<style scoped>\n",
       "    .dataframe tbody tr th:only-of-type {\n",
       "        vertical-align: middle;\n",
       "    }\n",
       "\n",
       "    .dataframe tbody tr th {\n",
       "        vertical-align: top;\n",
       "    }\n",
       "\n",
       "    .dataframe thead th {\n",
       "        text-align: right;\n",
       "    }\n",
       "</style>\n",
       "<table border=\"1\" class=\"dataframe\">\n",
       "  <thead>\n",
       "    <tr style=\"text-align: right;\">\n",
       "      <th></th>\n",
       "      <th>Name</th>\n",
       "      <th>media_id</th>\n",
       "      <th>pagespeed_score</th>\n",
       "      <th>page_load_time</th>\n",
       "      <th>fully_loaded_time</th>\n",
       "      <th>report_url</th>\n",
       "      <th>timestamp</th>\n",
       "    </tr>\n",
       "  </thead>\n",
       "  <tbody>\n",
       "    <tr>\n",
       "      <th>0</th>\n",
       "      <td>La Tribune de Genève</td>\n",
       "      <td>19</td>\n",
       "      <td>34</td>\n",
       "      <td>10.302</td>\n",
       "      <td>10.613</td>\n",
       "      <td>https://gtmetrix.com/reports/www.tdg.ch/wMvInlFG</td>\n",
       "      <td>2018-09-01 18:14:52</td>\n",
       "    </tr>\n",
       "    <tr>\n",
       "      <th>0</th>\n",
       "      <td>24 heures</td>\n",
       "      <td>20</td>\n",
       "      <td>32</td>\n",
       "      <td>9.357</td>\n",
       "      <td>9.757</td>\n",
       "      <td>https://gtmetrix.com/reports/www.24heures.ch/8...</td>\n",
       "      <td>2018-09-01 18:14:52</td>\n",
       "    </tr>\n",
       "    <tr>\n",
       "      <th>0</th>\n",
       "      <td>Le Temps</td>\n",
       "      <td>21</td>\n",
       "      <td>49</td>\n",
       "      <td>7.038</td>\n",
       "      <td>7.401</td>\n",
       "      <td>https://gtmetrix.com/reports/www.letemps.ch/6I...</td>\n",
       "      <td>2018-09-01 18:14:52</td>\n",
       "    </tr>\n",
       "    <tr>\n",
       "      <th>0</th>\n",
       "      <td>Le Monde</td>\n",
       "      <td>22</td>\n",
       "      <td>40</td>\n",
       "      <td>7.028</td>\n",
       "      <td>22.471</td>\n",
       "      <td>https://gtmetrix.com/reports/www.lemonde.fr/fZ...</td>\n",
       "      <td>2018-09-01 18:14:52</td>\n",
       "    </tr>\n",
       "    <tr>\n",
       "      <th>0</th>\n",
       "      <td>RTS info</td>\n",
       "      <td>23</td>\n",
       "      <td>56</td>\n",
       "      <td>7.109</td>\n",
       "      <td>7.572</td>\n",
       "      <td>https://gtmetrix.com/reports/www.rts.ch/Kuw3qDcR</td>\n",
       "      <td>2018-09-01 18:14:52</td>\n",
       "    </tr>\n",
       "    <tr>\n",
       "      <th>0</th>\n",
       "      <td>20 minutes (ch)</td>\n",
       "      <td>24</td>\n",
       "      <td>23</td>\n",
       "      <td>8.928</td>\n",
       "      <td>12.621</td>\n",
       "      <td>https://gtmetrix.com/reports/www.20min.ch/Ptvd...</td>\n",
       "      <td>2018-09-01 18:14:52</td>\n",
       "    </tr>\n",
       "    <tr>\n",
       "      <th>0</th>\n",
       "      <td>Le Matin</td>\n",
       "      <td>25</td>\n",
       "      <td>0</td>\n",
       "      <td>12.455</td>\n",
       "      <td>13.466</td>\n",
       "      <td>https://gtmetrix.com/reports/www.lematin.ch/2E...</td>\n",
       "      <td>2018-09-01 18:14:52</td>\n",
       "    </tr>\n",
       "    <tr>\n",
       "      <th>0</th>\n",
       "      <td>Mediapart</td>\n",
       "      <td>26</td>\n",
       "      <td>38</td>\n",
       "      <td>4.578</td>\n",
       "      <td>5.059</td>\n",
       "      <td>https://gtmetrix.com/reports/www.mediapart.fr/...</td>\n",
       "      <td>2018-09-01 18:14:52</td>\n",
       "    </tr>\n",
       "    <tr>\n",
       "      <th>0</th>\n",
       "      <td>Le Figaro</td>\n",
       "      <td>27</td>\n",
       "      <td>30</td>\n",
       "      <td>8.879</td>\n",
       "      <td>28.661</td>\n",
       "      <td>https://gtmetrix.com/reports/www.lefigaro.fr/X...</td>\n",
       "      <td>2018-09-01 18:14:52</td>\n",
       "    </tr>\n",
       "    <tr>\n",
       "      <th>0</th>\n",
       "      <td>Libération</td>\n",
       "      <td>28</td>\n",
       "      <td>5</td>\n",
       "      <td>12.148</td>\n",
       "      <td>30.425</td>\n",
       "      <td>https://gtmetrix.com/reports/www.liberation.fr...</td>\n",
       "      <td>2018-09-01 18:14:52</td>\n",
       "    </tr>\n",
       "    <tr>\n",
       "      <th>0</th>\n",
       "      <td>La Côte</td>\n",
       "      <td>29</td>\n",
       "      <td>44</td>\n",
       "      <td>10.694</td>\n",
       "      <td>17.281</td>\n",
       "      <td>https://gtmetrix.com/reports/www.lacote.ch/2NP...</td>\n",
       "      <td>2018-09-01 18:14:52</td>\n",
       "    </tr>\n",
       "    <tr>\n",
       "      <th>0</th>\n",
       "      <td>Arcinfo</td>\n",
       "      <td>30</td>\n",
       "      <td>39</td>\n",
       "      <td>10.682</td>\n",
       "      <td>15.356</td>\n",
       "      <td>https://gtmetrix.com/reports/www.arcinfo.ch/hr...</td>\n",
       "      <td>2018-09-01 18:14:52</td>\n",
       "    </tr>\n",
       "    <tr>\n",
       "      <th>0</th>\n",
       "      <td>Le Nouvelliste</td>\n",
       "      <td>31</td>\n",
       "      <td>39</td>\n",
       "      <td>11.265</td>\n",
       "      <td>13.207</td>\n",
       "      <td>https://gtmetrix.com/reports/www.lenouvelliste...</td>\n",
       "      <td>2018-09-01 18:14:52</td>\n",
       "    </tr>\n",
       "    <tr>\n",
       "      <th>0</th>\n",
       "      <td>La Liberté</td>\n",
       "      <td>32</td>\n",
       "      <td>14</td>\n",
       "      <td>34.973</td>\n",
       "      <td>36.360</td>\n",
       "      <td>https://gtmetrix.com/reports/www.laliberte.ch/...</td>\n",
       "      <td>2018-09-01 18:14:52</td>\n",
       "    </tr>\n",
       "    <tr>\n",
       "      <th>0</th>\n",
       "      <td>Le Courrier</td>\n",
       "      <td>33</td>\n",
       "      <td>86</td>\n",
       "      <td>9.694</td>\n",
       "      <td>10.201</td>\n",
       "      <td>https://gtmetrix.com/reports/lecourrier.ch/RIb...</td>\n",
       "      <td>2018-09-01 18:14:52</td>\n",
       "    </tr>\n",
       "  </tbody>\n",
       "</table>\n",
       "</div>"
      ],
      "text/plain": [
       "                   Name media_id pagespeed_score  page_load_time  \\\n",
       "0  La Tribune de Genève       19              34          10.302   \n",
       "0             24 heures       20              32           9.357   \n",
       "0              Le Temps       21              49           7.038   \n",
       "0              Le Monde       22              40           7.028   \n",
       "0              RTS info       23              56           7.109   \n",
       "0       20 minutes (ch)       24              23           8.928   \n",
       "0              Le Matin       25               0          12.455   \n",
       "0             Mediapart       26              38           4.578   \n",
       "0             Le Figaro       27              30           8.879   \n",
       "0            Libération       28               5          12.148   \n",
       "0               La Côte       29              44          10.694   \n",
       "0               Arcinfo       30              39          10.682   \n",
       "0        Le Nouvelliste       31              39          11.265   \n",
       "0            La Liberté       32              14          34.973   \n",
       "0           Le Courrier       33              86           9.694   \n",
       "\n",
       "   fully_loaded_time                                         report_url  \\\n",
       "0             10.613   https://gtmetrix.com/reports/www.tdg.ch/wMvInlFG   \n",
       "0              9.757  https://gtmetrix.com/reports/www.24heures.ch/8...   \n",
       "0              7.401  https://gtmetrix.com/reports/www.letemps.ch/6I...   \n",
       "0             22.471  https://gtmetrix.com/reports/www.lemonde.fr/fZ...   \n",
       "0              7.572   https://gtmetrix.com/reports/www.rts.ch/Kuw3qDcR   \n",
       "0             12.621  https://gtmetrix.com/reports/www.20min.ch/Ptvd...   \n",
       "0             13.466  https://gtmetrix.com/reports/www.lematin.ch/2E...   \n",
       "0              5.059  https://gtmetrix.com/reports/www.mediapart.fr/...   \n",
       "0             28.661  https://gtmetrix.com/reports/www.lefigaro.fr/X...   \n",
       "0             30.425  https://gtmetrix.com/reports/www.liberation.fr...   \n",
       "0             17.281  https://gtmetrix.com/reports/www.lacote.ch/2NP...   \n",
       "0             15.356  https://gtmetrix.com/reports/www.arcinfo.ch/hr...   \n",
       "0             13.207  https://gtmetrix.com/reports/www.lenouvelliste...   \n",
       "0             36.360  https://gtmetrix.com/reports/www.laliberte.ch/...   \n",
       "0             10.201  https://gtmetrix.com/reports/lecourrier.ch/RIb...   \n",
       "\n",
       "             timestamp  \n",
       "0  2018-09-01 18:14:52  \n",
       "0  2018-09-01 18:14:52  \n",
       "0  2018-09-01 18:14:52  \n",
       "0  2018-09-01 18:14:52  \n",
       "0  2018-09-01 18:14:52  \n",
       "0  2018-09-01 18:14:52  \n",
       "0  2018-09-01 18:14:52  \n",
       "0  2018-09-01 18:14:52  \n",
       "0  2018-09-01 18:14:52  \n",
       "0  2018-09-01 18:14:52  \n",
       "0  2018-09-01 18:14:52  \n",
       "0  2018-09-01 18:14:52  \n",
       "0  2018-09-01 18:14:52  \n",
       "0  2018-09-01 18:14:52  \n",
       "0  2018-09-01 18:14:52  "
      ]
     },
     "execution_count": 10,
     "metadata": {},
     "output_type": "execute_result"
    }
   ],
   "source": [
    "# add current timestamp\n",
    "df_speed['timestamp'] = datetime.datetime.now().strftime('%Y-%m-%d %H:%M:%S')\n",
    "df_speed"
   ]
  },
  {
   "cell_type": "code",
   "execution_count": 11,
   "metadata": {},
   "outputs": [
    {
     "name": "stdout",
     "output_type": "stream",
     "text": [
      "Saving to df/archive/speed_metrics_2018-09-01.csv...\n"
     ]
    }
   ],
   "source": [
    "outputfile = 'df/archive/speed_metrics_{}.csv'.format( datetime.datetime.now().strftime('%Y-%m-%d') )\n",
    "print('Saving to {}...'.format(outputfile))"
   ]
  },
  {
   "cell_type": "code",
   "execution_count": 12,
   "metadata": {
    "collapsed": true
   },
   "outputs": [],
   "source": [
    "df_speed.to_csv(outputfile) # archive\n",
    "df_speed.to_csv('df/speed_metrics.csv') # temp file"
   ]
  },
  {
   "cell_type": "code",
   "execution_count": null,
   "metadata": {
    "collapsed": true
   },
   "outputs": [],
   "source": []
  }
 ],
 "metadata": {
  "kernelspec": {
   "display_name": "Python 3",
   "language": "python",
   "name": "python3"
  },
  "language_info": {
   "codemirror_mode": {
    "name": "ipython",
    "version": 3
   },
   "file_extension": ".py",
   "mimetype": "text/x-python",
   "name": "python",
   "nbconvert_exporter": "python",
   "pygments_lexer": "ipython3",
   "version": "3.5.1"
  }
 },
 "nbformat": 4,
 "nbformat_minor": 2
}
