{
 "cells": [
  {
   "cell_type": "markdown",
   "metadata": {},
   "source": [
    "# Speed Metrics\n",
    "\n",
    "Loads and saves PageSpeed and page loading time.\n",
    "\n",
    "Currently uses a local PHP script sending requests to the GT Metrix API.\n",
    "\n",
    "A complete test may last up to 30 minutes.\n",
    "\n",
    "For mobile device performances tested with “mobile_metrics.ipynb”. GT Metrix doesn't offer testing on mobile devices for now.\n",
    "\n",
    "© Paul Ronga under Apache-2 Licence (see LICENCE.txt)."
   ]
  },
  {
   "cell_type": "code",
   "execution_count": 1,
   "metadata": {
    "collapsed": true
   },
   "outputs": [],
   "source": [
    "import pandas as pd\n",
    "import requests\n",
    "from IPython.display import HTML\n",
    "import json\n",
    "import datetime"
   ]
  },
  {
   "cell_type": "code",
   "execution_count": 2,
   "metadata": {
    "collapsed": true
   },
   "outputs": [],
   "source": [
    "# change this for your local tester / an external tool\n",
    "TESTER_URL = 'http://rospo.local/~paul/gtmetrix/medias.php'"
   ]
  },
  {
   "cell_type": "code",
   "execution_count": 3,
   "metadata": {},
   "outputs": [
    {
     "data": {
      "text/html": [
       "<div>\n",
       "<style scoped>\n",
       "    .dataframe tbody tr th:only-of-type {\n",
       "        vertical-align: middle;\n",
       "    }\n",
       "\n",
       "    .dataframe tbody tr th {\n",
       "        vertical-align: top;\n",
       "    }\n",
       "\n",
       "    .dataframe thead th {\n",
       "        text-align: right;\n",
       "    }\n",
       "</style>\n",
       "<table border=\"1\" class=\"dataframe\">\n",
       "  <thead>\n",
       "    <tr style=\"text-align: right;\">\n",
       "      <th></th>\n",
       "      <th>media_id</th>\n",
       "      <th>Name</th>\n",
       "      <th>URL_short</th>\n",
       "      <th>URL</th>\n",
       "    </tr>\n",
       "  </thead>\n",
       "  <tbody>\n",
       "    <tr>\n",
       "      <th>0</th>\n",
       "      <td>19</td>\n",
       "      <td>La Tribune de Genève</td>\n",
       "      <td>tdg.ch</td>\n",
       "      <td>https://www.tdg.ch/</td>\n",
       "    </tr>\n",
       "    <tr>\n",
       "      <th>1</th>\n",
       "      <td>20</td>\n",
       "      <td>24 heures</td>\n",
       "      <td>24heures.ch</td>\n",
       "      <td>https://www.24heures.ch</td>\n",
       "    </tr>\n",
       "  </tbody>\n",
       "</table>\n",
       "</div>"
      ],
      "text/plain": [
       "  media_id                  Name    URL_short                      URL\n",
       "0       19  La Tribune de Genève       tdg.ch      https://www.tdg.ch/\n",
       "1       20             24 heures  24heures.ch  https://www.24heures.ch"
      ]
     },
     "execution_count": 3,
     "metadata": {},
     "output_type": "execute_result"
    }
   ],
   "source": [
    "# dataframe containing media id, name and URLs\n",
    "medias = pd.read_csv('df/media_list.csv')\n",
    "\n",
    "# media id as string\n",
    "medias['media_id'] = medias['media_id'].apply(lambda x: str(x))\n",
    "\n",
    "medias.head(2)"
   ]
  },
  {
   "cell_type": "code",
   "execution_count": 4,
   "metadata": {
    "collapsed": true
   },
   "outputs": [],
   "source": [
    "# this new dataframe will contain our stats\n",
    "df_speed = pd.DataFrame(columns=['Name', 'media_id', 'pagespeed_score', 'page_load_time', 'fully_loaded_time', 'report_url'])"
   ]
  },
  {
   "cell_type": "code",
   "execution_count": 12,
   "metadata": {},
   "outputs": [
    {
     "name": "stdout",
     "output_type": "stream",
     "text": [
      "Testing Le Nouvelliste ...\n",
      "Test started with KQfpRx2D\n",
      "{\"media\":{\"media_id\":\"31\",\"Name\":\"Le Nouvelliste\",\"URL\":\"https:\\/\\/www.lenouvelliste.ch\\/\"},\"results\":{\"onload_time\":11854,\"first_contentful_paint_time\":1724,\"page_elements\":202,\"report_url\":\"https:\\/\\/gtmetrix.com\\/reports\\/www.lenouvelliste.ch\\/KfikwasN\",\"redirect_duration\":0,\"first_paint_time\":1724,\"dom_content_loaded_duration\":null,\"dom_content_loaded_time\":3599,\"dom_interactive_time\":3598,\"page_bytes\":3661518,\"page_load_time\":11854,\"html_bytes\":31291,\"fully_loaded_time\":17074,\"html_load_time\":662,\"rum_speed_index\":2389,\"yslow_score\":44,\"pagespeed_score\":40,\"backend_duration\":161,\"onload_duration\":3,\"connect_duration\":501}}\n",
      "\n",
      "Testing La Liberté ...\n",
      "Test started with CDtshaJB\n",
      "{\"media\":{\"media_id\":\"32\",\"Name\":\"La Libert\\u00e9\",\"URL\":\"https:\\/\\/www.laliberte.ch\\/\"},\"results\":{\"onload_time\":13971,\"first_contentful_paint_time\":2555,\"page_elements\":176,\"report_url\":\"https:\\/\\/gtmetrix.com\\/reports\\/www.laliberte.ch\\/6MIBEFVt\",\"redirect_duration\":0,\"first_paint_time\":2555,\"dom_content_loaded_duration\":null,\"dom_content_loaded_time\":3411,\"dom_interactive_time\":3409,\"page_bytes\":3751403,\"page_load_time\":13971,\"html_bytes\":18807,\"fully_loaded_time\":15429,\"html_load_time\":823,\"rum_speed_index\":3070,\"yslow_score\":47,\"pagespeed_score\":37,\"backend_duration\":316,\"onload_duration\":14,\"connect_duration\":507}}\n",
      "\n",
      "Testing Le Courrier ...\n",
      "Test started with GHS8rhRm\n",
      "{\"media\":{\"media_id\":\"33\",\"Name\":\"Le Courrier\",\"URL\":\"https:\\/\\/lecourrier.ch\\/\"},\"results\":{\"onload_time\":9111,\"first_contentful_paint_time\":7500,\"page_elements\":59,\"report_url\":\"https:\\/\\/gtmetrix.com\\/reports\\/lecourrier.ch\\/3bRpu99c\",\"redirect_duration\":0,\"first_paint_time\":7117,\"dom_content_loaded_duration\":null,\"dom_content_loaded_time\":8332,\"dom_interactive_time\":8332,\"page_bytes\":1963966,\"page_load_time\":9111,\"html_bytes\":25145,\"fully_loaded_time\":9645,\"html_load_time\":5963,\"rum_speed_index\":7453,\"yslow_score\":80,\"pagespeed_score\":86,\"backend_duration\":5416,\"onload_duration\":12,\"connect_duration\":547}}\n",
      "\n"
     ]
    }
   ],
   "source": [
    "for i, row in medias.iterrows():\n",
    "    print('Testing', row['Name'], '...')\n",
    "    media_index = i\n",
    "\n",
    "    payload = {'media': medias.loc[media_index][['Name', 'media_id', 'URL']].to_dict()}\n",
    "    r = requests.post(TESTER_URL, json=payload)\n",
    "    \n",
    "    print(r.text, end='\\n\\n')\n",
    "    \n",
    "    result = json.loads(r.text.split('\\n')[-1])\n",
    "\n",
    "    df_speed = df_speed.append(pd.DataFrame([[\n",
    "        result['media']['Name'],\n",
    "        result['media']['media_id'],\n",
    "        result['results']['pagespeed_score'],\n",
    "        result['results']['page_load_time'] / 1000,\n",
    "        result['results']['fully_loaded_time'] / 1000,\n",
    "        result['results']['report_url']\n",
    "    ]], columns=['Name', 'media_id', 'pagespeed_score', 'page_load_time', 'fully_loaded_time', 'report_url']))"
   ]
  },
  {
   "cell_type": "code",
   "execution_count": 7,
   "metadata": {
    "collapsed": true
   },
   "outputs": [],
   "source": [
    "# Use this in case you get e.g. a “The page took too long to load” or “Unable to analyze your site” error.\n",
    "# It will contain missing medias. You can loop through it in the previous cell.\n",
    "missing_medias = medias[(-medias['media_id'].isin(df_speed['media_id']))]"
   ]
  },
  {
   "cell_type": "code",
   "execution_count": 11,
   "metadata": {},
   "outputs": [
    {
     "data": {
      "text/html": [
       "<div>\n",
       "<style scoped>\n",
       "    .dataframe tbody tr th:only-of-type {\n",
       "        vertical-align: middle;\n",
       "    }\n",
       "\n",
       "    .dataframe tbody tr th {\n",
       "        vertical-align: top;\n",
       "    }\n",
       "\n",
       "    .dataframe thead th {\n",
       "        text-align: right;\n",
       "    }\n",
       "</style>\n",
       "<table border=\"1\" class=\"dataframe\">\n",
       "  <thead>\n",
       "    <tr style=\"text-align: right;\">\n",
       "      <th></th>\n",
       "      <th>media_id</th>\n",
       "      <th>Name</th>\n",
       "      <th>URL_short</th>\n",
       "      <th>URL</th>\n",
       "    </tr>\n",
       "  </thead>\n",
       "  <tbody>\n",
       "    <tr>\n",
       "      <th>12</th>\n",
       "      <td>31</td>\n",
       "      <td>Le Nouvelliste</td>\n",
       "      <td>lenouvelliste.ch</td>\n",
       "      <td>https://www.lenouvelliste.ch/</td>\n",
       "    </tr>\n",
       "    <tr>\n",
       "      <th>13</th>\n",
       "      <td>32</td>\n",
       "      <td>La Liberté</td>\n",
       "      <td>laliberte.ch</td>\n",
       "      <td>https://www.laliberte.ch/</td>\n",
       "    </tr>\n",
       "    <tr>\n",
       "      <th>14</th>\n",
       "      <td>33</td>\n",
       "      <td>Le Courrier</td>\n",
       "      <td>lecourrier.ch</td>\n",
       "      <td>https://lecourrier.ch/</td>\n",
       "    </tr>\n",
       "  </tbody>\n",
       "</table>\n",
       "</div>"
      ],
      "text/plain": [
       "   media_id            Name         URL_short                            URL\n",
       "12       31  Le Nouvelliste  lenouvelliste.ch  https://www.lenouvelliste.ch/\n",
       "13       32      La Liberté      laliberte.ch      https://www.laliberte.ch/\n",
       "14       33     Le Courrier     lecourrier.ch         https://lecourrier.ch/"
      ]
     },
     "execution_count": 11,
     "metadata": {},
     "output_type": "execute_result"
    }
   ],
   "source": [
    "missing_medias.head(3)"
   ]
  },
  {
   "cell_type": "code",
   "execution_count": 13,
   "metadata": {},
   "outputs": [
    {
     "name": "stdout",
     "output_type": "stream",
     "text": [
      "https://gtmetrix.com/reports/www.lacote.ch/ZrEyp4s4\n"
     ]
    }
   ],
   "source": [
    "# To check for a report after an error\n",
    "print(\"https:\\/\\/gtmetrix.com\\/reports\\/www.lacote.ch\\/ZrEyp4s4\".replace('\\\\', ''))"
   ]
  },
  {
   "cell_type": "code",
   "execution_count": 14,
   "metadata": {},
   "outputs": [
    {
     "data": {
      "text/html": [
       "<div>\n",
       "<style scoped>\n",
       "    .dataframe tbody tr th:only-of-type {\n",
       "        vertical-align: middle;\n",
       "    }\n",
       "\n",
       "    .dataframe tbody tr th {\n",
       "        vertical-align: top;\n",
       "    }\n",
       "\n",
       "    .dataframe thead th {\n",
       "        text-align: right;\n",
       "    }\n",
       "</style>\n",
       "<table border=\"1\" class=\"dataframe\">\n",
       "  <thead>\n",
       "    <tr style=\"text-align: right;\">\n",
       "      <th></th>\n",
       "      <th>Name</th>\n",
       "      <th>media_id</th>\n",
       "      <th>pagespeed_score</th>\n",
       "      <th>page_load_time</th>\n",
       "      <th>fully_loaded_time</th>\n",
       "      <th>report_url</th>\n",
       "      <th>timestamp</th>\n",
       "    </tr>\n",
       "  </thead>\n",
       "  <tbody>\n",
       "    <tr>\n",
       "      <th>0</th>\n",
       "      <td>La Tribune de Genève</td>\n",
       "      <td>19</td>\n",
       "      <td>25</td>\n",
       "      <td>9.454</td>\n",
       "      <td>10.258</td>\n",
       "      <td>https://gtmetrix.com/reports/www.tdg.ch/ptzXarQY</td>\n",
       "      <td>2018-06-23 16:24:05</td>\n",
       "    </tr>\n",
       "    <tr>\n",
       "      <th>0</th>\n",
       "      <td>24 heures</td>\n",
       "      <td>20</td>\n",
       "      <td>24</td>\n",
       "      <td>10.750</td>\n",
       "      <td>12.179</td>\n",
       "      <td>https://gtmetrix.com/reports/www.24heures.ch/h...</td>\n",
       "      <td>2018-06-23 16:24:05</td>\n",
       "    </tr>\n",
       "    <tr>\n",
       "      <th>0</th>\n",
       "      <td>Le Temps</td>\n",
       "      <td>21</td>\n",
       "      <td>57</td>\n",
       "      <td>11.580</td>\n",
       "      <td>13.062</td>\n",
       "      <td>https://gtmetrix.com/reports/www.letemps.ch/fg...</td>\n",
       "      <td>2018-06-23 16:24:05</td>\n",
       "    </tr>\n",
       "    <tr>\n",
       "      <th>0</th>\n",
       "      <td>Le Monde</td>\n",
       "      <td>22</td>\n",
       "      <td>27</td>\n",
       "      <td>13.534</td>\n",
       "      <td>22.506</td>\n",
       "      <td>https://gtmetrix.com/reports/www.lemonde.fr/GO...</td>\n",
       "      <td>2018-06-23 16:24:05</td>\n",
       "    </tr>\n",
       "    <tr>\n",
       "      <th>0</th>\n",
       "      <td>RTS info</td>\n",
       "      <td>23</td>\n",
       "      <td>57</td>\n",
       "      <td>5.277</td>\n",
       "      <td>5.676</td>\n",
       "      <td>https://gtmetrix.com/reports/www.rts.ch/o9jLUVhu</td>\n",
       "      <td>2018-06-23 16:24:05</td>\n",
       "    </tr>\n",
       "    <tr>\n",
       "      <th>0</th>\n",
       "      <td>20 minutes (ch)</td>\n",
       "      <td>24</td>\n",
       "      <td>11</td>\n",
       "      <td>13.036</td>\n",
       "      <td>15.314</td>\n",
       "      <td>https://gtmetrix.com/reports/www.20min.ch/NxCe...</td>\n",
       "      <td>2018-06-23 16:24:05</td>\n",
       "    </tr>\n",
       "    <tr>\n",
       "      <th>0</th>\n",
       "      <td>Le Matin</td>\n",
       "      <td>25</td>\n",
       "      <td>0</td>\n",
       "      <td>13.715</td>\n",
       "      <td>15.487</td>\n",
       "      <td>https://gtmetrix.com/reports/www.lematin.ch/xq...</td>\n",
       "      <td>2018-06-23 16:24:05</td>\n",
       "    </tr>\n",
       "    <tr>\n",
       "      <th>0</th>\n",
       "      <td>Mediapart</td>\n",
       "      <td>26</td>\n",
       "      <td>22</td>\n",
       "      <td>4.976</td>\n",
       "      <td>5.473</td>\n",
       "      <td>https://gtmetrix.com/reports/www.mediapart.fr/...</td>\n",
       "      <td>2018-06-23 16:24:05</td>\n",
       "    </tr>\n",
       "    <tr>\n",
       "      <th>0</th>\n",
       "      <td>Le Figaro</td>\n",
       "      <td>27</td>\n",
       "      <td>33</td>\n",
       "      <td>8.459</td>\n",
       "      <td>16.457</td>\n",
       "      <td>https://gtmetrix.com/reports/www.lefigaro.fr/w...</td>\n",
       "      <td>2018-06-23 16:24:05</td>\n",
       "    </tr>\n",
       "    <tr>\n",
       "      <th>0</th>\n",
       "      <td>Libération</td>\n",
       "      <td>28</td>\n",
       "      <td>32</td>\n",
       "      <td>5.896</td>\n",
       "      <td>6.719</td>\n",
       "      <td>https://gtmetrix.com/reports/www.liberation.fr...</td>\n",
       "      <td>2018-06-23 16:24:05</td>\n",
       "    </tr>\n",
       "    <tr>\n",
       "      <th>0</th>\n",
       "      <td>La Côte</td>\n",
       "      <td>29</td>\n",
       "      <td>37</td>\n",
       "      <td>11.394</td>\n",
       "      <td>12.937</td>\n",
       "      <td>https://gtmetrix.com/reports/www.lacote.ch/uJa...</td>\n",
       "      <td>2018-06-23 16:24:05</td>\n",
       "    </tr>\n",
       "    <tr>\n",
       "      <th>0</th>\n",
       "      <td>Arcinfo</td>\n",
       "      <td>30</td>\n",
       "      <td>24</td>\n",
       "      <td>11.144</td>\n",
       "      <td>12.933</td>\n",
       "      <td>https://gtmetrix.com/reports/www.arcinfo.ch/Hq...</td>\n",
       "      <td>2018-06-23 16:24:05</td>\n",
       "    </tr>\n",
       "    <tr>\n",
       "      <th>0</th>\n",
       "      <td>Le Nouvelliste</td>\n",
       "      <td>31</td>\n",
       "      <td>40</td>\n",
       "      <td>11.854</td>\n",
       "      <td>17.074</td>\n",
       "      <td>https://gtmetrix.com/reports/www.lenouvelliste...</td>\n",
       "      <td>2018-06-23 16:24:05</td>\n",
       "    </tr>\n",
       "    <tr>\n",
       "      <th>0</th>\n",
       "      <td>La Liberté</td>\n",
       "      <td>32</td>\n",
       "      <td>37</td>\n",
       "      <td>13.971</td>\n",
       "      <td>15.429</td>\n",
       "      <td>https://gtmetrix.com/reports/www.laliberte.ch/...</td>\n",
       "      <td>2018-06-23 16:24:05</td>\n",
       "    </tr>\n",
       "    <tr>\n",
       "      <th>0</th>\n",
       "      <td>Le Courrier</td>\n",
       "      <td>33</td>\n",
       "      <td>86</td>\n",
       "      <td>9.111</td>\n",
       "      <td>9.645</td>\n",
       "      <td>https://gtmetrix.com/reports/lecourrier.ch/3bR...</td>\n",
       "      <td>2018-06-23 16:24:05</td>\n",
       "    </tr>\n",
       "  </tbody>\n",
       "</table>\n",
       "</div>"
      ],
      "text/plain": [
       "                   Name media_id pagespeed_score  page_load_time  \\\n",
       "0  La Tribune de Genève       19              25           9.454   \n",
       "0             24 heures       20              24          10.750   \n",
       "0              Le Temps       21              57          11.580   \n",
       "0              Le Monde       22              27          13.534   \n",
       "0              RTS info       23              57           5.277   \n",
       "0       20 minutes (ch)       24              11          13.036   \n",
       "0              Le Matin       25               0          13.715   \n",
       "0             Mediapart       26              22           4.976   \n",
       "0             Le Figaro       27              33           8.459   \n",
       "0            Libération       28              32           5.896   \n",
       "0               La Côte       29              37          11.394   \n",
       "0               Arcinfo       30              24          11.144   \n",
       "0        Le Nouvelliste       31              40          11.854   \n",
       "0            La Liberté       32              37          13.971   \n",
       "0           Le Courrier       33              86           9.111   \n",
       "\n",
       "   fully_loaded_time                                         report_url  \\\n",
       "0             10.258   https://gtmetrix.com/reports/www.tdg.ch/ptzXarQY   \n",
       "0             12.179  https://gtmetrix.com/reports/www.24heures.ch/h...   \n",
       "0             13.062  https://gtmetrix.com/reports/www.letemps.ch/fg...   \n",
       "0             22.506  https://gtmetrix.com/reports/www.lemonde.fr/GO...   \n",
       "0              5.676   https://gtmetrix.com/reports/www.rts.ch/o9jLUVhu   \n",
       "0             15.314  https://gtmetrix.com/reports/www.20min.ch/NxCe...   \n",
       "0             15.487  https://gtmetrix.com/reports/www.lematin.ch/xq...   \n",
       "0              5.473  https://gtmetrix.com/reports/www.mediapart.fr/...   \n",
       "0             16.457  https://gtmetrix.com/reports/www.lefigaro.fr/w...   \n",
       "0              6.719  https://gtmetrix.com/reports/www.liberation.fr...   \n",
       "0             12.937  https://gtmetrix.com/reports/www.lacote.ch/uJa...   \n",
       "0             12.933  https://gtmetrix.com/reports/www.arcinfo.ch/Hq...   \n",
       "0             17.074  https://gtmetrix.com/reports/www.lenouvelliste...   \n",
       "0             15.429  https://gtmetrix.com/reports/www.laliberte.ch/...   \n",
       "0              9.645  https://gtmetrix.com/reports/lecourrier.ch/3bR...   \n",
       "\n",
       "             timestamp  \n",
       "0  2018-06-23 16:24:05  \n",
       "0  2018-06-23 16:24:05  \n",
       "0  2018-06-23 16:24:05  \n",
       "0  2018-06-23 16:24:05  \n",
       "0  2018-06-23 16:24:05  \n",
       "0  2018-06-23 16:24:05  \n",
       "0  2018-06-23 16:24:05  \n",
       "0  2018-06-23 16:24:05  \n",
       "0  2018-06-23 16:24:05  \n",
       "0  2018-06-23 16:24:05  \n",
       "0  2018-06-23 16:24:05  \n",
       "0  2018-06-23 16:24:05  \n",
       "0  2018-06-23 16:24:05  \n",
       "0  2018-06-23 16:24:05  \n",
       "0  2018-06-23 16:24:05  "
      ]
     },
     "execution_count": 14,
     "metadata": {},
     "output_type": "execute_result"
    }
   ],
   "source": [
    "# add current timestamp\n",
    "df_speed['timestamp'] = datetime.datetime.now().strftime('%Y-%m-%d %H:%M:%S')\n",
    "df_speed"
   ]
  },
  {
   "cell_type": "code",
   "execution_count": 18,
   "metadata": {},
   "outputs": [
    {
     "name": "stdout",
     "output_type": "stream",
     "text": [
      "Saving to df/archive/speed_metrics_2018-06-23.csv...\n"
     ]
    }
   ],
   "source": [
    "outputfile = 'df/archive/speed_metrics_{}.csv'.format( datetime.datetime.now().strftime('%Y-%m-%d') )\n",
    "print('Saving to {}...'.format(outputfile))"
   ]
  },
  {
   "cell_type": "code",
   "execution_count": 19,
   "metadata": {
    "collapsed": true
   },
   "outputs": [],
   "source": [
    "df_speed.to_csv(outputfile) # archive\n",
    "df_speed.to_csv('df/speed_metrics.csv') # temp file"
   ]
  },
  {
   "cell_type": "code",
   "execution_count": null,
   "metadata": {
    "collapsed": true
   },
   "outputs": [],
   "source": []
  }
 ],
 "metadata": {
  "kernelspec": {
   "display_name": "Python 3",
   "language": "python",
   "name": "python3"
  },
  "language_info": {
   "codemirror_mode": {
    "name": "ipython",
    "version": 3
   },
   "file_extension": ".py",
   "mimetype": "text/x-python",
   "name": "python",
   "nbconvert_exporter": "python",
   "pygments_lexer": "ipython3",
   "version": "3.5.1"
  }
 },
 "nbformat": 4,
 "nbformat_minor": 2
}
