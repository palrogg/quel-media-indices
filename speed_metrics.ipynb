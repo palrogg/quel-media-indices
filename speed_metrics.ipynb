{
 "cells": [
  {
   "cell_type": "markdown",
   "metadata": {},
   "source": [
    "# Speed Metrics\n",
    "\n",
    "Loads and saves PageSpeed and page loading time.\n",
    "\n",
    "Currently uses a local PHP script sending requests to the GT Metrix API.\n",
    "\n",
    "A complete test may last up to 30 minutes.\n",
    "\n",
    "For mobile device performances tested with “mobile_metrics.ipynb”. GT Metrix doesn't offer testing on mobile devices for now.\n",
    "\n",
    "Feel free to contact me for help: https://www.quel-media.com/about.html#contact\n",
    "\n",
    "© Paul Ronga under Apache-2 Licence (see LICENCE.txt)."
   ]
  },
  {
   "cell_type": "code",
   "execution_count": 1,
   "metadata": {
    "collapsed": true
   },
   "outputs": [],
   "source": [
    "import pandas as pd\n",
    "import requests\n",
    "from IPython.display import HTML\n",
    "import json\n",
    "import datetime"
   ]
  },
  {
   "cell_type": "code",
   "execution_count": 2,
   "metadata": {
    "collapsed": true
   },
   "outputs": [],
   "source": [
    "# change this for your local tester / an external tool\n",
    "TESTER_URL = 'http://rospo.local/~paul/gtmetrix/medias.php'"
   ]
  },
  {
   "cell_type": "code",
   "execution_count": 3,
   "metadata": {},
   "outputs": [
    {
     "data": {
      "text/html": [
       "<div>\n",
       "<style scoped>\n",
       "    .dataframe tbody tr th:only-of-type {\n",
       "        vertical-align: middle;\n",
       "    }\n",
       "\n",
       "    .dataframe tbody tr th {\n",
       "        vertical-align: top;\n",
       "    }\n",
       "\n",
       "    .dataframe thead th {\n",
       "        text-align: right;\n",
       "    }\n",
       "</style>\n",
       "<table border=\"1\" class=\"dataframe\">\n",
       "  <thead>\n",
       "    <tr style=\"text-align: right;\">\n",
       "      <th></th>\n",
       "      <th>media_id</th>\n",
       "      <th>Name</th>\n",
       "      <th>URL_short</th>\n",
       "      <th>URL</th>\n",
       "      <th>URL_mobile</th>\n",
       "    </tr>\n",
       "  </thead>\n",
       "  <tbody>\n",
       "    <tr>\n",
       "      <th>0</th>\n",
       "      <td>19</td>\n",
       "      <td>La Tribune de Genève</td>\n",
       "      <td>tdg.ch</td>\n",
       "      <td>https://www.tdg.ch/</td>\n",
       "      <td>https://m.tdg.ch</td>\n",
       "    </tr>\n",
       "    <tr>\n",
       "      <th>1</th>\n",
       "      <td>20</td>\n",
       "      <td>24 heures</td>\n",
       "      <td>24heures.ch</td>\n",
       "      <td>https://www.24heures.ch</td>\n",
       "      <td>https://m.24heures.ch</td>\n",
       "    </tr>\n",
       "  </tbody>\n",
       "</table>\n",
       "</div>"
      ],
      "text/plain": [
       "   media_id                  Name    URL_short                      URL  \\\n",
       "0        19  La Tribune de Genève       tdg.ch      https://www.tdg.ch/   \n",
       "1        20             24 heures  24heures.ch  https://www.24heures.ch   \n",
       "\n",
       "              URL_mobile  \n",
       "0       https://m.tdg.ch  \n",
       "1  https://m.24heures.ch  "
      ]
     },
     "execution_count": 3,
     "metadata": {},
     "output_type": "execute_result"
    }
   ],
   "source": [
    "# dataframe containing media id, name and URLs\n",
    "medias = pd.read_csv('df/media_list.csv')\n",
    "\n",
    "medias.head(2)"
   ]
  },
  {
   "cell_type": "code",
   "execution_count": 4,
   "metadata": {
    "collapsed": true
   },
   "outputs": [],
   "source": [
    "# remove Konbini\n",
    "medias = medias[medias['media_id'] < 34].copy()\n",
    "\n",
    "# media id as string\n",
    "medias['media_id'] = medias['media_id'].apply(lambda x: str(x))"
   ]
  },
  {
   "cell_type": "code",
   "execution_count": 5,
   "metadata": {
    "collapsed": true
   },
   "outputs": [],
   "source": [
    "# this new dataframe will contain our stats\n",
    "df_speed = pd.DataFrame(columns=['Name', 'media_id', 'pagespeed_score', 'page_load_time', 'fully_loaded_time', 'report_url'])"
   ]
  },
  {
   "cell_type": "code",
   "execution_count": 6,
   "metadata": {},
   "outputs": [
    {
     "name": "stdout",
     "output_type": "stream",
     "text": [
      "Testing 24 heures ...\n",
      "Test started with nmQgdyxV\n",
      "{\"media\":{\"media_id\":\"20\",\"Name\":\"24 heures\",\"URL\":\"https:\\/\\/www.24heures.ch\"},\"results\":{\"onload_time\":10413,\"first_contentful_paint_time\":5121,\"page_elements\":310,\"report_url\":\"https:\\/\\/gtmetrix.com\\/reports\\/www.24heures.ch\\/Ut8ewfQX\",\"redirect_duration\":0,\"first_paint_time\":5121,\"dom_content_loaded_duration\":null,\"dom_content_loaded_time\":7205,\"dom_interactive_time\":7205,\"page_bytes\":8114104,\"page_load_time\":10413,\"html_bytes\":42160,\"fully_loaded_time\":10732,\"html_load_time\":967,\"rum_speed_index\":5126,\"yslow_score\":41,\"pagespeed_score\":33,\"backend_duration\":737,\"onload_duration\":65,\"connect_duration\":230}}\n",
      "\n",
      "Testing Le Temps ...\n",
      "Test started with E5xnLkdD\n",
      "{\"media\":{\"media_id\":\"21\",\"Name\":\"Le Temps\",\"URL\":\"https:\\/\\/www.letemps.ch\"},\"results\":{\"onload_time\":13029,\"first_contentful_paint_time\":5818,\"page_elements\":262,\"report_url\":\"https:\\/\\/gtmetrix.com\\/reports\\/www.letemps.ch\\/CbvVCgYY\",\"redirect_duration\":0,\"first_paint_time\":5818,\"dom_content_loaded_duration\":null,\"dom_content_loaded_time\":5398,\"dom_interactive_time\":5359,\"page_bytes\":8210046,\"page_load_time\":13029,\"html_bytes\":211562,\"fully_loaded_time\":14714,\"html_load_time\":113,\"rum_speed_index\":5818,\"yslow_score\":41,\"pagespeed_score\":49,\"backend_duration\":16,\"onload_duration\":15,\"connect_duration\":97}}\n",
      "\n",
      "Testing Le Monde ...\n",
      "Test started with bqIgT1At\n",
      "{\"media\":{\"media_id\":\"22\",\"Name\":\"Le Monde\",\"URL\":\"https:\\/\\/www.lemonde.fr\"},\"results\":{\"onload_time\":8333,\"first_contentful_paint_time\":694,\"page_elements\":445,\"report_url\":\"https:\\/\\/gtmetrix.com\\/reports\\/www.lemonde.fr\\/swEAxgKw\",\"redirect_duration\":0,\"first_paint_time\":694,\"dom_content_loaded_duration\":null,\"dom_content_loaded_time\":2809,\"dom_interactive_time\":2809,\"page_bytes\":3380339,\"page_load_time\":8333,\"html_bytes\":92175,\"fully_loaded_time\":8734,\"html_load_time\":83,\"rum_speed_index\":695,\"yslow_score\":42,\"pagespeed_score\":41,\"backend_duration\":11,\"onload_duration\":7,\"connect_duration\":72}}\n",
      "\n",
      "Testing RTS info ...\n",
      "Test started with uPlhTcqT\n",
      "{\"media\":{\"media_id\":\"23\",\"Name\":\"RTS info\",\"URL\":\"https:\\/\\/www.rts.ch\\/info\\/\"},\"results\":{\"onload_time\":6365,\"first_contentful_paint_time\":1319,\"page_elements\":174,\"report_url\":\"https:\\/\\/gtmetrix.com\\/reports\\/www.rts.ch\\/3vATvP8M\",\"redirect_duration\":0,\"first_paint_time\":1319,\"dom_content_loaded_duration\":null,\"dom_content_loaded_time\":721,\"dom_interactive_time\":721,\"page_bytes\":3168266,\"page_load_time\":6365,\"html_bytes\":21945,\"fully_loaded_time\":7074,\"html_load_time\":71,\"rum_speed_index\":2102,\"yslow_score\":42,\"pagespeed_score\":59,\"backend_duration\":15,\"onload_duration\":47,\"connect_duration\":56}}\n",
      "\n",
      "Testing 20 minutes (ch) ...\n",
      "Test started with XwgGl60y\n",
      "{\"media\":{\"media_id\":\"24\",\"Name\":\"20 minutes (ch)\",\"URL\":\"https:\\/\\/www.20min.ch\\/ro\\/\"},\"results\":{\"onload_time\":10587,\"first_contentful_paint_time\":3522,\"page_elements\":385,\"report_url\":\"https:\\/\\/gtmetrix.com\\/reports\\/www.20min.ch\\/Qdjy5WK9\",\"redirect_duration\":626,\"first_paint_time\":2750,\"dom_content_loaded_duration\":null,\"dom_content_loaded_time\":5462,\"dom_interactive_time\":5461,\"page_bytes\":6512208,\"page_load_time\":10587,\"html_bytes\":48031,\"fully_loaded_time\":11243,\"html_load_time\":1061,\"rum_speed_index\":3277,\"yslow_score\":45,\"pagespeed_score\":20,\"backend_duration\":410,\"onload_duration\":298,\"connect_duration\":25}}\n",
      "\n",
      "Testing Le Matin ...\n",
      "Test started with VCywH2VL\n",
      "{\"media\":{\"media_id\":\"25\",\"Name\":\"Le Matin\",\"URL\":\"https:\\/\\/www.lematin.ch\\/\"},\"results\":{\"onload_time\":12322,\"first_contentful_paint_time\":4614,\"page_elements\":526,\"report_url\":\"https:\\/\\/gtmetrix.com\\/reports\\/www.lematin.ch\\/KRhOjzhB\",\"redirect_duration\":0,\"first_paint_time\":4614,\"dom_content_loaded_duration\":null,\"dom_content_loaded_time\":5913,\"dom_interactive_time\":5912,\"page_bytes\":20831161,\"page_load_time\":12322,\"html_bytes\":34335,\"fully_loaded_time\":13414,\"html_load_time\":945,\"rum_speed_index\":4614,\"yslow_score\":36,\"pagespeed_score\":0,\"backend_duration\":880,\"onload_duration\":63,\"connect_duration\":65}}\n",
      "\n",
      "Testing Mediapart ...\n",
      "Test started with QRthXjTM\n",
      "{\"media\":{\"media_id\":\"26\",\"Name\":\"Mediapart\",\"URL\":\"https:\\/\\/www.mediapart.fr\"},\"results\":{\"onload_time\":7304,\"first_contentful_paint_time\":2024,\"page_elements\":112,\"report_url\":\"https:\\/\\/gtmetrix.com\\/reports\\/www.mediapart.fr\\/bxD5iU8Q\",\"redirect_duration\":0,\"first_paint_time\":2024,\"dom_content_loaded_duration\":null,\"dom_content_loaded_time\":3991,\"dom_interactive_time\":3991,\"page_bytes\":6093530,\"page_load_time\":7304,\"html_bytes\":43625,\"fully_loaded_time\":7901,\"html_load_time\":726,\"rum_speed_index\":2422,\"yslow_score\":66,\"pagespeed_score\":25,\"backend_duration\":284,\"onload_duration\":2,\"connect_duration\":442}}\n",
      "\n",
      "Testing Le Figaro ...\n",
      "Test started with pybE2FJ6\n",
      "{\"media\":{\"media_id\":\"27\",\"Name\":\"Le Figaro\",\"URL\":\"https:\\/\\/www.lefigaro.fr\\/\"},\"results\":{\"onload_time\":10100,\"first_contentful_paint_time\":1941,\"page_elements\":451,\"report_url\":\"https:\\/\\/gtmetrix.com\\/reports\\/www.lefigaro.fr\\/CT7MkE8q\",\"redirect_duration\":511,\"first_paint_time\":1941,\"dom_content_loaded_duration\":null,\"dom_content_loaded_time\":4928,\"dom_interactive_time\":4529,\"page_bytes\":4052831,\"page_load_time\":10100,\"html_bytes\":156518,\"fully_loaded_time\":30565,\"html_load_time\":841,\"rum_speed_index\":2151,\"yslow_score\":45,\"pagespeed_score\":32,\"backend_duration\":169,\"onload_duration\":12,\"connect_duration\":161}}\n",
      "\n",
      "Testing Libération ...\n",
      "Test started with 5VF8gZyk\n",
      "{\"media\":{\"media_id\":\"28\",\"Name\":\"Lib\\u00e9ration\",\"URL\":\"https:\\/\\/www.liberation.fr\\/\"},\"results\":{\"onload_time\":31920,\"first_contentful_paint_time\":490,\"page_elements\":1574,\"report_url\":\"https:\\/\\/gtmetrix.com\\/reports\\/www.liberation.fr\\/wFiEzaCU\",\"redirect_duration\":86,\"first_paint_time\":357,\"dom_content_loaded_duration\":null,\"dom_content_loaded_time\":2306,\"dom_interactive_time\":2300,\"page_bytes\":7064999,\"page_load_time\":31920,\"html_bytes\":55841,\"fully_loaded_time\":35212,\"html_load_time\":112,\"rum_speed_index\":1778,\"yslow_score\":38,\"pagespeed_score\":3,\"backend_duration\":6,\"onload_duration\":16,\"connect_duration\":20}}\n",
      "\n",
      "Testing La Côte ...\n",
      "Test started with YTFn1Lhv\n",
      "{\"media\":{\"media_id\":\"29\",\"Name\":\"La C\\u00f4te\",\"URL\":\"https:\\/\\/www.lacote.ch\\/\"},\"results\":{\"onload_time\":11032,\"first_contentful_paint_time\":2400,\"page_elements\":225,\"report_url\":\"https:\\/\\/gtmetrix.com\\/reports\\/www.lacote.ch\\/gPVwt3HB\",\"redirect_duration\":0,\"first_paint_time\":2400,\"dom_content_loaded_duration\":null,\"dom_content_loaded_time\":3459,\"dom_interactive_time\":3458,\"page_bytes\":4428362,\"page_load_time\":11032,\"html_bytes\":68467,\"fully_loaded_time\":17234,\"html_load_time\":1003,\"rum_speed_index\":2982,\"yslow_score\":46,\"pagespeed_score\":41,\"backend_duration\":322,\"onload_duration\":13,\"connect_duration\":681}}\n",
      "\n",
      "Testing Arcinfo ...\n",
      "Test started with 3ruwMn7k\n",
      "{\"media\":{\"media_id\":\"30\",\"Name\":\"Arcinfo\",\"URL\":\"https:\\/\\/www.arcinfo.ch\\/\"},\"results\":{\"onload_time\":11568,\"first_contentful_paint_time\":1900,\"page_elements\":215,\"report_url\":\"https:\\/\\/gtmetrix.com\\/reports\\/www.arcinfo.ch\\/eF9zYe97\",\"redirect_duration\":0,\"first_paint_time\":1900,\"dom_content_loaded_duration\":null,\"dom_content_loaded_time\":4328,\"dom_interactive_time\":4327,\"page_bytes\":3705607,\"page_load_time\":11568,\"html_bytes\":71053,\"fully_loaded_time\":17927,\"html_load_time\":982,\"rum_speed_index\":2438,\"yslow_score\":46,\"pagespeed_score\":40,\"backend_duration\":316,\"onload_duration\":15,\"connect_duration\":666}}\n",
      "\n",
      "Testing Le Nouvelliste ...\n",
      "Test started with PQ9MpcU0\n",
      "{\"media\":{\"media_id\":\"31\",\"Name\":\"Le Nouvelliste\",\"URL\":\"https:\\/\\/www.lenouvelliste.ch\\/\"},\"results\":{\"onload_time\":12521,\"first_contentful_paint_time\":2023,\"page_elements\":304,\"report_url\":\"https:\\/\\/gtmetrix.com\\/reports\\/www.lenouvelliste.ch\\/mam7fwDi\",\"redirect_duration\":0,\"first_paint_time\":2023,\"dom_content_loaded_duration\":null,\"dom_content_loaded_time\":4306,\"dom_interactive_time\":4305,\"page_bytes\":3831747,\"page_load_time\":12521,\"html_bytes\":70149,\"fully_loaded_time\":14953,\"html_load_time\":824,\"rum_speed_index\":3822,\"yslow_score\":46,\"pagespeed_score\":36,\"backend_duration\":318,\"onload_duration\":16,\"connect_duration\":506}}\n",
      "\n",
      "Testing La Liberté ...\n",
      "Test started with 6v6X29BF\n",
      "{\"media\":{\"media_id\":\"32\",\"Name\":\"La Libert\\u00e9\",\"URL\":\"https:\\/\\/www.laliberte.ch\\/\"},\"results\":{\"onload_time\":38641,\"first_contentful_paint_time\":5281,\"page_elements\":335,\"report_url\":\"https:\\/\\/gtmetrix.com\\/reports\\/www.laliberte.ch\\/JvRFwq9d\",\"redirect_duration\":0,\"first_paint_time\":5281,\"dom_content_loaded_duration\":null,\"dom_content_loaded_time\":6477,\"dom_interactive_time\":6474,\"page_bytes\":4249669,\"page_load_time\":38641,\"html_bytes\":19703,\"fully_loaded_time\":40128,\"html_load_time\":3310,\"rum_speed_index\":5826,\"yslow_score\":42,\"pagespeed_score\":27,\"backend_duration\":2809,\"onload_duration\":24,\"connect_duration\":501}}\n",
      "\n",
      "Testing Le Courrier ...\n"
     ]
    },
    {
     "name": "stdout",
     "output_type": "stream",
     "text": [
      "Test started with u4ZYO1k9\n",
      "{\"media\":{\"media_id\":\"33\",\"Name\":\"Le Courrier\",\"URL\":\"https:\\/\\/lecourrier.ch\\/\"},\"results\":{\"onload_time\":8959,\"first_contentful_paint_time\":7551,\"page_elements\":61,\"report_url\":\"https:\\/\\/gtmetrix.com\\/reports\\/lecourrier.ch\\/ms1q19xQ\",\"redirect_duration\":0,\"first_paint_time\":7291,\"dom_content_loaded_duration\":null,\"dom_content_loaded_time\":8389,\"dom_interactive_time\":8389,\"page_bytes\":1705554,\"page_load_time\":8959,\"html_bytes\":24557,\"fully_loaded_time\":9668,\"html_load_time\":6121,\"rum_speed_index\":7543,\"yslow_score\":80,\"pagespeed_score\":89,\"backend_duration\":5631,\"onload_duration\":13,\"connect_duration\":490}}\n",
      "\n"
     ]
    }
   ],
   "source": [
    "for i, row in medias[1:].iterrows():\n",
    "    print('Testing', row['Name'], '...')\n",
    "    media_index = i\n",
    "\n",
    "    payload = {'media': medias.loc[media_index][['Name', 'media_id', 'URL']].to_dict()}\n",
    "    r = requests.post(TESTER_URL, json=payload)\n",
    "    \n",
    "    print(r.text, end='\\n\\n')\n",
    "    \n",
    "    result = json.loads(r.text.split('\\n')[-1])\n",
    "\n",
    "    df_speed = df_speed.append(pd.DataFrame([[\n",
    "        result['media']['Name'],\n",
    "        result['media']['media_id'],\n",
    "        result['results']['pagespeed_score'],\n",
    "        result['results']['page_load_time'] / 1000,\n",
    "        result['results']['fully_loaded_time'] / 1000,\n",
    "        result['results']['report_url']\n",
    "    ]], columns=['Name', 'media_id', 'pagespeed_score', 'page_load_time', 'fully_loaded_time', 'report_url']))"
   ]
  },
  {
   "cell_type": "code",
   "execution_count": 7,
   "metadata": {
    "collapsed": true
   },
   "outputs": [],
   "source": [
    "# Use this in case you get e.g. a “The page took too long to load” or “Unable to analyze your site” error.\n",
    "# It will contain missing medias. You can loop through it in the previous cell.\n",
    "missing_medias = medias[(-medias['media_id'].isin(df_speed['media_id']))]"
   ]
  },
  {
   "cell_type": "code",
   "execution_count": 8,
   "metadata": {},
   "outputs": [
    {
     "data": {
      "text/html": [
       "<div>\n",
       "<style scoped>\n",
       "    .dataframe tbody tr th:only-of-type {\n",
       "        vertical-align: middle;\n",
       "    }\n",
       "\n",
       "    .dataframe tbody tr th {\n",
       "        vertical-align: top;\n",
       "    }\n",
       "\n",
       "    .dataframe thead th {\n",
       "        text-align: right;\n",
       "    }\n",
       "</style>\n",
       "<table border=\"1\" class=\"dataframe\">\n",
       "  <thead>\n",
       "    <tr style=\"text-align: right;\">\n",
       "      <th></th>\n",
       "      <th>media_id</th>\n",
       "      <th>Name</th>\n",
       "      <th>URL_short</th>\n",
       "      <th>URL</th>\n",
       "      <th>URL_mobile</th>\n",
       "    </tr>\n",
       "  </thead>\n",
       "  <tbody>\n",
       "    <tr>\n",
       "      <th>0</th>\n",
       "      <td>19</td>\n",
       "      <td>La Tribune de Genève</td>\n",
       "      <td>tdg.ch</td>\n",
       "      <td>https://www.tdg.ch/</td>\n",
       "      <td>https://m.tdg.ch</td>\n",
       "    </tr>\n",
       "  </tbody>\n",
       "</table>\n",
       "</div>"
      ],
      "text/plain": [
       "  media_id                  Name URL_short                  URL  \\\n",
       "0       19  La Tribune de Genève    tdg.ch  https://www.tdg.ch/   \n",
       "\n",
       "         URL_mobile  \n",
       "0  https://m.tdg.ch  "
      ]
     },
     "execution_count": 8,
     "metadata": {},
     "output_type": "execute_result"
    }
   ],
   "source": [
    "missing_medias.head(3)"
   ]
  },
  {
   "cell_type": "code",
   "execution_count": 9,
   "metadata": {},
   "outputs": [
    {
     "name": "stdout",
     "output_type": "stream",
     "text": [
      "https://gtmetrix.com/reports/www.lacote.ch/ZrEyp4s4\n"
     ]
    }
   ],
   "source": [
    "# To check for a report after an error\n",
    "print(\"https:\\/\\/gtmetrix.com\\/reports\\/www.lacote.ch\\/ZrEyp4s4\".replace('\\\\', ''))"
   ]
  },
  {
   "cell_type": "code",
   "execution_count": 10,
   "metadata": {},
   "outputs": [
    {
     "data": {
      "text/html": [
       "<div>\n",
       "<style scoped>\n",
       "    .dataframe tbody tr th:only-of-type {\n",
       "        vertical-align: middle;\n",
       "    }\n",
       "\n",
       "    .dataframe tbody tr th {\n",
       "        vertical-align: top;\n",
       "    }\n",
       "\n",
       "    .dataframe thead th {\n",
       "        text-align: right;\n",
       "    }\n",
       "</style>\n",
       "<table border=\"1\" class=\"dataframe\">\n",
       "  <thead>\n",
       "    <tr style=\"text-align: right;\">\n",
       "      <th></th>\n",
       "      <th>Name</th>\n",
       "      <th>media_id</th>\n",
       "      <th>pagespeed_score</th>\n",
       "      <th>page_load_time</th>\n",
       "      <th>fully_loaded_time</th>\n",
       "      <th>report_url</th>\n",
       "      <th>timestamp</th>\n",
       "    </tr>\n",
       "  </thead>\n",
       "  <tbody>\n",
       "    <tr>\n",
       "      <th>0</th>\n",
       "      <td>24 heures</td>\n",
       "      <td>20</td>\n",
       "      <td>33</td>\n",
       "      <td>10.413</td>\n",
       "      <td>10.732</td>\n",
       "      <td>https://gtmetrix.com/reports/www.24heures.ch/U...</td>\n",
       "      <td>2018-07-19 17:26:26</td>\n",
       "    </tr>\n",
       "    <tr>\n",
       "      <th>0</th>\n",
       "      <td>Le Temps</td>\n",
       "      <td>21</td>\n",
       "      <td>49</td>\n",
       "      <td>13.029</td>\n",
       "      <td>14.714</td>\n",
       "      <td>https://gtmetrix.com/reports/www.letemps.ch/Cb...</td>\n",
       "      <td>2018-07-19 17:26:26</td>\n",
       "    </tr>\n",
       "    <tr>\n",
       "      <th>0</th>\n",
       "      <td>Le Monde</td>\n",
       "      <td>22</td>\n",
       "      <td>41</td>\n",
       "      <td>8.333</td>\n",
       "      <td>8.734</td>\n",
       "      <td>https://gtmetrix.com/reports/www.lemonde.fr/sw...</td>\n",
       "      <td>2018-07-19 17:26:26</td>\n",
       "    </tr>\n",
       "    <tr>\n",
       "      <th>0</th>\n",
       "      <td>RTS info</td>\n",
       "      <td>23</td>\n",
       "      <td>59</td>\n",
       "      <td>6.365</td>\n",
       "      <td>7.074</td>\n",
       "      <td>https://gtmetrix.com/reports/www.rts.ch/3vATvP8M</td>\n",
       "      <td>2018-07-19 17:26:26</td>\n",
       "    </tr>\n",
       "    <tr>\n",
       "      <th>0</th>\n",
       "      <td>20 minutes (ch)</td>\n",
       "      <td>24</td>\n",
       "      <td>20</td>\n",
       "      <td>10.587</td>\n",
       "      <td>11.243</td>\n",
       "      <td>https://gtmetrix.com/reports/www.20min.ch/Qdjy...</td>\n",
       "      <td>2018-07-19 17:26:26</td>\n",
       "    </tr>\n",
       "    <tr>\n",
       "      <th>0</th>\n",
       "      <td>Le Matin</td>\n",
       "      <td>25</td>\n",
       "      <td>0</td>\n",
       "      <td>12.322</td>\n",
       "      <td>13.414</td>\n",
       "      <td>https://gtmetrix.com/reports/www.lematin.ch/KR...</td>\n",
       "      <td>2018-07-19 17:26:26</td>\n",
       "    </tr>\n",
       "    <tr>\n",
       "      <th>0</th>\n",
       "      <td>Mediapart</td>\n",
       "      <td>26</td>\n",
       "      <td>25</td>\n",
       "      <td>7.304</td>\n",
       "      <td>7.901</td>\n",
       "      <td>https://gtmetrix.com/reports/www.mediapart.fr/...</td>\n",
       "      <td>2018-07-19 17:26:26</td>\n",
       "    </tr>\n",
       "    <tr>\n",
       "      <th>0</th>\n",
       "      <td>Le Figaro</td>\n",
       "      <td>27</td>\n",
       "      <td>32</td>\n",
       "      <td>10.100</td>\n",
       "      <td>30.565</td>\n",
       "      <td>https://gtmetrix.com/reports/www.lefigaro.fr/C...</td>\n",
       "      <td>2018-07-19 17:26:26</td>\n",
       "    </tr>\n",
       "    <tr>\n",
       "      <th>0</th>\n",
       "      <td>Libération</td>\n",
       "      <td>28</td>\n",
       "      <td>3</td>\n",
       "      <td>31.920</td>\n",
       "      <td>35.212</td>\n",
       "      <td>https://gtmetrix.com/reports/www.liberation.fr...</td>\n",
       "      <td>2018-07-19 17:26:26</td>\n",
       "    </tr>\n",
       "    <tr>\n",
       "      <th>0</th>\n",
       "      <td>La Côte</td>\n",
       "      <td>29</td>\n",
       "      <td>41</td>\n",
       "      <td>11.032</td>\n",
       "      <td>17.234</td>\n",
       "      <td>https://gtmetrix.com/reports/www.lacote.ch/gPV...</td>\n",
       "      <td>2018-07-19 17:26:26</td>\n",
       "    </tr>\n",
       "    <tr>\n",
       "      <th>0</th>\n",
       "      <td>Arcinfo</td>\n",
       "      <td>30</td>\n",
       "      <td>40</td>\n",
       "      <td>11.568</td>\n",
       "      <td>17.927</td>\n",
       "      <td>https://gtmetrix.com/reports/www.arcinfo.ch/eF...</td>\n",
       "      <td>2018-07-19 17:26:26</td>\n",
       "    </tr>\n",
       "    <tr>\n",
       "      <th>0</th>\n",
       "      <td>Le Nouvelliste</td>\n",
       "      <td>31</td>\n",
       "      <td>36</td>\n",
       "      <td>12.521</td>\n",
       "      <td>14.953</td>\n",
       "      <td>https://gtmetrix.com/reports/www.lenouvelliste...</td>\n",
       "      <td>2018-07-19 17:26:26</td>\n",
       "    </tr>\n",
       "    <tr>\n",
       "      <th>0</th>\n",
       "      <td>La Liberté</td>\n",
       "      <td>32</td>\n",
       "      <td>27</td>\n",
       "      <td>38.641</td>\n",
       "      <td>40.128</td>\n",
       "      <td>https://gtmetrix.com/reports/www.laliberte.ch/...</td>\n",
       "      <td>2018-07-19 17:26:26</td>\n",
       "    </tr>\n",
       "    <tr>\n",
       "      <th>0</th>\n",
       "      <td>Le Courrier</td>\n",
       "      <td>33</td>\n",
       "      <td>89</td>\n",
       "      <td>8.959</td>\n",
       "      <td>9.668</td>\n",
       "      <td>https://gtmetrix.com/reports/lecourrier.ch/ms1...</td>\n",
       "      <td>2018-07-19 17:26:26</td>\n",
       "    </tr>\n",
       "  </tbody>\n",
       "</table>\n",
       "</div>"
      ],
      "text/plain": [
       "              Name media_id pagespeed_score  page_load_time  \\\n",
       "0        24 heures       20              33          10.413   \n",
       "0         Le Temps       21              49          13.029   \n",
       "0         Le Monde       22              41           8.333   \n",
       "0         RTS info       23              59           6.365   \n",
       "0  20 minutes (ch)       24              20          10.587   \n",
       "0         Le Matin       25               0          12.322   \n",
       "0        Mediapart       26              25           7.304   \n",
       "0        Le Figaro       27              32          10.100   \n",
       "0       Libération       28               3          31.920   \n",
       "0          La Côte       29              41          11.032   \n",
       "0          Arcinfo       30              40          11.568   \n",
       "0   Le Nouvelliste       31              36          12.521   \n",
       "0       La Liberté       32              27          38.641   \n",
       "0      Le Courrier       33              89           8.959   \n",
       "\n",
       "   fully_loaded_time                                         report_url  \\\n",
       "0             10.732  https://gtmetrix.com/reports/www.24heures.ch/U...   \n",
       "0             14.714  https://gtmetrix.com/reports/www.letemps.ch/Cb...   \n",
       "0              8.734  https://gtmetrix.com/reports/www.lemonde.fr/sw...   \n",
       "0              7.074   https://gtmetrix.com/reports/www.rts.ch/3vATvP8M   \n",
       "0             11.243  https://gtmetrix.com/reports/www.20min.ch/Qdjy...   \n",
       "0             13.414  https://gtmetrix.com/reports/www.lematin.ch/KR...   \n",
       "0              7.901  https://gtmetrix.com/reports/www.mediapart.fr/...   \n",
       "0             30.565  https://gtmetrix.com/reports/www.lefigaro.fr/C...   \n",
       "0             35.212  https://gtmetrix.com/reports/www.liberation.fr...   \n",
       "0             17.234  https://gtmetrix.com/reports/www.lacote.ch/gPV...   \n",
       "0             17.927  https://gtmetrix.com/reports/www.arcinfo.ch/eF...   \n",
       "0             14.953  https://gtmetrix.com/reports/www.lenouvelliste...   \n",
       "0             40.128  https://gtmetrix.com/reports/www.laliberte.ch/...   \n",
       "0              9.668  https://gtmetrix.com/reports/lecourrier.ch/ms1...   \n",
       "\n",
       "             timestamp  \n",
       "0  2018-07-19 17:26:26  \n",
       "0  2018-07-19 17:26:26  \n",
       "0  2018-07-19 17:26:26  \n",
       "0  2018-07-19 17:26:26  \n",
       "0  2018-07-19 17:26:26  \n",
       "0  2018-07-19 17:26:26  \n",
       "0  2018-07-19 17:26:26  \n",
       "0  2018-07-19 17:26:26  \n",
       "0  2018-07-19 17:26:26  \n",
       "0  2018-07-19 17:26:26  \n",
       "0  2018-07-19 17:26:26  \n",
       "0  2018-07-19 17:26:26  \n",
       "0  2018-07-19 17:26:26  \n",
       "0  2018-07-19 17:26:26  "
      ]
     },
     "execution_count": 10,
     "metadata": {},
     "output_type": "execute_result"
    }
   ],
   "source": [
    "# add current timestamp\n",
    "df_speed['timestamp'] = datetime.datetime.now().strftime('%Y-%m-%d %H:%M:%S')\n",
    "df_speed"
   ]
  },
  {
   "cell_type": "code",
   "execution_count": 11,
   "metadata": {},
   "outputs": [
    {
     "name": "stdout",
     "output_type": "stream",
     "text": [
      "Saving to df/archive/speed_metrics_2018-07-19.csv...\n"
     ]
    }
   ],
   "source": [
    "outputfile = 'df/archive/speed_metrics_{}.csv'.format( datetime.datetime.now().strftime('%Y-%m-%d') )\n",
    "print('Saving to {}...'.format(outputfile))"
   ]
  },
  {
   "cell_type": "code",
   "execution_count": 12,
   "metadata": {
    "collapsed": true
   },
   "outputs": [],
   "source": [
    "df_speed.to_csv(outputfile) # archive\n",
    "df_speed.to_csv('df/speed_metrics.csv') # temp file"
   ]
  },
  {
   "cell_type": "code",
   "execution_count": null,
   "metadata": {
    "collapsed": true
   },
   "outputs": [],
   "source": []
  }
 ],
 "metadata": {
  "kernelspec": {
   "display_name": "Python 3",
   "language": "python",
   "name": "python3"
  },
  "language_info": {
   "codemirror_mode": {
    "name": "ipython",
    "version": 3
   },
   "file_extension": ".py",
   "mimetype": "text/x-python",
   "name": "python",
   "nbconvert_exporter": "python",
   "pygments_lexer": "ipython3",
   "version": "3.5.1"
  }
 },
 "nbformat": 4,
 "nbformat_minor": 2
}
