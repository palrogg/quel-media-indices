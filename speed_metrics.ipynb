{
 "cells": [
  {
   "cell_type": "markdown",
   "metadata": {},
   "source": [
    "# Speed Metrics\n",
    "\n",
    "Loads and saves PageSpeed and page loading time.\n",
    "\n",
    "Currently uses a local PHP script sending requests to the GT Metrix API.\n",
    "\n",
    "A complete test may last up to 30 minutes.\n",
    "\n",
    "For mobile device performances tested with “mobile_metrics.ipynb”. GT Metrix doesn't offer testing on mobile devices for now.\n",
    "\n",
    "Feel free to contact me for help: https://www.quel-media.com/about.html#contact\n",
    "\n",
    "© Paul Ronga under Apache-2 Licence (see LICENCE.txt)."
   ]
  },
  {
   "cell_type": "code",
   "execution_count": 1,
   "metadata": {
    "collapsed": true
   },
   "outputs": [],
   "source": [
    "import pandas as pd\n",
    "import requests\n",
    "from IPython.display import HTML\n",
    "import json\n",
    "import datetime"
   ]
  },
  {
   "cell_type": "code",
   "execution_count": 2,
   "metadata": {
    "collapsed": true
   },
   "outputs": [],
   "source": [
    "# change this for your local tester / an external tool\n",
    "TESTER_URL = 'http://rospo.local/~paul/gtmetrix/medias.php'"
   ]
  },
  {
   "cell_type": "code",
   "execution_count": 3,
   "metadata": {},
   "outputs": [
    {
     "data": {
      "text/html": [
       "<div>\n",
       "<style scoped>\n",
       "    .dataframe tbody tr th:only-of-type {\n",
       "        vertical-align: middle;\n",
       "    }\n",
       "\n",
       "    .dataframe tbody tr th {\n",
       "        vertical-align: top;\n",
       "    }\n",
       "\n",
       "    .dataframe thead th {\n",
       "        text-align: right;\n",
       "    }\n",
       "</style>\n",
       "<table border=\"1\" class=\"dataframe\">\n",
       "  <thead>\n",
       "    <tr style=\"text-align: right;\">\n",
       "      <th></th>\n",
       "      <th>media_id</th>\n",
       "      <th>Name</th>\n",
       "      <th>URL_short</th>\n",
       "      <th>URL</th>\n",
       "      <th>URL_mobile</th>\n",
       "    </tr>\n",
       "  </thead>\n",
       "  <tbody>\n",
       "    <tr>\n",
       "      <th>0</th>\n",
       "      <td>19</td>\n",
       "      <td>La Tribune de Genève</td>\n",
       "      <td>tdg.ch</td>\n",
       "      <td>https://www.tdg.ch/</td>\n",
       "      <td>https://m.tdg.ch</td>\n",
       "    </tr>\n",
       "    <tr>\n",
       "      <th>1</th>\n",
       "      <td>20</td>\n",
       "      <td>24 heures</td>\n",
       "      <td>24heures.ch</td>\n",
       "      <td>https://www.24heures.ch</td>\n",
       "      <td>https://m.24heures.ch</td>\n",
       "    </tr>\n",
       "  </tbody>\n",
       "</table>\n",
       "</div>"
      ],
      "text/plain": [
       "   media_id                  Name    URL_short                      URL  \\\n",
       "0        19  La Tribune de Genève       tdg.ch      https://www.tdg.ch/   \n",
       "1        20             24 heures  24heures.ch  https://www.24heures.ch   \n",
       "\n",
       "              URL_mobile  \n",
       "0       https://m.tdg.ch  \n",
       "1  https://m.24heures.ch  "
      ]
     },
     "execution_count": 3,
     "metadata": {},
     "output_type": "execute_result"
    }
   ],
   "source": [
    "# dataframe containing media id, name and URLs\n",
    "medias = pd.read_csv('df/media_list.csv')\n",
    "\n",
    "medias.head(2)"
   ]
  },
  {
   "cell_type": "code",
   "execution_count": 15,
   "metadata": {},
   "outputs": [
    {
     "ename": "TypeError",
     "evalue": "unorderable types: str() < int()",
     "output_type": "error",
     "traceback": [
      "\u001b[0;31m---------------------------------------------------------------------------\u001b[0m",
      "\u001b[0;31mTypeError\u001b[0m                                 Traceback (most recent call last)",
      "\u001b[0;32m<ipython-input-15-c09e5973bc1f>\u001b[0m in \u001b[0;36m<module>\u001b[0;34m()\u001b[0m\n\u001b[1;32m      1\u001b[0m \u001b[0;31m# remove Konbini\u001b[0m\u001b[0;34m\u001b[0m\u001b[0;34m\u001b[0m\u001b[0m\n\u001b[0;32m----> 2\u001b[0;31m \u001b[0mmedias\u001b[0m \u001b[0;34m=\u001b[0m \u001b[0mmedias\u001b[0m\u001b[0;34m[\u001b[0m\u001b[0mmedias\u001b[0m\u001b[0;34m[\u001b[0m\u001b[0;34m'media_id'\u001b[0m\u001b[0;34m]\u001b[0m \u001b[0;34m<\u001b[0m \u001b[0;36m34\u001b[0m\u001b[0;34m]\u001b[0m\u001b[0;34m.\u001b[0m\u001b[0mcopy\u001b[0m\u001b[0;34m(\u001b[0m\u001b[0;34m)\u001b[0m\u001b[0;34m\u001b[0m\u001b[0m\n\u001b[0m\u001b[1;32m      3\u001b[0m \u001b[0;34m\u001b[0m\u001b[0m\n\u001b[1;32m      4\u001b[0m \u001b[0;31m# media id as string\u001b[0m\u001b[0;34m\u001b[0m\u001b[0;34m\u001b[0m\u001b[0m\n\u001b[1;32m      5\u001b[0m \u001b[0mmedias\u001b[0m\u001b[0;34m[\u001b[0m\u001b[0;34m'media_id'\u001b[0m\u001b[0;34m]\u001b[0m \u001b[0;34m=\u001b[0m \u001b[0mmedias\u001b[0m\u001b[0;34m[\u001b[0m\u001b[0;34m'media_id'\u001b[0m\u001b[0;34m]\u001b[0m\u001b[0;34m.\u001b[0m\u001b[0mapply\u001b[0m\u001b[0;34m(\u001b[0m\u001b[0;32mlambda\u001b[0m \u001b[0mx\u001b[0m\u001b[0;34m:\u001b[0m \u001b[0mstr\u001b[0m\u001b[0;34m(\u001b[0m\u001b[0mx\u001b[0m\u001b[0;34m)\u001b[0m\u001b[0;34m)\u001b[0m\u001b[0;34m\u001b[0m\u001b[0m\n",
      "\u001b[0;32m/Users/paul/.virtualenvs/dataanalysis/lib/python3.5/site-packages/pandas/core/ops.py\u001b[0m in \u001b[0;36mwrapper\u001b[0;34m(self, other, axis)\u001b[0m\n\u001b[1;32m    877\u001b[0m \u001b[0;34m\u001b[0m\u001b[0m\n\u001b[1;32m    878\u001b[0m             \u001b[0;32mwith\u001b[0m \u001b[0mnp\u001b[0m\u001b[0;34m.\u001b[0m\u001b[0merrstate\u001b[0m\u001b[0;34m(\u001b[0m\u001b[0mall\u001b[0m\u001b[0;34m=\u001b[0m\u001b[0;34m'ignore'\u001b[0m\u001b[0;34m)\u001b[0m\u001b[0;34m:\u001b[0m\u001b[0;34m\u001b[0m\u001b[0m\n\u001b[0;32m--> 879\u001b[0;31m                 \u001b[0mres\u001b[0m \u001b[0;34m=\u001b[0m \u001b[0mna_op\u001b[0m\u001b[0;34m(\u001b[0m\u001b[0mvalues\u001b[0m\u001b[0;34m,\u001b[0m \u001b[0mother\u001b[0m\u001b[0;34m)\u001b[0m\u001b[0;34m\u001b[0m\u001b[0m\n\u001b[0m\u001b[1;32m    880\u001b[0m             \u001b[0;32mif\u001b[0m \u001b[0mis_scalar\u001b[0m\u001b[0;34m(\u001b[0m\u001b[0mres\u001b[0m\u001b[0;34m)\u001b[0m\u001b[0;34m:\u001b[0m\u001b[0;34m\u001b[0m\u001b[0m\n\u001b[1;32m    881\u001b[0m                 raise TypeError('Could not compare {typ} type with Series'\n",
      "\u001b[0;32m/Users/paul/.virtualenvs/dataanalysis/lib/python3.5/site-packages/pandas/core/ops.py\u001b[0m in \u001b[0;36mna_op\u001b[0;34m(x, y)\u001b[0m\n\u001b[1;32m    781\u001b[0m \u001b[0;34m\u001b[0m\u001b[0m\n\u001b[1;32m    782\u001b[0m         \u001b[0;32mif\u001b[0m \u001b[0mis_object_dtype\u001b[0m\u001b[0;34m(\u001b[0m\u001b[0mx\u001b[0m\u001b[0;34m.\u001b[0m\u001b[0mdtype\u001b[0m\u001b[0;34m)\u001b[0m\u001b[0;34m:\u001b[0m\u001b[0;34m\u001b[0m\u001b[0m\n\u001b[0;32m--> 783\u001b[0;31m             \u001b[0mresult\u001b[0m \u001b[0;34m=\u001b[0m \u001b[0m_comp_method_OBJECT_ARRAY\u001b[0m\u001b[0;34m(\u001b[0m\u001b[0mop\u001b[0m\u001b[0;34m,\u001b[0m \u001b[0mx\u001b[0m\u001b[0;34m,\u001b[0m \u001b[0my\u001b[0m\u001b[0;34m)\u001b[0m\u001b[0;34m\u001b[0m\u001b[0m\n\u001b[0m\u001b[1;32m    784\u001b[0m         \u001b[0;32melse\u001b[0m\u001b[0;34m:\u001b[0m\u001b[0;34m\u001b[0m\u001b[0m\n\u001b[1;32m    785\u001b[0m \u001b[0;34m\u001b[0m\u001b[0m\n",
      "\u001b[0;32m/Users/paul/.virtualenvs/dataanalysis/lib/python3.5/site-packages/pandas/core/ops.py\u001b[0m in \u001b[0;36m_comp_method_OBJECT_ARRAY\u001b[0;34m(op, x, y)\u001b[0m\n\u001b[1;32m    761\u001b[0m         \u001b[0mresult\u001b[0m \u001b[0;34m=\u001b[0m \u001b[0mlib\u001b[0m\u001b[0;34m.\u001b[0m\u001b[0mvec_compare\u001b[0m\u001b[0;34m(\u001b[0m\u001b[0mx\u001b[0m\u001b[0;34m,\u001b[0m \u001b[0my\u001b[0m\u001b[0;34m,\u001b[0m \u001b[0mop\u001b[0m\u001b[0;34m)\u001b[0m\u001b[0;34m\u001b[0m\u001b[0m\n\u001b[1;32m    762\u001b[0m     \u001b[0;32melse\u001b[0m\u001b[0;34m:\u001b[0m\u001b[0;34m\u001b[0m\u001b[0m\n\u001b[0;32m--> 763\u001b[0;31m         \u001b[0mresult\u001b[0m \u001b[0;34m=\u001b[0m \u001b[0mlib\u001b[0m\u001b[0;34m.\u001b[0m\u001b[0mscalar_compare\u001b[0m\u001b[0;34m(\u001b[0m\u001b[0mx\u001b[0m\u001b[0;34m,\u001b[0m \u001b[0my\u001b[0m\u001b[0;34m,\u001b[0m \u001b[0mop\u001b[0m\u001b[0;34m)\u001b[0m\u001b[0;34m\u001b[0m\u001b[0m\n\u001b[0m\u001b[1;32m    764\u001b[0m     \u001b[0;32mreturn\u001b[0m \u001b[0mresult\u001b[0m\u001b[0;34m\u001b[0m\u001b[0m\n\u001b[1;32m    765\u001b[0m \u001b[0;34m\u001b[0m\u001b[0m\n",
      "\u001b[0;32mpandas/_libs/lib.pyx\u001b[0m in \u001b[0;36mpandas._libs.lib.scalar_compare\u001b[0;34m()\u001b[0m\n",
      "\u001b[0;31mTypeError\u001b[0m: unorderable types: str() < int()"
     ]
    }
   ],
   "source": [
    "# remove Konbini\n",
    "medias = medias[medias['media_id'] < 34].copy()\n",
    "\n",
    "# media id as string\n",
    "medias['media_id'] = medias['media_id'].apply(lambda x: str(x))\n",
    "\n",
    "missing_medias = None"
   ]
  },
  {
   "cell_type": "code",
   "execution_count": 5,
   "metadata": {
    "collapsed": true
   },
   "outputs": [],
   "source": [
    "# this new dataframe will contain our stats\n",
    "df_speed = pd.DataFrame(columns=['Name', 'media_id', 'pagespeed_score', 'page_load_time', 'fully_loaded_time', 'report_url'])"
   ]
  },
  {
   "cell_type": "code",
   "execution_count": 28,
   "metadata": {},
   "outputs": [
    {
     "name": "stdout",
     "output_type": "stream",
     "text": [
      "Testing Libération ...\n",
      "Test started with pDJkTZy1\n",
      "{\"media\":{\"Name\":\"Lib\\u00e9ration\",\"URL\":\"https:\\/\\/www.liberation.fr\\/\",\"media_id\":\"28\"},\"results\":{\"onload_time\":38384,\"first_contentful_paint_time\":1078,\"page_elements\":1631,\"report_url\":\"https:\\/\\/gtmetrix.com\\/reports\\/www.liberation.fr\\/GH9Me0mr\",\"redirect_duration\":50,\"first_paint_time\":674,\"dom_content_loaded_duration\":null,\"dom_content_loaded_time\":2470,\"dom_interactive_time\":2457,\"page_bytes\":7833828,\"page_load_time\":38384,\"html_bytes\":54929,\"fully_loaded_time\":38685,\"html_load_time\":62,\"rum_speed_index\":1044,\"yslow_score\":39,\"pagespeed_score\":0,\"backend_duration\":6,\"onload_duration\":2,\"connect_duration\":6}}\n",
      "\n",
      "Testing La Côte ...\n",
      "Test started with 9dEmkuVX\n",
      "{\"media\":{\"Name\":\"La C\\u00f4te\",\"URL\":\"https:\\/\\/www.lacote.ch\\/\",\"media_id\":\"29\"},\"results\":{\"onload_time\":12102,\"first_contentful_paint_time\":2154,\"page_elements\":254,\"report_url\":\"https:\\/\\/gtmetrix.com\\/reports\\/www.lacote.ch\\/QALDXAu2\",\"redirect_duration\":0,\"first_paint_time\":2154,\"dom_content_loaded_duration\":null,\"dom_content_loaded_time\":3149,\"dom_interactive_time\":3148,\"page_bytes\":4783783,\"page_load_time\":12102,\"html_bytes\":68873,\"fully_loaded_time\":18282,\"html_load_time\":821,\"rum_speed_index\":3469,\"yslow_score\":46,\"pagespeed_score\":40,\"backend_duration\":319,\"onload_duration\":22,\"connect_duration\":502}}\n",
      "\n",
      "Testing Arcinfo ...\n",
      "Test started with MLGJue25\n",
      "{\"media\":{\"Name\":\"Arcinfo\",\"URL\":\"https:\\/\\/www.arcinfo.ch\\/\",\"media_id\":\"30\"},\"results\":{\"onload_time\":11736,\"first_contentful_paint_time\":2312,\"page_elements\":259,\"report_url\":\"https:\\/\\/gtmetrix.com\\/reports\\/www.arcinfo.ch\\/N67xAbRb\",\"redirect_duration\":0,\"first_paint_time\":2312,\"dom_content_loaded_duration\":null,\"dom_content_loaded_time\":4557,\"dom_interactive_time\":4556,\"page_bytes\":3857441,\"page_load_time\":11736,\"html_bytes\":72021,\"fully_loaded_time\":17751,\"html_load_time\":1286,\"rum_speed_index\":3144,\"yslow_score\":46,\"pagespeed_score\":38,\"backend_duration\":630,\"onload_duration\":10,\"connect_duration\":656}}\n",
      "\n",
      "Testing Le Nouvelliste ...\n",
      "Test started with 0XmD6vJP\n",
      "{\"media\":{\"Name\":\"Le Nouvelliste\",\"URL\":\"https:\\/\\/www.lenouvelliste.ch\\/\",\"media_id\":\"31\"},\"results\":{\"onload_time\":11513,\"first_contentful_paint_time\":1904,\"page_elements\":224,\"report_url\":\"https:\\/\\/gtmetrix.com\\/reports\\/www.lenouvelliste.ch\\/EuQJoNlS\",\"redirect_duration\":0,\"first_paint_time\":1904,\"dom_content_loaded_duration\":null,\"dom_content_loaded_time\":3923,\"dom_interactive_time\":3923,\"page_bytes\":3398065,\"page_load_time\":11513,\"html_bytes\":70273,\"fully_loaded_time\":12987,\"html_load_time\":969,\"rum_speed_index\":2588,\"yslow_score\":46,\"pagespeed_score\":42,\"backend_duration\":316,\"onload_duration\":7,\"connect_duration\":653}}\n",
      "\n",
      "Testing La Liberté ...\n",
      "Test started with hnEivfa1\n",
      "{\"media\":{\"Name\":\"La Libert\\u00e9\",\"URL\":\"https:\\/\\/www.laliberte.ch\\/\",\"media_id\":\"32\"},\"results\":{\"onload_time\":14029,\"first_contentful_paint_time\":2579,\"page_elements\":330,\"report_url\":\"https:\\/\\/gtmetrix.com\\/reports\\/www.laliberte.ch\\/kgTv6jM7\",\"redirect_duration\":0,\"first_paint_time\":2579,\"dom_content_loaded_duration\":null,\"dom_content_loaded_time\":3560,\"dom_interactive_time\":3558,\"page_bytes\":4495428,\"page_load_time\":14029,\"html_bytes\":19009,\"fully_loaded_time\":15520,\"html_load_time\":847,\"rum_speed_index\":3691,\"yslow_score\":42,\"pagespeed_score\":27,\"backend_duration\":317,\"onload_duration\":26,\"connect_duration\":530}}\n",
      "\n",
      "Testing Le Courrier ...\n",
      "Test started with fcJ6gWyH\n",
      "{\"media\":{\"Name\":\"Le Courrier\",\"URL\":\"https:\\/\\/lecourrier.ch\\/\",\"media_id\":\"33\"},\"results\":{\"onload_time\":10200,\"first_contentful_paint_time\":8209,\"page_elements\":55,\"report_url\":\"https:\\/\\/gtmetrix.com\\/reports\\/lecourrier.ch\\/tZ0EbWZT\",\"redirect_duration\":0,\"first_paint_time\":7938,\"dom_content_loaded_duration\":null,\"dom_content_loaded_time\":8895,\"dom_interactive_time\":8895,\"page_bytes\":1784737,\"page_load_time\":10200,\"html_bytes\":25133,\"fully_loaded_time\":10731,\"html_load_time\":6792,\"rum_speed_index\":8373,\"yslow_score\":80,\"pagespeed_score\":90,\"backend_duration\":6292,\"onload_duration\":9,\"connect_duration\":500}}\n",
      "\n"
     ]
    }
   ],
   "source": [
    "# Run again if failed\n",
    "target_medias = medias\n",
    "if missing_medias is not None:\n",
    "    target_medias = missing_medias\n",
    "\n",
    "for i, row in target_medias.iterrows():\n",
    "    print('Testing', row['Name'], '...')\n",
    "    media_index = i\n",
    "\n",
    "    payload = {'media': medias.loc[media_index][['Name', 'media_id', 'URL']].to_dict()}\n",
    "    r = requests.post(TESTER_URL, json=payload)\n",
    "    \n",
    "    print(r.text, end='\\n\\n')\n",
    "    \n",
    "    result = json.loads(r.text.split('\\n')[-1])\n",
    "\n",
    "    df_speed = df_speed.append(pd.DataFrame([[\n",
    "        result['media']['Name'],\n",
    "        result['media']['media_id'],\n",
    "        result['results']['pagespeed_score'],\n",
    "        result['results']['page_load_time'] / 1000,\n",
    "        result['results']['fully_loaded_time'] / 1000,\n",
    "        result['results']['report_url']\n",
    "    ]], columns=['Name', 'media_id', 'pagespeed_score', 'page_load_time', 'fully_loaded_time', 'report_url']))"
   ]
  },
  {
   "cell_type": "code",
   "execution_count": 30,
   "metadata": {
    "collapsed": true
   },
   "outputs": [],
   "source": [
    "# Use this in case you get e.g. a “The page took too long to load” or “Unable to analyze your site” error.\n",
    "# It will contain missing medias. You can loop through it in the previous cell.\n",
    "missing_medias = medias[(-medias['media_id'].isin(df_speed['media_id']))]"
   ]
  },
  {
   "cell_type": "code",
   "execution_count": 31,
   "metadata": {},
   "outputs": [
    {
     "data": {
      "text/html": [
       "<div>\n",
       "<style scoped>\n",
       "    .dataframe tbody tr th:only-of-type {\n",
       "        vertical-align: middle;\n",
       "    }\n",
       "\n",
       "    .dataframe tbody tr th {\n",
       "        vertical-align: top;\n",
       "    }\n",
       "\n",
       "    .dataframe thead th {\n",
       "        text-align: right;\n",
       "    }\n",
       "</style>\n",
       "<table border=\"1\" class=\"dataframe\">\n",
       "  <thead>\n",
       "    <tr style=\"text-align: right;\">\n",
       "      <th></th>\n",
       "      <th>media_id</th>\n",
       "      <th>Name</th>\n",
       "      <th>URL_short</th>\n",
       "      <th>URL</th>\n",
       "      <th>URL_mobile</th>\n",
       "    </tr>\n",
       "  </thead>\n",
       "  <tbody>\n",
       "  </tbody>\n",
       "</table>\n",
       "</div>"
      ],
      "text/plain": [
       "Empty DataFrame\n",
       "Columns: [media_id, Name, URL_short, URL, URL_mobile]\n",
       "Index: []"
      ]
     },
     "execution_count": 31,
     "metadata": {},
     "output_type": "execute_result"
    }
   ],
   "source": [
    "missing_medias.head(3)"
   ]
  },
  {
   "cell_type": "code",
   "execution_count": 32,
   "metadata": {},
   "outputs": [
    {
     "name": "stdout",
     "output_type": "stream",
     "text": [
      "https://gtmetrix.com/reports/www.lacote.ch/ZrEyp4s4\n"
     ]
    }
   ],
   "source": [
    "# To check for a report after an error\n",
    "print(\"https:\\/\\/gtmetrix.com\\/reports\\/www.lacote.ch\\/ZrEyp4s4\".replace('\\\\', ''))"
   ]
  },
  {
   "cell_type": "code",
   "execution_count": 34,
   "metadata": {},
   "outputs": [
    {
     "data": {
      "text/html": [
       "<div>\n",
       "<style scoped>\n",
       "    .dataframe tbody tr th:only-of-type {\n",
       "        vertical-align: middle;\n",
       "    }\n",
       "\n",
       "    .dataframe tbody tr th {\n",
       "        vertical-align: top;\n",
       "    }\n",
       "\n",
       "    .dataframe thead th {\n",
       "        text-align: right;\n",
       "    }\n",
       "</style>\n",
       "<table border=\"1\" class=\"dataframe\">\n",
       "  <thead>\n",
       "    <tr style=\"text-align: right;\">\n",
       "      <th></th>\n",
       "      <th>Name</th>\n",
       "      <th>media_id</th>\n",
       "      <th>pagespeed_score</th>\n",
       "      <th>page_load_time</th>\n",
       "      <th>fully_loaded_time</th>\n",
       "      <th>report_url</th>\n",
       "      <th>timestamp</th>\n",
       "    </tr>\n",
       "  </thead>\n",
       "  <tbody>\n",
       "    <tr>\n",
       "      <th>0</th>\n",
       "      <td>La Tribune de Genève</td>\n",
       "      <td>19</td>\n",
       "      <td>33</td>\n",
       "      <td>12.388</td>\n",
       "      <td>12.670</td>\n",
       "      <td>https://gtmetrix.com/reports/www.tdg.ch/yoxcl2hi</td>\n",
       "      <td>2018-08-03 14:21:16</td>\n",
       "    </tr>\n",
       "    <tr>\n",
       "      <th>0</th>\n",
       "      <td>24 heures</td>\n",
       "      <td>20</td>\n",
       "      <td>32</td>\n",
       "      <td>12.228</td>\n",
       "      <td>12.701</td>\n",
       "      <td>https://gtmetrix.com/reports/www.24heures.ch/E...</td>\n",
       "      <td>2018-08-03 14:21:16</td>\n",
       "    </tr>\n",
       "    <tr>\n",
       "      <th>0</th>\n",
       "      <td>Le Temps</td>\n",
       "      <td>21</td>\n",
       "      <td>48</td>\n",
       "      <td>9.794</td>\n",
       "      <td>12.257</td>\n",
       "      <td>https://gtmetrix.com/reports/www.letemps.ch/hk...</td>\n",
       "      <td>2018-08-03 14:21:16</td>\n",
       "    </tr>\n",
       "    <tr>\n",
       "      <th>0</th>\n",
       "      <td>Le Monde</td>\n",
       "      <td>22</td>\n",
       "      <td>41</td>\n",
       "      <td>8.764</td>\n",
       "      <td>9.306</td>\n",
       "      <td>https://gtmetrix.com/reports/www.lemonde.fr/gz...</td>\n",
       "      <td>2018-08-03 14:21:16</td>\n",
       "    </tr>\n",
       "    <tr>\n",
       "      <th>0</th>\n",
       "      <td>RTS info</td>\n",
       "      <td>23</td>\n",
       "      <td>56</td>\n",
       "      <td>5.405</td>\n",
       "      <td>5.847</td>\n",
       "      <td>https://gtmetrix.com/reports/www.rts.ch/ZY8w3pqZ</td>\n",
       "      <td>2018-08-03 14:21:16</td>\n",
       "    </tr>\n",
       "    <tr>\n",
       "      <th>0</th>\n",
       "      <td>20 minutes (ch)</td>\n",
       "      <td>24</td>\n",
       "      <td>21</td>\n",
       "      <td>12.562</td>\n",
       "      <td>13.875</td>\n",
       "      <td>https://gtmetrix.com/reports/www.20min.ch/J93Q...</td>\n",
       "      <td>2018-08-03 14:21:16</td>\n",
       "    </tr>\n",
       "    <tr>\n",
       "      <th>0</th>\n",
       "      <td>Le Matin</td>\n",
       "      <td>25</td>\n",
       "      <td>0</td>\n",
       "      <td>12.875</td>\n",
       "      <td>14.031</td>\n",
       "      <td>https://gtmetrix.com/reports/www.lematin.ch/NE...</td>\n",
       "      <td>2018-08-03 14:21:16</td>\n",
       "    </tr>\n",
       "    <tr>\n",
       "      <th>0</th>\n",
       "      <td>Mediapart</td>\n",
       "      <td>26</td>\n",
       "      <td>27</td>\n",
       "      <td>5.343</td>\n",
       "      <td>5.919</td>\n",
       "      <td>https://gtmetrix.com/reports/www.mediapart.fr/...</td>\n",
       "      <td>2018-08-03 14:21:16</td>\n",
       "    </tr>\n",
       "    <tr>\n",
       "      <th>0</th>\n",
       "      <td>Le Figaro</td>\n",
       "      <td>27</td>\n",
       "      <td>29</td>\n",
       "      <td>10.482</td>\n",
       "      <td>30.289</td>\n",
       "      <td>https://gtmetrix.com/reports/www.lefigaro.fr/9...</td>\n",
       "      <td>2018-08-03 14:21:16</td>\n",
       "    </tr>\n",
       "    <tr>\n",
       "      <th>0</th>\n",
       "      <td>Libération</td>\n",
       "      <td>28</td>\n",
       "      <td>0</td>\n",
       "      <td>38.384</td>\n",
       "      <td>38.685</td>\n",
       "      <td>https://gtmetrix.com/reports/www.liberation.fr...</td>\n",
       "      <td>2018-08-03 14:21:16</td>\n",
       "    </tr>\n",
       "    <tr>\n",
       "      <th>0</th>\n",
       "      <td>La Côte</td>\n",
       "      <td>29</td>\n",
       "      <td>40</td>\n",
       "      <td>12.102</td>\n",
       "      <td>18.282</td>\n",
       "      <td>https://gtmetrix.com/reports/www.lacote.ch/QAL...</td>\n",
       "      <td>2018-08-03 14:21:16</td>\n",
       "    </tr>\n",
       "    <tr>\n",
       "      <th>0</th>\n",
       "      <td>Arcinfo</td>\n",
       "      <td>30</td>\n",
       "      <td>38</td>\n",
       "      <td>11.736</td>\n",
       "      <td>17.751</td>\n",
       "      <td>https://gtmetrix.com/reports/www.arcinfo.ch/N6...</td>\n",
       "      <td>2018-08-03 14:21:16</td>\n",
       "    </tr>\n",
       "    <tr>\n",
       "      <th>0</th>\n",
       "      <td>Le Nouvelliste</td>\n",
       "      <td>31</td>\n",
       "      <td>42</td>\n",
       "      <td>11.513</td>\n",
       "      <td>12.987</td>\n",
       "      <td>https://gtmetrix.com/reports/www.lenouvelliste...</td>\n",
       "      <td>2018-08-03 14:21:16</td>\n",
       "    </tr>\n",
       "    <tr>\n",
       "      <th>0</th>\n",
       "      <td>La Liberté</td>\n",
       "      <td>32</td>\n",
       "      <td>27</td>\n",
       "      <td>14.029</td>\n",
       "      <td>15.520</td>\n",
       "      <td>https://gtmetrix.com/reports/www.laliberte.ch/...</td>\n",
       "      <td>2018-08-03 14:21:16</td>\n",
       "    </tr>\n",
       "    <tr>\n",
       "      <th>0</th>\n",
       "      <td>Le Courrier</td>\n",
       "      <td>33</td>\n",
       "      <td>90</td>\n",
       "      <td>10.200</td>\n",
       "      <td>10.731</td>\n",
       "      <td>https://gtmetrix.com/reports/lecourrier.ch/tZ0...</td>\n",
       "      <td>2018-08-03 14:21:16</td>\n",
       "    </tr>\n",
       "  </tbody>\n",
       "</table>\n",
       "</div>"
      ],
      "text/plain": [
       "                   Name media_id pagespeed_score  page_load_time  \\\n",
       "0  La Tribune de Genève       19              33          12.388   \n",
       "0             24 heures       20              32          12.228   \n",
       "0              Le Temps       21              48           9.794   \n",
       "0              Le Monde       22              41           8.764   \n",
       "0              RTS info       23              56           5.405   \n",
       "0       20 minutes (ch)       24              21          12.562   \n",
       "0              Le Matin       25               0          12.875   \n",
       "0             Mediapart       26              27           5.343   \n",
       "0             Le Figaro       27              29          10.482   \n",
       "0            Libération       28               0          38.384   \n",
       "0               La Côte       29              40          12.102   \n",
       "0               Arcinfo       30              38          11.736   \n",
       "0        Le Nouvelliste       31              42          11.513   \n",
       "0            La Liberté       32              27          14.029   \n",
       "0           Le Courrier       33              90          10.200   \n",
       "\n",
       "   fully_loaded_time                                         report_url  \\\n",
       "0             12.670   https://gtmetrix.com/reports/www.tdg.ch/yoxcl2hi   \n",
       "0             12.701  https://gtmetrix.com/reports/www.24heures.ch/E...   \n",
       "0             12.257  https://gtmetrix.com/reports/www.letemps.ch/hk...   \n",
       "0              9.306  https://gtmetrix.com/reports/www.lemonde.fr/gz...   \n",
       "0              5.847   https://gtmetrix.com/reports/www.rts.ch/ZY8w3pqZ   \n",
       "0             13.875  https://gtmetrix.com/reports/www.20min.ch/J93Q...   \n",
       "0             14.031  https://gtmetrix.com/reports/www.lematin.ch/NE...   \n",
       "0              5.919  https://gtmetrix.com/reports/www.mediapart.fr/...   \n",
       "0             30.289  https://gtmetrix.com/reports/www.lefigaro.fr/9...   \n",
       "0             38.685  https://gtmetrix.com/reports/www.liberation.fr...   \n",
       "0             18.282  https://gtmetrix.com/reports/www.lacote.ch/QAL...   \n",
       "0             17.751  https://gtmetrix.com/reports/www.arcinfo.ch/N6...   \n",
       "0             12.987  https://gtmetrix.com/reports/www.lenouvelliste...   \n",
       "0             15.520  https://gtmetrix.com/reports/www.laliberte.ch/...   \n",
       "0             10.731  https://gtmetrix.com/reports/lecourrier.ch/tZ0...   \n",
       "\n",
       "             timestamp  \n",
       "0  2018-08-03 14:21:16  \n",
       "0  2018-08-03 14:21:16  \n",
       "0  2018-08-03 14:21:16  \n",
       "0  2018-08-03 14:21:16  \n",
       "0  2018-08-03 14:21:16  \n",
       "0  2018-08-03 14:21:16  \n",
       "0  2018-08-03 14:21:16  \n",
       "0  2018-08-03 14:21:16  \n",
       "0  2018-08-03 14:21:16  \n",
       "0  2018-08-03 14:21:16  \n",
       "0  2018-08-03 14:21:16  \n",
       "0  2018-08-03 14:21:16  \n",
       "0  2018-08-03 14:21:16  \n",
       "0  2018-08-03 14:21:16  \n",
       "0  2018-08-03 14:21:16  "
      ]
     },
     "execution_count": 34,
     "metadata": {},
     "output_type": "execute_result"
    }
   ],
   "source": [
    "# add current timestamp\n",
    "df_speed['timestamp'] = datetime.datetime.now().strftime('%Y-%m-%d %H:%M:%S')\n",
    "df_speed"
   ]
  },
  {
   "cell_type": "code",
   "execution_count": 35,
   "metadata": {},
   "outputs": [
    {
     "name": "stdout",
     "output_type": "stream",
     "text": [
      "Saving to df/archive/speed_metrics_2018-08-03.csv...\n"
     ]
    }
   ],
   "source": [
    "outputfile = 'df/archive/speed_metrics_{}.csv'.format( datetime.datetime.now().strftime('%Y-%m-%d') )\n",
    "print('Saving to {}...'.format(outputfile))"
   ]
  },
  {
   "cell_type": "code",
   "execution_count": 36,
   "metadata": {
    "collapsed": true
   },
   "outputs": [],
   "source": [
    "df_speed.to_csv(outputfile) # archive\n",
    "df_speed.to_csv('df/speed_metrics.csv') # temp file"
   ]
  },
  {
   "cell_type": "code",
   "execution_count": null,
   "metadata": {
    "collapsed": true
   },
   "outputs": [],
   "source": []
  }
 ],
 "metadata": {
  "kernelspec": {
   "display_name": "Python 3",
   "language": "python",
   "name": "python3"
  },
  "language_info": {
   "codemirror_mode": {
    "name": "ipython",
    "version": 3
   },
   "file_extension": ".py",
   "mimetype": "text/x-python",
   "name": "python",
   "nbconvert_exporter": "python",
   "pygments_lexer": "ipython3",
   "version": "3.5.1"
  }
 },
 "nbformat": 4,
 "nbformat_minor": 2
}
