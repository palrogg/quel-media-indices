{
 "cells": [
  {
   "cell_type": "code",
   "execution_count": 26,
   "metadata": {
    "collapsed": true
   },
   "outputs": [],
   "source": [
    "import pandas as pd\n",
    "import requests\n",
    "from bs4 import BeautifulSoup"
   ]
  },
  {
   "cell_type": "code",
   "execution_count": 19,
   "metadata": {
    "collapsed": true
   },
   "outputs": [],
   "source": [
    "df = pd.read_csv('df/stories.csv')"
   ]
  },
  {
   "cell_type": "code",
   "execution_count": 20,
   "metadata": {},
   "outputs": [],
   "source": [
    "df = df[(df['media_id'] <= 33) & (df['media_id'] > 0)].copy()\n",
    "df = df[df['link'] == df['link']].copy()\n",
    "df = df[df['link'] != '#'].copy()"
   ]
  },
  {
   "cell_type": "code",
   "execution_count": 21,
   "metadata": {
    "collapsed": true
   },
   "outputs": [],
   "source": [
    "# Sorry for this\n",
    "def getHeading(_media_id, _link):\n",
    "    url_parts = _link.split('/')\n",
    "\n",
    "    # tg, vqh, lm        \n",
    "    if _media_id in (19, 20, 25):\n",
    "        return url_parts[1]\n",
    "            \n",
    "    # le temps\n",
    "    elif _media_id == 21:\n",
    "        if url_parts[1] == 'node':\n",
    "            return 'longform'\n",
    "        else:\n",
    "            return url_parts[1]\n",
    "    \n",
    "    # le monde\n",
    "    elif _media_id == 22:\n",
    "        return url_parts[1]\n",
    "    \n",
    "    # rts info\n",
    "    elif _media_id == 23:\n",
    "        return url_parts[2]\n",
    "    \n",
    "    # mediapart\n",
    "    elif _media_id == 26:\n",
    "        return url_parts[2]\n",
    "    \n",
    "    # Libé\n",
    "    elif _media_id == 28:\n",
    "        if url_parts[1] in ['france', 'politiques']:\n",
    "            return 'national'\n",
    "        elif url_parts[1] == 'planete':\n",
    "            return 'international'\n",
    "        else:\n",
    "            return url_parts[1]\n",
    "    \n",
    "    # 20 minutes\n",
    "    elif _media_id == 24:\n",
    "        if url_parts[2] != 'news':\n",
    "            return url_parts[2]\n",
    "            \n",
    "        else:\n",
    "            return url_parts[3]\n",
    "        \n",
    "    # le figaro (27): 3\n",
    "    elif _media_id == 27:\n",
    "        \n",
    "        return url_parts[3]\n",
    "    \n",
    "    # La Côte, Le Nouvelliste, La Liberté\n",
    "    elif _media_id in (29, 30, 31, 32):\n",
    "        if url_parts[2] in ('valais', 'regions', 'canton'):\n",
    "            return 'région'\n",
    "        else:\n",
    "            return url_parts[2]\n",
    "\n",
    "    # Le Courrier    \n",
    "    elif _media_id == 33:\n",
    "        return ''\n",
    "    \n",
    "    else:\n",
    "        print('Media', _media_id, 'not in list missing')\n",
    "        return 'missing' + str(_media_id)"
   ]
  },
  {
   "cell_type": "code",
   "execution_count": 22,
   "metadata": {},
   "outputs": [
    {
     "name": "stdout",
     "output_type": "stream",
     "text": [
      "CCCCCCCCCCCCCCCCCCCCCCCCCCCCCCCCCCCCCCCCCCCCCCCCCCCCCCCCCCCC"
     ]
    }
   ],
   "source": [
    "df['heading'] = ''\n",
    "for i, row in df.iterrows():\n",
    "    if row['media_id'] != 33: # Le Courrier: manuel\n",
    "        df.at[i, 'heading'] = getHeading(row['media_id'], row['link'])\n",
    "    else:\n",
    "        # These headings get fixed right below\n",
    "        print('C', end='')"
   ]
  },
  {
   "cell_type": "code",
   "execution_count": 24,
   "metadata": {},
   "outputs": [
    {
     "name": "stdout",
     "output_type": "stream",
     "text": [
      "We’ll get 60 missing headings for “Le Courrier”\n"
     ]
    }
   ],
   "source": [
    "# Add heading for Le Courrier\n",
    "print(\"We’ll get {} missing headings for “Le Courrier”\".format( df[df['media_id'] == 33].shape[0]) )"
   ]
  },
  {
   "cell_type": "code",
   "execution_count": 27,
   "metadata": {},
   "outputs": [
    {
     "name": "stdout",
     "output_type": "stream",
     "text": [
      "https://lecourrier.ch/2018/05/27/au-mexique-la-resistance-au-fracking-sorganise/ \n",
      "[<a class=\"c-Article-breadcrumb-tagsLink\" href=\"/theme/solidarite/\">Solidarité</a>]\n",
      "Solidarité /theme/solidarite/\n",
      "\n",
      "https://lecourrier.ch/2018/05/27/une-initiative-zero-pub-au-rabais/ \n",
      "[<a class=\"c-Article-breadcrumb-tagsLink\" href=\"/theme/geneve/\">Genève</a>]\n",
      "Genève /theme/geneve/\n",
      "\n",
      "https://lecourrier.ch/2018/05/28/inclure-le-citoyen-dans-la-decision/ \n",
      "[<a class=\"c-Article-breadcrumb-tagsLink\" href=\"/rubrique/international/\">International</a>]\n",
      "International /rubrique/international/\n",
      "\n",
      "https://lecourrier.ch/2018/05/29/budget-le-mcg-lache-la-droite/ \n",
      "[<a class=\"c-Article-breadcrumb-tagsLink\" href=\"/theme/geneve/\">Genève</a>]\n",
      "Genève /theme/geneve/\n",
      "\n",
      "https://lecourrier.ch/2018/05/28/les-tpg-accuses-de-censure-politique/ \n",
      "[<a class=\"c-Article-breadcrumb-tagsLink\" href=\"/theme/geneve/\">Genève</a>]\n",
      "Genève /theme/geneve/\n",
      "\n",
      "https://lecourrier.ch/2018/05/29/lausanne-senflamme-sur-le-deal/ \n",
      "[<a class=\"c-Article-breadcrumb-tagsLink\" href=\"/theme/vaud/\">Vaud</a>]\n",
      "Vaud /theme/vaud/\n",
      "\n",
      "https://lecourrier.ch/2018/05/29/tous-mes-chefs-ont-ferme-les-yeux/ \n",
      "[<a class=\"c-Article-breadcrumb-tagsLink\" href=\"/theme/geneve/\">Genève</a>]\n",
      "Genève /theme/geneve/\n",
      "\n",
      "https://lecourrier.ch/2018/05/29/tous-mes-chefs-ont-ferme-les-yeux/ \n",
      "[<a class=\"c-Article-breadcrumb-tagsLink\" href=\"/theme/geneve/\">Genève</a>]\n",
      "Genève /theme/geneve/\n",
      "\n",
      "https://lecourrier.ch/2018/05/30/le-ghi-et-lausanne-cite-echappent-a-christophe-blocher/ \n",
      "Error loading https://lecourrier.ch/2018/05/30/le-ghi-et-lausanne-cite-echappent-a-christophe-blocher/ \n",
      "[]\n",
      "No tag found\n",
      "\n",
      "https://lecourrier.ch/2018/05/30/le-ghi-et-lausanne-cite-echappent-a-christoph-blocher/ \n",
      "Error loading https://lecourrier.ch/2018/05/30/le-ghi-et-lausanne-cite-echappent-a-christoph-blocher/ \n",
      "[]\n",
      "No tag found\n",
      "\n",
      "https://lecourrier.ch/2018/05/30/le-ghi-et-lausanne-cites-echappent-a-christoph-blocher/ \n",
      "[<a class=\"c-Article-breadcrumb-tagsLink\" href=\"/rubrique/suisse/\">Suisse</a>]\n",
      "Suisse /rubrique/suisse/\n",
      "\n",
      "https://lecourrier.ch/2018/05/30/entre-malaise-et-indifference/ \n",
      "[<a class=\"c-Article-breadcrumb-tagsLink\" href=\"/theme/vaud/\">Vaud</a>]\n",
      "Vaud /theme/vaud/\n",
      "\n",
      "https://lecourrier.ch/2018/05/30/la-solidarite-en-proces/ \n",
      "[<a class=\"c-Article-breadcrumb-tagsLink\" href=\"/rubrique/international/\">International</a>]\n",
      "International /rubrique/international/\n",
      "\n",
      "https://lecourrier.ch/2018/05/31/le-proces-des-3-de-briancon-est-renvoye/ \n",
      "[<a class=\"c-Article-breadcrumb-tagsLink\" href=\"/rubrique/international/\">International</a>]\n",
      "International /rubrique/international/\n",
      "\n",
      "https://lecourrier.ch/2018/05/31/a-luni-le-feminin-lemporte/ \n",
      "[<a class=\"c-Article-breadcrumb-tagsLink\" href=\"/theme/neuchatel/\">Neuchâtel</a>]\n",
      "Neuchâtel /theme/neuchatel/\n",
      "\n",
      "https://lecourrier.ch/2018/05/31/nouveau-contrat-social/ \n",
      "[<a class=\"c-Article-breadcrumb-tagsLink\" href=\"/theme/geneve/\">Genève</a>]\n",
      "Genève /theme/geneve/\n",
      "\n",
      "https://lecourrier.ch/2018/06/01/la-peur-de-la-mort-regne-chez-nestle/ \n",
      "[<a class=\"c-Article-breadcrumb-tagsLink\" href=\"/theme/solidarite/\">Solidarité</a>]\n",
      "Solidarité /theme/solidarite/\n",
      "\n",
      "https://lecourrier.ch/2018/06/03/lespace-saint-martin-demenage/ \n",
      "[<a class=\"c-Article-breadcrumb-tagsLink\" href=\"/theme/vaud/\">Vaud</a>]\n",
      "Vaud /theme/vaud/\n",
      "\n",
      "https://lecourrier.ch/2018/06/03/fin-dun-privilege-ou-attaque-contre-la-police/ \n",
      "[<a class=\"c-Article-breadcrumb-tagsLink\" href=\"/rubrique/regions/\">Régions</a>]\n",
      "Régions /rubrique/regions/\n",
      "\n",
      "https://lecourrier.ch/2018/06/04/une-nuit-pour-liberer-les-genres/ \n",
      "[<a class=\"c-Article-breadcrumb-tagsLink\" href=\"/theme/egalite/\">Égalité</a>]\n",
      "Égalité /theme/egalite/\n",
      "\n",
      "https://lecourrier.ch/2018/06/04/logre-depardieu-levite-avec-laigle-noir/ \n",
      "[<a class=\"c-Article-breadcrumb-tagsLink\" href=\"/theme/musique/\">Musique</a>]\n",
      "Musique /theme/musique/\n",
      "\n",
      "https://lecourrier.ch/2018/06/04/patients-en-fin-de-vie-negliges/ \n",
      "[<a class=\"c-Article-breadcrumb-tagsLink\" href=\"/theme/geneve/\">Genève</a>]\n",
      "Genève /theme/geneve/\n",
      "\n",
      "https://lecourrier.ch/2018/06/04/semer-pour-semanciper/ \n",
      "[<a class=\"c-Article-breadcrumb-tagsLink\" href=\"/theme/solidarite/\">Solidarité</a>]\n",
      "Solidarité /theme/solidarite/\n",
      "\n",
      "https://lecourrier.ch/2018/06/05/plus-duniformes-au-centre-ville/ \n",
      "[<a class=\"c-Article-breadcrumb-tagsLink\" href=\"/theme/vaud/\">Vaud</a>]\n",
      "Vaud /theme/vaud/\n",
      "\n",
      "https://lecourrier.ch/2018/06/05/le-pav-divise-a-gauche-aussi/ \n",
      "[<a class=\"c-Article-breadcrumb-tagsLink\" href=\"/theme/geneve/\">Genève</a>]\n",
      "Genève /theme/geneve/\n",
      "\n",
      "https://lecourrier.ch/2018/06/06/litterature-mondiale-en-un-clic/ \n",
      "[<a class=\"c-Article-breadcrumb-tagsLink\" href=\"/theme/livres/\">Livres</a>]\n",
      "Livres /theme/livres/\n",
      "\n",
      "https://lecourrier.ch/2018/06/06/un-g7-pour-rien/ \n",
      "[<a class=\"c-Article-breadcrumb-tagsLink\" href=\"/rubrique/international/\">International</a>]\n",
      "International /rubrique/international/\n",
      "\n",
      "https://lecourrier.ch/2018/06/06/culture-tourmentee-a-vernier/ \n",
      "[<a class=\"c-Article-breadcrumb-tagsLink\" href=\"/theme/geneve/\">Genève</a>]\n",
      "Genève /theme/geneve/\n",
      "\n",
      "https://lecourrier.ch/2018/06/07/yemen-une-guerre-sous-traitee/ \n",
      "[<a class=\"c-Article-breadcrumb-tagsLink\" href=\"/rubrique/international/\">International</a>]\n",
      "International /rubrique/international/\n",
      "\n",
      "https://lecourrier.ch/2018/06/07/denoncer-coute-que-coute/ \n",
      "[<a class=\"c-Article-breadcrumb-tagsLink\" href=\"/theme/solidarite/\">Solidarité</a>]\n",
      "Solidarité /theme/solidarite/\n",
      "\n",
      "https://lecourrier.ch/2018/06/07/des-clowns-infiltrent-un-ems/ \n",
      "[<a class=\"c-Article-breadcrumb-tagsLink\" href=\"/theme/geneve/\">Genève</a>]\n",
      "Genève /theme/geneve/\n",
      "\n",
      "https://lecourrier.ch/2018/06/07/un-voilier-suisse-traque-leffet-de-serre/ \n",
      "[<a class=\"c-Article-breadcrumb-tagsLink\" href=\"/theme/ecologie/\">Écologie</a>]\n",
      "Écologie /theme/ecologie/\n",
      "\n",
      "https://lecourrier.ch/2018/06/08/les-evangeliques-attaquent-la-loi-sur-la-laicite/ \n",
      "[<a class=\"c-Article-breadcrumb-tagsLink\" href=\"/theme/geneve/\">Genève</a>]\n",
      "Genève /theme/geneve/\n",
      "\n",
      "https://lecourrier.ch/2018/06/10/les-genevois-disent-oui-au-pav/ \n",
      "[<a class=\"c-Article-breadcrumb-tagsLink\" href=\"/theme/geneve/\">Genève</a>]\n",
      "Genève /theme/geneve/\n",
      "\n",
      "https://lecourrier.ch/2018/06/10/g7-un-sommet-dhypocrisie/ \n",
      "[<a class=\"c-Article-breadcrumb-tagsLink\" href=\"/rubrique/international/\">International</a>]\n",
      "International /rubrique/international/\n",
      "\n",
      "https://lecourrier.ch/2018/06/11/je-mene-campagne-depuis-ma-cellule/ \n",
      "[<a class=\"c-Article-breadcrumb-tagsLink\" href=\"/theme/solidarite/\">Solidarité</a>]\n",
      "Solidarité /theme/solidarite/\n",
      "\n",
      "https://lecourrier.ch/2018/06/11/le-chef-de-cabinet-epargne/ \n",
      "[<a class=\"c-Article-breadcrumb-tagsLink\" href=\"/theme/geneve/\">Genève</a>]\n",
      "Genève /theme/geneve/\n",
      "\n",
      "https://lecourrier.ch/2018/06/12/haine-gratuite-et-invisibilisee/ \n",
      "Error loading https://lecourrier.ch/2018/06/12/haine-gratuite-et-invisibilisee/ \n",
      "[]\n",
      "No tag found\n",
      "\n",
      "https://lecourrier.ch/2018/06/12/haine-gratuite-et-invisible/ \n",
      "[<a class=\"c-Article-breadcrumb-tagsLink\" href=\"/theme/neuchatel/\">Neuchâtel</a>]\n",
      "Neuchâtel /theme/neuchatel/\n",
      "\n",
      "https://lecourrier.ch/2018/06/12/un-cours-climato-sceptique-a-calvin/ \n",
      "[<a class=\"c-Article-breadcrumb-tagsLink\" href=\"/theme/geneve/\">Genève</a>]\n",
      "Genève /theme/geneve/\n",
      "\n",
      "https://lecourrier.ch/2018/06/12/tension-sur-les-gains-des-ministres/ \n",
      "[<a class=\"c-Article-breadcrumb-tagsLink\" href=\"/theme/vaud/\">Vaud</a>]\n",
      "Vaud /theme/vaud/\n",
      "\n",
      "https://lecourrier.ch/2018/06/13/le-chef-de-cabinet-de-pierre-maudet-quitte-ses-fonctions/ \n",
      "[<a class=\"c-Article-breadcrumb-tagsLink\" href=\"/theme/geneve/\">Genève</a>]\n",
      "Genève /theme/geneve/\n",
      "\n",
      "https://lecourrier.ch/2018/06/13/une-greve-nationale-en-preparation/ \n",
      "[<a class=\"c-Article-breadcrumb-tagsLink\" href=\"/rubrique/suisse/\">Suisse</a>]\n",
      "Suisse /rubrique/suisse/\n",
      "\n",
      "https://lecourrier.ch/2018/06/14/un-bus-roule-contre-la-traite/ \n",
      "[<a class=\"c-Article-breadcrumb-tagsLink\" href=\"/theme/vaud/\">Vaud</a>]\n",
      "Vaud /theme/vaud/\n",
      "\n",
      "https://lecourrier.ch/2018/06/14/mariage-et-embuches-administratives/ \n",
      "[<a class=\"c-Article-breadcrumb-tagsLink\" href=\"/theme/geneve/\">Genève</a>]\n",
      "Genève /theme/geneve/\n",
      "\n",
      "https://lecourrier.ch/2018/06/15/le-contre-pied-a-la-dictature/ \n",
      "[<a class=\"c-Article-breadcrumb-tagsLink\" href=\"/rubrique/international/\">International</a>]\n",
      "International /rubrique/international/\n",
      "\n",
      "https://lecourrier.ch/2018/06/15/boxe-pour-survivre/ \n",
      "[<a class=\"c-Article-breadcrumb-tagsLink\" href=\"/theme/vaud/\">Vaud</a>]\n",
      "Vaud /theme/vaud/\n",
      "\n",
      "https://lecourrier.ch/2018/06/17/laffaire-du-soutien-gorge-coup-de-buste-pour-le-feminisme/ \n"
     ]
    },
    {
     "name": "stdout",
     "output_type": "stream",
     "text": [
      "[<a class=\"c-Article-breadcrumb-tagsLink\" href=\"/theme/egalite/\">Égalité</a>]\n",
      "Égalité /theme/egalite/\n",
      "\n",
      "https://lecourrier.ch/2018/06/18/super-collaboratif/ \n",
      "[<a class=\"c-Article-breadcrumb-tagsLink\" href=\"/theme/alternatives/\">Alternatives</a>]\n",
      "Alternatives /theme/alternatives/\n",
      "\n",
      "https://lecourrier.ch/2018/06/18/mexique-le-pays-des-disparus/ \n",
      "[<a class=\"c-Article-breadcrumb-tagsLink\" href=\"/theme/solidarite/\">Solidarité</a>]\n",
      "Solidarité /theme/solidarite/\n",
      "\n",
      "https://lecourrier.ch/2018/06/18/voltigeuses-dans-la-lumiere/ \n",
      "[<a class=\"c-Article-breadcrumb-tagsLink\" href=\"/theme/scene/\">Scène</a>]\n",
      "Scène /theme/scene/\n",
      "\n",
      "https://lecourrier.ch/2018/06/19/davantage-de-gym-moins-dallemand/ \n",
      "[<a class=\"c-Article-breadcrumb-tagsLink\" href=\"/theme/geneve/\">Genève</a>]\n",
      "Genève /theme/geneve/\n",
      "\n",
      "https://lecourrier.ch/2018/06/20/en-quete-douvertures/ \n",
      "[<a class=\"c-Article-breadcrumb-tagsLink\" href=\"/theme/religions/\">Religions</a>]\n",
      "Religions /theme/religions/\n",
      "\n",
      "https://lecourrier.ch/2018/06/20/grand-saconnex-annule-un-tournoi-antiraciste/ \n",
      "[<a class=\"c-Article-breadcrumb-tagsLink\" href=\"/theme/geneve/\">Genève</a>]\n",
      "Genève /theme/geneve/\n",
      "\n",
      "https://lecourrier.ch/2018/06/20/zero-jeune-a-laide-sociale/ \n",
      "[<a class=\"c-Article-breadcrumb-tagsLink\" href=\"/theme/geneve/\">Genève</a>]\n",
      "Genève /theme/geneve/\n",
      "\n",
      "https://lecourrier.ch/2018/06/20/raconter-la-migration-en-ligne/ \n",
      "[<a class=\"c-Article-breadcrumb-tagsLink\" href=\"/theme/vaud/\">Vaud</a>]\n",
      "Vaud /theme/vaud/\n",
      "\n",
      "https://lecourrier.ch/2018/06/21/sanction-politique-contre-maudet/ \n",
      "[<a class=\"c-Article-breadcrumb-tagsLink\" href=\"/theme/geneve/\">Genève</a>]\n",
      "Genève /theme/geneve/\n",
      "\n",
      "https://lecourrier.ch/2018/06/22/derniere-chance-pour-lopposition/ \n",
      "[<a class=\"c-Article-breadcrumb-tagsLink\" href=\"/rubrique/international/\">International</a>]\n",
      "International /rubrique/international/\n",
      "\n",
      "https://lecourrier.ch/2018/06/21/loppression-nest-pas-reformable/ \n",
      "[<a class=\"c-Article-breadcrumb-tagsLink\" href=\"/theme/economie/\">Économie</a>]\n",
      "Économie /theme/economie/\n",
      "\n",
      "https://lecourrier.ch/2018/06/23/la-ville-de-geneve-patauge-dans-ses-renovations/ \n",
      "[<a class=\"c-Article-breadcrumb-tagsLink\" href=\"/theme/geneve/\">Genève</a>]\n",
      "Genève /theme/geneve/\n",
      "\n"
     ]
    }
   ],
   "source": [
    "for i, row in df[df['media_id'] == 33].iterrows():\n",
    "    print(row['absolute_url'])\n",
    "    ua_headers = {'User-Agent': 'Quel-media-bot (+https://www.quel-media.com/about.html#robot)'}\n",
    "    response = requests.get(row['absolute_url'], headers=ua_headers)\n",
    "    if not response:\n",
    "        print('Error loading', row['absolute_url'])\n",
    "    elif response.status_code != 200:\n",
    "        print('Error {} when loading {}'.format( response.status_code, row['url'] ) )\n",
    "    doc = BeautifulSoup(response.content, 'html.parser')    \n",
    "    tags = doc.select('.c-Article-theme .c-Article-breadcrumb-tagsLink')\n",
    "    print(tags)\n",
    "    if len(tags) > 0:\n",
    "        tag = tags[0]\n",
    "        print(tag.string, tag.get('href'))\n",
    "        df.at[i, 'heading'] = tag.string\n",
    "    else:\n",
    "        print('No tag found')\n",
    "    print()"
   ]
  },
  {
   "cell_type": "code",
   "execution_count": 35,
   "metadata": {},
   "outputs": [],
   "source": [
    "df.to_csv('df/stories_with_heading.csv', index=False)"
   ]
  },
  {
   "cell_type": "code",
   "execution_count": null,
   "metadata": {
    "collapsed": true
   },
   "outputs": [],
   "source": []
  },
  {
   "cell_type": "code",
   "execution_count": 28,
   "metadata": {},
   "outputs": [
    {
     "data": {
      "text/plain": [
       "Genève           21\n",
       "International     8\n",
       "Vaud              8\n",
       "Solidarité        6\n",
       "                  3\n",
       "Égalité           2\n",
       "Suisse            2\n",
       "Neuchâtel         2\n",
       "Écologie          1\n",
       "Livres            1\n",
       "Économie          1\n",
       "Alternatives      1\n",
       "Scène             1\n",
       "Religions         1\n",
       "Régions           1\n",
       "Musique           1\n",
       "Name: heading, dtype: int64"
      ]
     },
     "execution_count": 28,
     "metadata": {},
     "output_type": "execute_result"
    }
   ],
   "source": [
    "df[df['media_id'] == 33]['heading'].value_counts()"
   ]
  },
  {
   "cell_type": "code",
   "execution_count": 30,
   "metadata": {},
   "outputs": [
    {
     "data": {
      "text/plain": [
       "14"
      ]
     },
     "execution_count": 30,
     "metadata": {},
     "output_type": "execute_result"
    }
   ],
   "source": [
    "len(df[(df['media_id'] == 33) & (df['heading'].isin(['International', 'Solidarité']))])"
   ]
  },
  {
   "cell_type": "code",
   "execution_count": 32,
   "metadata": {},
   "outputs": [
    {
     "data": {
      "text/plain": [
       "60"
      ]
     },
     "execution_count": 32,
     "metadata": {},
     "output_type": "execute_result"
    }
   ],
   "source": [
    "len(df[df['media_id'] == 33])"
   ]
  },
  {
   "cell_type": "code",
   "execution_count": 33,
   "metadata": {},
   "outputs": [
    {
     "data": {
      "text/plain": [
       "0.23333333333333334"
      ]
     },
     "execution_count": 33,
     "metadata": {},
     "output_type": "execute_result"
    }
   ],
   "source": [
    "14 / 60"
   ]
  }
 ],
 "metadata": {
  "kernelspec": {
   "display_name": "Python 3",
   "language": "python",
   "name": "python3"
  },
  "language_info": {
   "codemirror_mode": {
    "name": "ipython",
    "version": 3
   },
   "file_extension": ".py",
   "mimetype": "text/x-python",
   "name": "python",
   "nbconvert_exporter": "python",
   "pygments_lexer": "ipython3",
   "version": "3.5.1"
  }
 },
 "nbformat": 4,
 "nbformat_minor": 2
}
