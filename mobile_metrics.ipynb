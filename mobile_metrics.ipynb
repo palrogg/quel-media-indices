{
 "cells": [
  {
   "cell_type": "markdown",
   "metadata": {},
   "source": [
    "# Mobile Metrics\n",
    "\n",
    "Loads and saves webpagetest.org performance tests.\n",
    "\n",
    "Needs a local installation of the webpagetest tools https://github.com/WPO-Foundation/webpagetest and a mobile device or a key for the webpagetest API.\n",
    "\n",
    "A complete test may last for up to 2 hours.\n",
    "\n",
    "Feel free to contact me for help: https://www.quel-media.com/about.html#contact\n",
    "\n",
    "© Paul Ronga under Apache-2 Licence (see LICENCE.txt)."
   ]
  },
  {
   "cell_type": "code",
   "execution_count": 1,
   "metadata": {
    "collapsed": true
   },
   "outputs": [],
   "source": [
    "import pandas as pd\n",
    "import requests\n",
    "from IPython.display import HTML\n",
    "import json\n",
    "import datetime"
   ]
  },
  {
   "cell_type": "code",
   "execution_count": 2,
   "metadata": {
    "collapsed": true
   },
   "outputs": [],
   "source": [
    "# Link to local PHP files\n",
    "RUN_TEST_URL = 'http://rospo.local/~paul/webpagetest/run_mobile.php'\n",
    "GET_TEST_URL = 'http://rospo.local/~paul/webpagetest/get.php?test_id={}'"
   ]
  },
  {
   "cell_type": "code",
   "execution_count": 3,
   "metadata": {},
   "outputs": [
    {
     "data": {
      "text/html": [
       "<div>\n",
       "<style scoped>\n",
       "    .dataframe tbody tr th:only-of-type {\n",
       "        vertical-align: middle;\n",
       "    }\n",
       "\n",
       "    .dataframe tbody tr th {\n",
       "        vertical-align: top;\n",
       "    }\n",
       "\n",
       "    .dataframe thead th {\n",
       "        text-align: right;\n",
       "    }\n",
       "</style>\n",
       "<table border=\"1\" class=\"dataframe\">\n",
       "  <thead>\n",
       "    <tr style=\"text-align: right;\">\n",
       "      <th></th>\n",
       "      <th>media_id</th>\n",
       "      <th>Name</th>\n",
       "      <th>URL_short</th>\n",
       "      <th>URL</th>\n",
       "      <th>URL_mobile</th>\n",
       "    </tr>\n",
       "  </thead>\n",
       "  <tbody>\n",
       "    <tr>\n",
       "      <th>0</th>\n",
       "      <td>19</td>\n",
       "      <td>La Tribune de Genève</td>\n",
       "      <td>tdg.ch</td>\n",
       "      <td>https://www.tdg.ch/</td>\n",
       "      <td>https://m.tdg.ch</td>\n",
       "    </tr>\n",
       "    <tr>\n",
       "      <th>1</th>\n",
       "      <td>20</td>\n",
       "      <td>24 heures</td>\n",
       "      <td>24heures.ch</td>\n",
       "      <td>https://www.24heures.ch</td>\n",
       "      <td>https://m.24heures.ch</td>\n",
       "    </tr>\n",
       "  </tbody>\n",
       "</table>\n",
       "</div>"
      ],
      "text/plain": [
       "  media_id                  Name    URL_short                      URL  \\\n",
       "0       19  La Tribune de Genève       tdg.ch      https://www.tdg.ch/   \n",
       "1       20             24 heures  24heures.ch  https://www.24heures.ch   \n",
       "\n",
       "              URL_mobile  \n",
       "0       https://m.tdg.ch  \n",
       "1  https://m.24heures.ch  "
      ]
     },
     "execution_count": 3,
     "metadata": {},
     "output_type": "execute_result"
    }
   ],
   "source": [
    "# dataframe containing media id, name and URLs\n",
    "medias = pd.read_csv('df/media_list.csv')\n",
    "\n",
    "# remove Konbini ch and fr\n",
    "medias = medias[medias['media_id'] < 34].copy()\n",
    "\n",
    "# media id as string\n",
    "medias['media_id'] = medias['media_id'].apply(lambda x: str(x))\n",
    "\n",
    "medias.head(2)"
   ]
  },
  {
   "cell_type": "markdown",
   "metadata": {},
   "source": [
    "# 1. Lauch tests\n",
    "\n",
    "Lauch tests (average of 3 runs) for each media on a device monitored with the webpagetest system."
   ]
  },
  {
   "cell_type": "code",
   "execution_count": 4,
   "metadata": {
    "collapsed": true
   },
   "outputs": [],
   "source": [
    "reports = {}"
   ]
  },
  {
   "cell_type": "code",
   "execution_count": 5,
   "metadata": {},
   "outputs": [
    {
     "name": "stdout",
     "output_type": "stream",
     "text": [
      "Running test for https://m.tdg.ch\n",
      "{\"id\":\"180719_ST_e32123a493048f7940cd99b72cd8275f\", \"url\":\"https://m.tdg.ch\"}\n",
      "\n",
      "Running test for https://m.24heures.ch\n",
      "{\"id\":\"180719_VV_99adcd3ac830309c274cc17c9762f016\", \"url\":\"https://m.24heures.ch\"}\n",
      "\n",
      "Running test for https://www.letemps.ch\n",
      "{\"id\":\"180719_2B_a54a630b628f8512302e1d9f7dcf21d9\", \"url\":\"https://www.letemps.ch\"}\n",
      "\n",
      "Running test for https://mobile.lemonde.fr\n",
      "{\"id\":\"180719_A0_2aff7a58a3d4571210a54d78b360a68b\", \"url\":\"https://mobile.lemonde.fr\"}\n",
      "\n",
      "Running test for https://www.rts.ch/info/\n",
      "{\"id\":\"180719_6Y_0f7bc01bbb0ffb8ca4055611a8704584\", \"url\":\"https://www.rts.ch/info/\"}\n",
      "\n",
      "Running test for https://m.20min.ch/ro/\n",
      "{\"id\":\"180719_00_17eaeb5f803cc110c9d1753292afcc5c\", \"url\":\"https://m.20min.ch/ro/\"}\n",
      "\n",
      "Running test for https://m.lematin.ch\n",
      "{\"id\":\"180719_NJ_1c29ddc5c30f8025d1a7e9af2ebc4d7f\", \"url\":\"https://m.lematin.ch\"}\n",
      "\n",
      "Running test for https://www.mediapart.fr\n",
      "{\"id\":\"180719_YX_cb2d6236fd4f521961b99d92834c88f6\", \"url\":\"https://www.mediapart.fr\"}\n",
      "\n",
      "Running test for https://www.lefigaro.fr/\n",
      "{\"id\":\"180719_47_21174ee97b3292abcf92cff39ea83e7d\", \"url\":\"https://www.lefigaro.fr/\"}\n",
      "\n",
      "Running test for https://www.liberation.fr/\n",
      "{\"id\":\"180719_ZW_042ee9ded6c3b172b848558d4a7ba24d\", \"url\":\"https://www.liberation.fr/\"}\n",
      "\n",
      "Running test for https://www.lacote.ch/\n",
      "{\"id\":\"180719_KZ_0c6842aa24ebde870830f9076807385a\", \"url\":\"https://www.lacote.ch/\"}\n",
      "\n",
      "Running test for https://www.arcinfo.ch/\n",
      "{\"id\":\"180719_45_bbb70cf3b161db99daafb30f10569dd2\", \"url\":\"https://www.arcinfo.ch/\"}\n",
      "\n",
      "Running test for https://www.lenouvelliste.ch/\n",
      "{\"id\":\"180719_HW_65b55c3ffbd2719aa32d46146e0fb0b1\", \"url\":\"https://www.lenouvelliste.ch/\"}\n",
      "\n",
      "Running test for https://www.laliberte.ch/\n",
      "{\"id\":\"180719_0Q_465dbbb5642e46d33e1628b3151c8d56\", \"url\":\"https://www.laliberte.ch/\"}\n",
      "\n",
      "Running test for https://lecourrier.ch/\n",
      "{\"id\":\"180719_22_8c6e96e4780e1111d1f47b0f2a234444\", \"url\":\"https://lecourrier.ch/\"}\n",
      "\n"
     ]
    }
   ],
   "source": [
    "for i, row in medias.iterrows():\n",
    "    url = row['URL_mobile']\n",
    "    if url != url or url == 'x':\n",
    "        url = row['URL']\n",
    "\n",
    "    print('Running test for', url)\n",
    "\n",
    "    payload = {'url': url}\n",
    "    r = requests.post(RUN_TEST_URL, json=payload)\n",
    "    \n",
    "    print(r.text, end='\\n\\n')\n",
    "    result = r.json()\n",
    "    reports[row['media_id']] = result['id']"
   ]
  },
  {
   "cell_type": "markdown",
   "metadata": {},
   "source": [
    "# 2. Get test results\n",
    "\n",
    "Wait about one hour before trying to get these results."
   ]
  },
  {
   "cell_type": "code",
   "execution_count": 6,
   "metadata": {},
   "outputs": [
    {
     "data": {
      "text/plain": [
       "{'19': '180719_ST_e32123a493048f7940cd99b72cd8275f',\n",
       " '20': '180719_VV_99adcd3ac830309c274cc17c9762f016',\n",
       " '21': '180719_2B_a54a630b628f8512302e1d9f7dcf21d9',\n",
       " '22': '180719_A0_2aff7a58a3d4571210a54d78b360a68b',\n",
       " '23': '180719_6Y_0f7bc01bbb0ffb8ca4055611a8704584',\n",
       " '24': '180719_00_17eaeb5f803cc110c9d1753292afcc5c',\n",
       " '25': '180719_NJ_1c29ddc5c30f8025d1a7e9af2ebc4d7f',\n",
       " '26': '180719_YX_cb2d6236fd4f521961b99d92834c88f6',\n",
       " '27': '180719_47_21174ee97b3292abcf92cff39ea83e7d',\n",
       " '28': '180719_ZW_042ee9ded6c3b172b848558d4a7ba24d',\n",
       " '29': '180719_KZ_0c6842aa24ebde870830f9076807385a',\n",
       " '30': '180719_45_bbb70cf3b161db99daafb30f10569dd2',\n",
       " '31': '180719_HW_65b55c3ffbd2719aa32d46146e0fb0b1',\n",
       " '32': '180719_0Q_465dbbb5642e46d33e1628b3151c8d56',\n",
       " '33': '180719_22_8c6e96e4780e1111d1f47b0f2a234444'}"
      ]
     },
     "execution_count": 6,
     "metadata": {},
     "output_type": "execute_result"
    }
   ],
   "source": [
    "reports"
   ]
  },
  {
   "cell_type": "code",
   "execution_count": 7,
   "metadata": {
    "collapsed": true
   },
   "outputs": [],
   "source": [
    "df_speed = pd.DataFrame(columns=['Name', 'media_id', 'location', 'visualComplete', 'fullyLoaded', 'requests', 'report_url', 'completed'])"
   ]
  },
  {
   "cell_type": "code",
   "execution_count": 8,
   "metadata": {
    "collapsed": true
   },
   "outputs": [],
   "source": [
    "# r = requests.get(GET_TEST_URL.format( reports[row['media_id']] ))"
   ]
  },
  {
   "cell_type": "code",
   "execution_count": 9,
   "metadata": {
    "collapsed": true
   },
   "outputs": [],
   "source": [
    "from IPython.display import HTML\n",
    "#HTML(r.text)"
   ]
  },
  {
   "cell_type": "code",
   "execution_count": 10,
   "metadata": {},
   "outputs": [
    {
     "name": "stdout",
     "output_type": "stream",
     "text": [
      "Getting results for La Tribune de Genève ...\n",
      "<Response [200]>\n",
      "No result for La Tribune de Genève yet.\n",
      "Getting results for 24 heures ...\n",
      "<Response [200]>\n",
      "No result for 24 heures yet.\n",
      "Getting results for Le Temps ...\n",
      "<Response [200]>\n",
      "No result for Le Temps yet.\n",
      "Getting results for Le Monde ...\n",
      "<Response [200]>\n",
      "No result for Le Monde yet.\n",
      "Getting results for RTS info ...\n",
      "<Response [200]>\n",
      "No result for RTS info yet.\n",
      "Getting results for 20 minutes (ch) ...\n",
      "<Response [200]>\n",
      "No result for 20 minutes (ch) yet.\n",
      "Getting results for Le Matin ...\n",
      "<Response [200]>\n",
      "No result for Le Matin yet.\n",
      "Getting results for Mediapart ...\n",
      "<Response [200]>\n",
      "No result for Mediapart yet.\n",
      "Getting results for Le Figaro ...\n",
      "<Response [200]>\n",
      "No result for Le Figaro yet.\n",
      "Getting results for Libération ...\n",
      "<Response [200]>\n",
      "No result for Libération yet.\n",
      "Getting results for La Côte ...\n",
      "<Response [200]>\n",
      "No result for La Côte yet.\n",
      "Getting results for Arcinfo ...\n",
      "<Response [200]>\n",
      "No result for Arcinfo yet.\n",
      "Getting results for Le Nouvelliste ...\n",
      "<Response [200]>\n",
      "No result for Le Nouvelliste yet.\n",
      "Getting results for La Liberté ...\n",
      "<Response [200]>\n",
      "No result for La Liberté yet.\n",
      "Getting results for Le Courrier ...\n",
      "<Response [200]>\n",
      "No result for Le Courrier yet.\n"
     ]
    }
   ],
   "source": [
    "for i, row in medias.iterrows():\n",
    "    print('Getting results for', row['Name'], '...')\n",
    "    \n",
    "    if len(df_speed[df_speed['media_id'] == row['media_id']]) > 0:\n",
    "        print('Result already fetched.')\n",
    "    else:    \n",
    "        r = requests.get(GET_TEST_URL.format( reports[row['media_id']] ))\n",
    "        print(r)\n",
    "        try:\n",
    "            data = r.json()\n",
    "        except ValueError as e:\n",
    "            print(e)\n",
    "            print(r.text)\n",
    "\n",
    "        missing_key = False\n",
    "\n",
    "        if 'data' in data.keys() and 'average' in data['data'].keys():    \n",
    "            print('Successful first view runs:', data['data']['successfulFVRuns'])\n",
    "\n",
    "            print('Location and device were:', data['data']['location'], 'with connectivity:', data['data']['connectivity'])\n",
    "            \n",
    "            for key in ['visualComplete', 'fullyLoaded', 'requests']:\n",
    "                if key not in data['data']['average']['firstView'].keys():\n",
    "                    print('Missing key:', key)\n",
    "                    print(data['data']['average']['firstView'].keys())\n",
    "                    if key == 'visualComplete' and 'fullyLoaded' in data['data']['average']['firstView'].keys():\n",
    "                        data['data']['average']['firstView']['visualComplete'] = data['data']['average']['firstView']['fullyLoaded']\n",
    "                    else:\n",
    "                        missing_key = True\n",
    "\n",
    "            if not missing_key:\n",
    "                df_speed = df_speed.append(pd.DataFrame([[\n",
    "                    row['Name'],\n",
    "                    row['media_id'],\n",
    "                    data['data']['location'],\n",
    "                    int(data['data']['average']['firstView']['visualComplete']),\n",
    "                    int(data['data']['average']['firstView']['fullyLoaded']),\n",
    "                    int(data['data']['average']['firstView']['requests']),\n",
    "                    data['data']['summary'],\n",
    "                    data['data']['completed']\n",
    "                ]], columns=['Name', 'media_id', 'location', 'visualComplete', 'fullyLoaded', 'requests', 'report_url', 'completed']))\n",
    "            \n",
    "                with open('df/archive/mobile/{}.json'.format(data['data']['testId']), 'w') as outfile:\n",
    "                    json.dump(data['data'], outfile)\n",
    "                print('Saved to disk and json stored in df/archive/mobile/', end='\\n\\n')\n",
    "        else:\n",
    "            print('No result for {} yet.'.format(row['Name']))"
   ]
  },
  {
   "cell_type": "code",
   "execution_count": 11,
   "metadata": {
    "scrolled": true
   },
   "outputs": [
    {
     "data": {
      "text/html": [
       "<div>\n",
       "<style scoped>\n",
       "    .dataframe tbody tr th:only-of-type {\n",
       "        vertical-align: middle;\n",
       "    }\n",
       "\n",
       "    .dataframe tbody tr th {\n",
       "        vertical-align: top;\n",
       "    }\n",
       "\n",
       "    .dataframe thead th {\n",
       "        text-align: right;\n",
       "    }\n",
       "</style>\n",
       "<table border=\"1\" class=\"dataframe\">\n",
       "  <thead>\n",
       "    <tr style=\"text-align: right;\">\n",
       "      <th></th>\n",
       "      <th>Name</th>\n",
       "      <th>media_id</th>\n",
       "      <th>location</th>\n",
       "      <th>visualComplete</th>\n",
       "      <th>fullyLoaded</th>\n",
       "      <th>requests</th>\n",
       "      <th>report_url</th>\n",
       "      <th>completed</th>\n",
       "    </tr>\n",
       "  </thead>\n",
       "  <tbody>\n",
       "  </tbody>\n",
       "</table>\n",
       "</div>"
      ],
      "text/plain": [
       "Empty DataFrame\n",
       "Columns: [Name, media_id, location, visualComplete, fullyLoaded, requests, report_url, completed]\n",
       "Index: []"
      ]
     },
     "execution_count": 11,
     "metadata": {},
     "output_type": "execute_result"
    }
   ],
   "source": [
    "df_speed.sort_values('fullyLoaded')\n",
    "#df_speed.sort_values('visualComplete')"
   ]
  },
  {
   "cell_type": "code",
   "execution_count": 12,
   "metadata": {
    "scrolled": true
   },
   "outputs": [
    {
     "data": {
      "text/html": [
       "<div>\n",
       "<style scoped>\n",
       "    .dataframe tbody tr th:only-of-type {\n",
       "        vertical-align: middle;\n",
       "    }\n",
       "\n",
       "    .dataframe tbody tr th {\n",
       "        vertical-align: top;\n",
       "    }\n",
       "\n",
       "    .dataframe thead th {\n",
       "        text-align: right;\n",
       "    }\n",
       "</style>\n",
       "<table border=\"1\" class=\"dataframe\">\n",
       "  <thead>\n",
       "    <tr style=\"text-align: right;\">\n",
       "      <th></th>\n",
       "      <th>Name</th>\n",
       "      <th>media_id</th>\n",
       "      <th>location</th>\n",
       "      <th>visualComplete</th>\n",
       "      <th>fullyLoaded</th>\n",
       "      <th>requests</th>\n",
       "      <th>report_url</th>\n",
       "      <th>completed</th>\n",
       "      <th>mobile_index</th>\n",
       "    </tr>\n",
       "  </thead>\n",
       "  <tbody>\n",
       "  </tbody>\n",
       "</table>\n",
       "</div>"
      ],
      "text/plain": [
       "Empty DataFrame\n",
       "Columns: [Name, media_id, location, visualComplete, fullyLoaded, requests, report_url, completed, mobile_index]\n",
       "Index: []"
      ]
     },
     "execution_count": 12,
     "metadata": {},
     "output_type": "execute_result"
    }
   ],
   "source": [
    "df_speed['mobile_index'] = df_speed['fullyLoaded'].apply(lambda x: round(100 - (int(x)-5000)/1000))\n",
    "df_speed.sort_values('mobile_index')"
   ]
  },
  {
   "cell_type": "code",
   "execution_count": 13,
   "metadata": {},
   "outputs": [
    {
     "name": "stdout",
     "output_type": "stream",
     "text": [
      "Saving to df/archive/mobile_metrics_2018-07-19.csv...\n"
     ]
    }
   ],
   "source": [
    "outputfile = 'df/archive/mobile_metrics_{}.csv'.format( datetime.datetime.now().strftime('%Y-%m-%d') )\n",
    "print('Saving to {}...'.format(outputfile))"
   ]
  },
  {
   "cell_type": "code",
   "execution_count": 14,
   "metadata": {
    "collapsed": true
   },
   "outputs": [],
   "source": [
    "df_speed.to_csv(outputfile) # archive\n",
    "df_speed.to_csv('df/mobile_metrics.csv') # temp file"
   ]
  },
  {
   "cell_type": "markdown",
   "metadata": {},
   "source": [
    "### stop here"
   ]
  },
  {
   "cell_type": "code",
   "execution_count": 15,
   "metadata": {
    "collapsed": true
   },
   "outputs": [],
   "source": [
    "df = pd.read_csv('/Users/paul/Sites/d3_v5/indices/data/media_metrics_2018-06-17.csv')"
   ]
  },
  {
   "cell_type": "code",
   "execution_count": 16,
   "metadata": {
    "collapsed": true
   },
   "outputs": [],
   "source": [
    "df_mobile = pd.read_csv('df/mobile_metrics.csv', usecols=['media_id', 'location', 'visualComplete', 'fullyLoaded',\n",
    "       'requests', 'report_url', 'mobile_index'])"
   ]
  },
  {
   "cell_type": "code",
   "execution_count": 17,
   "metadata": {
    "collapsed": true
   },
   "outputs": [],
   "source": [
    "df.merge(df_mobile, on='media_id').to_csv('/Users/paul/Sites/d3_v5/indices/data/media_metrics_2018-06-17.csv')"
   ]
  },
  {
   "cell_type": "markdown",
   "metadata": {
    "collapsed": true
   },
   "source": [
    "### NB\n",
    "\n",
    "** This script only uses loading time. Optimization is evaluated with PageSpeed. But these 9 scores are also available: **\n",
    "```'score_cache',\n",
    "'score_cdn',\n",
    "'score_combine',\n",
    "'score_compress',\n",
    "'score_cookies',\n",
    "'score_etags',\n",
    "'score_gzip',\n",
    "'score_keep-alive',\n",
    "'score_minify'```"
   ]
  },
  {
   "cell_type": "code",
   "execution_count": null,
   "metadata": {
    "collapsed": true
   },
   "outputs": [],
   "source": []
  }
 ],
 "metadata": {
  "kernelspec": {
   "display_name": "Python 3",
   "language": "python",
   "name": "python3"
  },
  "language_info": {
   "codemirror_mode": {
    "name": "ipython",
    "version": 3
   },
   "file_extension": ".py",
   "mimetype": "text/x-python",
   "name": "python",
   "nbconvert_exporter": "python",
   "pygments_lexer": "ipython3",
   "version": "3.5.1"
  }
 },
 "nbformat": 4,
 "nbformat_minor": 2
}
